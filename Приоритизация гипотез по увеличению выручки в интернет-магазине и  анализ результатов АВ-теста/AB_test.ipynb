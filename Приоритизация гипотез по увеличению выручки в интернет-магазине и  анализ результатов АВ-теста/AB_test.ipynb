{
  "cells": [
    {
      "cell_type": "markdown",
      "metadata": {
        "id": "3JRjVyo4zcXk"
      },
      "source": [
        "# <center>Проверка гипотез по увеличению выручки в интернет-магазине, с оценкой результата A/B теста</center>"
      ]
    },
    {
      "cell_type": "markdown",
      "metadata": {
        "id": "mngyI4sfzcX1"
      },
      "source": [
        "**Цели исследования:** Провести приоритизацию, представленных гипотез, с использованием фреймворков `ICE` и `RICE`. Проанализировать результаты А/В теста.\n",
        "\n",
        "**Часть 1. Приоритизация гипотез**\n",
        "Представленны 9 гипотез по увеличению выручки интернет-магазина с указанными параметрами Reach, Impact, Confidence, Effort.\n",
        "\n",
        "**Часть 2. Анализ результатов A/B-теста**\n",
        "Представленны два датафрейма с информацией по заказам и посетителям интернет-магазина.\n",
        "\n",
        "**План работ:**\n",
        " - Провести обзор данных\n",
        " - Сделать предобработку данных\n",
        " - Приоритезация гипотез\n",
        " - Анализ результатов А/В-теста\n",
        " - Выводы и рекомендации"
      ]
    },
    {
      "cell_type": "markdown",
      "source": [
        "**Оглавление**\n",
        "1. Обзор данных\n",
        "2. Предобработка данных\n",
        "3. Приоритезация гипотез\n",
        "4. Анализ А/В-теста\n",
        "5. Дополнительные расчеты\n",
        "6. Выводы\n",
        "7. Рекомендации"
      ],
      "metadata": {
        "id": "nWq_UZgOdB0P"
      }
    },
    {
      "cell_type": "markdown",
      "metadata": {
        "id": "Iv2jFgyBzcX3"
      },
      "source": [
        "## Обзор данных"
      ]
    },
    {
      "cell_type": "code",
      "execution_count": null,
      "metadata": {
        "id": "qDZwVnKIzcX3"
      },
      "outputs": [],
      "source": [
        "import pandas as pd\n",
        "import numpy as np\n",
        "import matplotlib.pyplot as plt\n",
        "from scipy import stats as st\n",
        "import datetime as dt\n",
        "import scipy.stats as stats\n",
        "pd.options.display.max_colwidth = 110"
      ]
    },
    {
      "cell_type": "code",
      "execution_count": null,
      "metadata": {
        "id": "8MKcCE9wzcX4"
      },
      "outputs": [],
      "source": [
        "hypothesis = pd.read_csv('/datasets/hypothesis.csv')\n",
        "orders = pd.read_csv('/datasets/orders.csv')\n",
        "visitors = pd.read_csv('/datasets/visitors.csv')"
      ]
    },
    {
      "cell_type": "code",
      "execution_count": null,
      "metadata": {
        "id": "pn8JI4YEzcX4",
        "outputId": "2bdaf871-11e6-4021-87d5-073a14ffd472"
      },
      "outputs": [
        {
          "name": "stdout",
          "output_type": "stream",
          "text": [
            "<class 'pandas.core.frame.DataFrame'>\n",
            "RangeIndex: 9 entries, 0 to 8\n",
            "Data columns (total 5 columns):\n",
            " #   Column      Non-Null Count  Dtype \n",
            "---  ------      --------------  ----- \n",
            " 0   Hypothesis  9 non-null      object\n",
            " 1   Reach       9 non-null      int64 \n",
            " 2   Impact      9 non-null      int64 \n",
            " 3   Confidence  9 non-null      int64 \n",
            " 4   Efforts     9 non-null      int64 \n",
            "dtypes: int64(4), object(1)\n",
            "memory usage: 488.0+ bytes\n"
          ]
        }
      ],
      "source": [
        "hypothesis.info()"
      ]
    },
    {
      "cell_type": "code",
      "execution_count": null,
      "metadata": {
        "id": "YISsbYcSzcX5",
        "outputId": "0527ac7d-7df0-4de0-af47-e63d091f413c"
      },
      "outputs": [
        {
          "name": "stdout",
          "output_type": "stream",
          "text": [
            "<class 'pandas.core.frame.DataFrame'>\n",
            "RangeIndex: 1197 entries, 0 to 1196\n",
            "Data columns (total 5 columns):\n",
            " #   Column         Non-Null Count  Dtype \n",
            "---  ------         --------------  ----- \n",
            " 0   transactionId  1197 non-null   int64 \n",
            " 1   visitorId      1197 non-null   int64 \n",
            " 2   date           1197 non-null   object\n",
            " 3   revenue        1197 non-null   int64 \n",
            " 4   group          1197 non-null   object\n",
            "dtypes: int64(3), object(2)\n",
            "memory usage: 46.9+ KB\n"
          ]
        }
      ],
      "source": [
        "orders.info()"
      ]
    },
    {
      "cell_type": "code",
      "execution_count": null,
      "metadata": {
        "id": "f0ihOVa-zcX5",
        "outputId": "e0afa60c-8650-4613-865d-7a1e9957c56d"
      },
      "outputs": [
        {
          "data": {
            "text/plain": [
              "('2019-08-01', '2019-08-31')"
            ]
          },
          "execution_count": 5,
          "metadata": {},
          "output_type": "execute_result"
        }
      ],
      "source": [
        "min(orders['date']), max(orders['date'])"
      ]
    },
    {
      "cell_type": "code",
      "execution_count": null,
      "metadata": {
        "id": "fE-dOLutzcX5",
        "outputId": "224e3fdc-00a6-429d-e771-7ebdec807005"
      },
      "outputs": [
        {
          "name": "stdout",
          "output_type": "stream",
          "text": [
            "<class 'pandas.core.frame.DataFrame'>\n",
            "RangeIndex: 62 entries, 0 to 61\n",
            "Data columns (total 3 columns):\n",
            " #   Column    Non-Null Count  Dtype \n",
            "---  ------    --------------  ----- \n",
            " 0   date      62 non-null     object\n",
            " 1   group     62 non-null     object\n",
            " 2   visitors  62 non-null     int64 \n",
            "dtypes: int64(1), object(2)\n",
            "memory usage: 1.6+ KB\n"
          ]
        }
      ],
      "source": [
        "visitors.info()"
      ]
    },
    {
      "cell_type": "code",
      "execution_count": null,
      "metadata": {
        "id": "Y4uJaEZnzcX7",
        "outputId": "88e32452-2cce-4948-c127-a1005b275ca7"
      },
      "outputs": [
        {
          "data": {
            "text/plain": [
              "('2019-08-01', '2019-08-31')"
            ]
          },
          "execution_count": 7,
          "metadata": {},
          "output_type": "execute_result"
        }
      ],
      "source": [
        "min(visitors['date']), max(visitors['date'])"
      ]
    },
    {
      "cell_type": "code",
      "execution_count": null,
      "metadata": {
        "id": "AsfTBVeKzcX7",
        "outputId": "4d2e0518-8ab5-4ffa-cfc2-347846878e49"
      },
      "outputs": [
        {
          "data": {
            "text/html": [
              "<div>\n",
              "<style scoped>\n",
              "    .dataframe tbody tr th:only-of-type {\n",
              "        vertical-align: middle;\n",
              "    }\n",
              "\n",
              "    .dataframe tbody tr th {\n",
              "        vertical-align: top;\n",
              "    }\n",
              "\n",
              "    .dataframe thead th {\n",
              "        text-align: right;\n",
              "    }\n",
              "</style>\n",
              "<table border=\"1\" class=\"dataframe\">\n",
              "  <thead>\n",
              "    <tr style=\"text-align: right;\">\n",
              "      <th></th>\n",
              "      <th>Hypothesis</th>\n",
              "      <th>Reach</th>\n",
              "      <th>Impact</th>\n",
              "      <th>Confidence</th>\n",
              "      <th>Efforts</th>\n",
              "    </tr>\n",
              "  </thead>\n",
              "  <tbody>\n",
              "    <tr>\n",
              "      <th>0</th>\n",
              "      <td>Добавить два новых канала привлечения трафика, что позволит привлекать на 30% больше пользователей</td>\n",
              "      <td>3</td>\n",
              "      <td>10</td>\n",
              "      <td>8</td>\n",
              "      <td>6</td>\n",
              "    </tr>\n",
              "    <tr>\n",
              "      <th>1</th>\n",
              "      <td>Запустить собственную службу доставки, что сократит срок доставки заказов</td>\n",
              "      <td>2</td>\n",
              "      <td>5</td>\n",
              "      <td>4</td>\n",
              "      <td>10</td>\n",
              "    </tr>\n",
              "    <tr>\n",
              "      <th>2</th>\n",
              "      <td>Добавить блоки рекомендаций товаров на сайт интернет магазина, чтобы повысить конверсию и средний чек заказа</td>\n",
              "      <td>8</td>\n",
              "      <td>3</td>\n",
              "      <td>7</td>\n",
              "      <td>3</td>\n",
              "    </tr>\n",
              "    <tr>\n",
              "      <th>3</th>\n",
              "      <td>Изменить структура категорий, что увеличит конверсию, т.к. пользователи быстрее найдут нужный товар</td>\n",
              "      <td>8</td>\n",
              "      <td>3</td>\n",
              "      <td>3</td>\n",
              "      <td>8</td>\n",
              "    </tr>\n",
              "    <tr>\n",
              "      <th>4</th>\n",
              "      <td>Изменить цвет фона главной страницы, чтобы увеличить вовлеченность пользователей</td>\n",
              "      <td>3</td>\n",
              "      <td>1</td>\n",
              "      <td>1</td>\n",
              "      <td>1</td>\n",
              "    </tr>\n",
              "    <tr>\n",
              "      <th>5</th>\n",
              "      <td>Добавить страницу отзывов клиентов о магазине, что позволит увеличить количество заказов</td>\n",
              "      <td>3</td>\n",
              "      <td>2</td>\n",
              "      <td>2</td>\n",
              "      <td>3</td>\n",
              "    </tr>\n",
              "    <tr>\n",
              "      <th>6</th>\n",
              "      <td>Показать на главной странице баннеры с актуальными акциями и распродажами, чтобы увеличить конверсию</td>\n",
              "      <td>5</td>\n",
              "      <td>3</td>\n",
              "      <td>8</td>\n",
              "      <td>3</td>\n",
              "    </tr>\n",
              "    <tr>\n",
              "      <th>7</th>\n",
              "      <td>Добавить форму подписки на все основные страницы, чтобы собрать базу клиентов для email-рассылок</td>\n",
              "      <td>10</td>\n",
              "      <td>7</td>\n",
              "      <td>8</td>\n",
              "      <td>5</td>\n",
              "    </tr>\n",
              "    <tr>\n",
              "      <th>8</th>\n",
              "      <td>Запустить акцию, дающую скидку на товар в день рождения</td>\n",
              "      <td>1</td>\n",
              "      <td>9</td>\n",
              "      <td>9</td>\n",
              "      <td>5</td>\n",
              "    </tr>\n",
              "  </tbody>\n",
              "</table>\n",
              "</div>"
            ],
            "text/plain": [
              "                                                                                                     Hypothesis  \\\n",
              "0            Добавить два новых канала привлечения трафика, что позволит привлекать на 30% больше пользователей   \n",
              "1                                     Запустить собственную службу доставки, что сократит срок доставки заказов   \n",
              "2  Добавить блоки рекомендаций товаров на сайт интернет магазина, чтобы повысить конверсию и средний чек заказа   \n",
              "3           Изменить структура категорий, что увеличит конверсию, т.к. пользователи быстрее найдут нужный товар   \n",
              "4                              Изменить цвет фона главной страницы, чтобы увеличить вовлеченность пользователей   \n",
              "5                      Добавить страницу отзывов клиентов о магазине, что позволит увеличить количество заказов   \n",
              "6          Показать на главной странице баннеры с актуальными акциями и распродажами, чтобы увеличить конверсию   \n",
              "7              Добавить форму подписки на все основные страницы, чтобы собрать базу клиентов для email-рассылок   \n",
              "8                                                       Запустить акцию, дающую скидку на товар в день рождения   \n",
              "\n",
              "   Reach  Impact  Confidence  Efforts  \n",
              "0      3      10           8        6  \n",
              "1      2       5           4       10  \n",
              "2      8       3           7        3  \n",
              "3      8       3           3        8  \n",
              "4      3       1           1        1  \n",
              "5      3       2           2        3  \n",
              "6      5       3           8        3  \n",
              "7     10       7           8        5  \n",
              "8      1       9           9        5  "
            ]
          },
          "execution_count": 8,
          "metadata": {},
          "output_type": "execute_result"
        }
      ],
      "source": [
        "hypothesis"
      ]
    },
    {
      "cell_type": "code",
      "execution_count": null,
      "metadata": {
        "id": "m2wUV1odzcX8",
        "outputId": "b1a5e593-e4ce-404d-808f-caece687caa2"
      },
      "outputs": [
        {
          "data": {
            "text/html": [
              "<div>\n",
              "<style scoped>\n",
              "    .dataframe tbody tr th:only-of-type {\n",
              "        vertical-align: middle;\n",
              "    }\n",
              "\n",
              "    .dataframe tbody tr th {\n",
              "        vertical-align: top;\n",
              "    }\n",
              "\n",
              "    .dataframe thead th {\n",
              "        text-align: right;\n",
              "    }\n",
              "</style>\n",
              "<table border=\"1\" class=\"dataframe\">\n",
              "  <thead>\n",
              "    <tr style=\"text-align: right;\">\n",
              "      <th></th>\n",
              "      <th>transactionId</th>\n",
              "      <th>visitorId</th>\n",
              "      <th>date</th>\n",
              "      <th>revenue</th>\n",
              "      <th>group</th>\n",
              "    </tr>\n",
              "  </thead>\n",
              "  <tbody>\n",
              "    <tr>\n",
              "      <th>0</th>\n",
              "      <td>3667963787</td>\n",
              "      <td>3312258926</td>\n",
              "      <td>2019-08-15</td>\n",
              "      <td>1650</td>\n",
              "      <td>B</td>\n",
              "    </tr>\n",
              "    <tr>\n",
              "      <th>1</th>\n",
              "      <td>2804400009</td>\n",
              "      <td>3642806036</td>\n",
              "      <td>2019-08-15</td>\n",
              "      <td>730</td>\n",
              "      <td>B</td>\n",
              "    </tr>\n",
              "    <tr>\n",
              "      <th>2</th>\n",
              "      <td>2961555356</td>\n",
              "      <td>4069496402</td>\n",
              "      <td>2019-08-15</td>\n",
              "      <td>400</td>\n",
              "      <td>A</td>\n",
              "    </tr>\n",
              "    <tr>\n",
              "      <th>3</th>\n",
              "      <td>3797467345</td>\n",
              "      <td>1196621759</td>\n",
              "      <td>2019-08-15</td>\n",
              "      <td>9759</td>\n",
              "      <td>B</td>\n",
              "    </tr>\n",
              "    <tr>\n",
              "      <th>4</th>\n",
              "      <td>2282983706</td>\n",
              "      <td>2322279887</td>\n",
              "      <td>2019-08-15</td>\n",
              "      <td>2308</td>\n",
              "      <td>B</td>\n",
              "    </tr>\n",
              "  </tbody>\n",
              "</table>\n",
              "</div>"
            ],
            "text/plain": [
              "   transactionId   visitorId        date  revenue group\n",
              "0     3667963787  3312258926  2019-08-15     1650     B\n",
              "1     2804400009  3642806036  2019-08-15      730     B\n",
              "2     2961555356  4069496402  2019-08-15      400     A\n",
              "3     3797467345  1196621759  2019-08-15     9759     B\n",
              "4     2282983706  2322279887  2019-08-15     2308     B"
            ]
          },
          "execution_count": 9,
          "metadata": {},
          "output_type": "execute_result"
        }
      ],
      "source": [
        "orders.head()"
      ]
    },
    {
      "cell_type": "code",
      "execution_count": null,
      "metadata": {
        "id": "WH2Xto3NzcX8",
        "outputId": "78ce4fc3-9223-4a0c-d6c5-c0e195b345a7"
      },
      "outputs": [
        {
          "data": {
            "text/html": [
              "<div>\n",
              "<style scoped>\n",
              "    .dataframe tbody tr th:only-of-type {\n",
              "        vertical-align: middle;\n",
              "    }\n",
              "\n",
              "    .dataframe tbody tr th {\n",
              "        vertical-align: top;\n",
              "    }\n",
              "\n",
              "    .dataframe thead th {\n",
              "        text-align: right;\n",
              "    }\n",
              "</style>\n",
              "<table border=\"1\" class=\"dataframe\">\n",
              "  <thead>\n",
              "    <tr style=\"text-align: right;\">\n",
              "      <th></th>\n",
              "      <th>date</th>\n",
              "      <th>group</th>\n",
              "      <th>visitors</th>\n",
              "    </tr>\n",
              "  </thead>\n",
              "  <tbody>\n",
              "    <tr>\n",
              "      <th>0</th>\n",
              "      <td>2019-08-01</td>\n",
              "      <td>A</td>\n",
              "      <td>719</td>\n",
              "    </tr>\n",
              "    <tr>\n",
              "      <th>1</th>\n",
              "      <td>2019-08-02</td>\n",
              "      <td>A</td>\n",
              "      <td>619</td>\n",
              "    </tr>\n",
              "    <tr>\n",
              "      <th>2</th>\n",
              "      <td>2019-08-03</td>\n",
              "      <td>A</td>\n",
              "      <td>507</td>\n",
              "    </tr>\n",
              "    <tr>\n",
              "      <th>3</th>\n",
              "      <td>2019-08-04</td>\n",
              "      <td>A</td>\n",
              "      <td>717</td>\n",
              "    </tr>\n",
              "    <tr>\n",
              "      <th>4</th>\n",
              "      <td>2019-08-05</td>\n",
              "      <td>A</td>\n",
              "      <td>756</td>\n",
              "    </tr>\n",
              "  </tbody>\n",
              "</table>\n",
              "</div>"
            ],
            "text/plain": [
              "         date group  visitors\n",
              "0  2019-08-01     A       719\n",
              "1  2019-08-02     A       619\n",
              "2  2019-08-03     A       507\n",
              "3  2019-08-04     A       717\n",
              "4  2019-08-05     A       756"
            ]
          },
          "execution_count": 10,
          "metadata": {},
          "output_type": "execute_result"
        }
      ],
      "source": [
        "visitors.head()"
      ]
    },
    {
      "cell_type": "markdown",
      "metadata": {
        "id": "l8QvaGftzcX8"
      },
      "source": [
        "### Вывод\n",
        "\n",
        "- Для приоритезации представленны 9 гипотез\n",
        "- А/В тест проводился 31 день\n",
        "- Необходимо привести к стандартному названия колонок\n",
        "- Изменение типа данных"
      ]
    },
    {
      "cell_type": "markdown",
      "metadata": {
        "id": "6SsySZwzzcX9"
      },
      "source": [
        "## Предобработка данных"
      ]
    },
    {
      "cell_type": "markdown",
      "metadata": {
        "id": "T-XykhT0zcX9"
      },
      "source": [
        "### Изменение название колонок и форматов данных в датафреймах "
      ]
    },
    {
      "cell_type": "code",
      "execution_count": null,
      "metadata": {
        "id": "NQbS6H1NzcX9"
      },
      "outputs": [],
      "source": [
        "hypothesis.columns = ['hypothesis', 'reach', 'impact', 'confidence', 'efforts']\n",
        "orders.columns = ['transaction_id', 'visitor_id', 'date', 'revenue', 'group']"
      ]
    },
    {
      "cell_type": "code",
      "execution_count": null,
      "metadata": {
        "id": "CGwjacvnzcX-"
      },
      "outputs": [],
      "source": [
        "orders['date'] = pd.to_datetime(orders['date'])\n",
        "visitors['date'] = pd.to_datetime(visitors['date'])"
      ]
    },
    {
      "cell_type": "code",
      "execution_count": null,
      "metadata": {
        "id": "3MardoQTzcX-",
        "outputId": "65033417-d92b-44f8-dd95-102c1f0b94cb"
      },
      "outputs": [
        {
          "name": "stdout",
          "output_type": "stream",
          "text": [
            "<class 'pandas.core.frame.DataFrame'>\n",
            "RangeIndex: 1197 entries, 0 to 1196\n",
            "Data columns (total 5 columns):\n",
            " #   Column          Non-Null Count  Dtype         \n",
            "---  ------          --------------  -----         \n",
            " 0   transaction_id  1197 non-null   int64         \n",
            " 1   visitor_id      1197 non-null   int64         \n",
            " 2   date            1197 non-null   datetime64[ns]\n",
            " 3   revenue         1197 non-null   int64         \n",
            " 4   group           1197 non-null   object        \n",
            "dtypes: datetime64[ns](1), int64(3), object(1)\n",
            "memory usage: 46.9+ KB\n",
            "<class 'pandas.core.frame.DataFrame'>\n",
            "RangeIndex: 62 entries, 0 to 61\n",
            "Data columns (total 3 columns):\n",
            " #   Column    Non-Null Count  Dtype         \n",
            "---  ------    --------------  -----         \n",
            " 0   date      62 non-null     datetime64[ns]\n",
            " 1   group     62 non-null     object        \n",
            " 2   visitors  62 non-null     int64         \n",
            "dtypes: datetime64[ns](1), int64(1), object(1)\n",
            "memory usage: 1.6+ KB\n"
          ]
        }
      ],
      "source": [
        "orders.info()\n",
        "visitors.info()"
      ]
    },
    {
      "cell_type": "markdown",
      "metadata": {
        "id": "te4MjWZTzcX-"
      },
      "source": [
        "### Проверка на дубликаты"
      ]
    },
    {
      "cell_type": "code",
      "execution_count": null,
      "metadata": {
        "id": "u5EcBz5pzcX-",
        "outputId": "d66018c9-afdb-41cf-d9ff-e14e54af5b81"
      },
      "outputs": [
        {
          "data": {
            "text/plain": [
              "(0, 0, 0)"
            ]
          },
          "execution_count": 14,
          "metadata": {},
          "output_type": "execute_result"
        }
      ],
      "source": [
        "orders.duplicated().sum(), visitors.duplicated().sum(), hypothesis.duplicated().sum()"
      ]
    },
    {
      "cell_type": "markdown",
      "metadata": {
        "id": "8QEAXSufzcX_"
      },
      "source": [
        "Явных дубликатов в данных нет"
      ]
    },
    {
      "cell_type": "markdown",
      "metadata": {
        "id": "MNrF5v-qzcX_"
      },
      "source": [
        "### Исследование датафреймов"
      ]
    },
    {
      "cell_type": "code",
      "execution_count": null,
      "metadata": {
        "id": "Ja4lvI8NzcX_",
        "outputId": "55337e15-a7d7-485c-b00c-b18045bf23c1"
      },
      "outputs": [
        {
          "data": {
            "image/png": "[encoded data removed]",
            "text/plain": [
              "<Figure size 1080x360 with 1 Axes>"
            ]
          },
          "metadata": {
            "needs_background": "light"
          },
          "output_type": "display_data"
        }
      ],
      "source": [
        "plt.figure(figsize=(15, 5))\n",
        "for group, group_data in visitors.groupby('group'):\n",
        "    plt.plot(group_data['date'], group_data['visitors'], label=group)\n",
        "    plt.title(\"Динамика посещения по посетителям из каждой группы по дням\")\n",
        "    plt.xlabel('Период')\n",
        "    plt.ylabel('Колиечство посетителей')\n",
        "    plt.grid(True)\n",
        "    plt.legend();\n",
        "plt.show()"
      ]
    },
    {
      "cell_type": "code",
      "execution_count": null,
      "metadata": {
        "id": "0xTQ3Vu6zcX_",
        "outputId": "dde231dd-6573-4779-ec53-4748344c0b37"
      },
      "outputs": [
        {
          "data": {
            "text/html": [
              "<div>\n",
              "<style scoped>\n",
              "    .dataframe tbody tr th:only-of-type {\n",
              "        vertical-align: middle;\n",
              "    }\n",
              "\n",
              "    .dataframe tbody tr th {\n",
              "        vertical-align: top;\n",
              "    }\n",
              "\n",
              "    .dataframe thead th {\n",
              "        text-align: right;\n",
              "    }\n",
              "</style>\n",
              "<table border=\"1\" class=\"dataframe\">\n",
              "  <thead>\n",
              "    <tr style=\"text-align: right;\">\n",
              "      <th></th>\n",
              "      <th>visitor_id</th>\n",
              "    </tr>\n",
              "    <tr>\n",
              "      <th>group</th>\n",
              "      <th></th>\n",
              "    </tr>\n",
              "  </thead>\n",
              "  <tbody>\n",
              "    <tr>\n",
              "      <th>A</th>\n",
              "      <td>503</td>\n",
              "    </tr>\n",
              "    <tr>\n",
              "      <th>B</th>\n",
              "      <td>586</td>\n",
              "    </tr>\n",
              "  </tbody>\n",
              "</table>\n",
              "</div>"
            ],
            "text/plain": [
              "       visitor_id\n",
              "group            \n",
              "A             503\n",
              "B             586"
            ]
          },
          "execution_count": 16,
          "metadata": {},
          "output_type": "execute_result"
        }
      ],
      "source": [
        "orders.groupby('group').agg({'visitor_id': 'nunique'})"
      ]
    },
    {
      "cell_type": "markdown",
      "metadata": {
        "id": "Bq-tAVeCzcX_"
      },
      "source": [
        "Количество уникальных пользователей в каждой группе"
      ]
    },
    {
      "cell_type": "code",
      "execution_count": null,
      "metadata": {
        "id": "v4783zsGzcX_"
      },
      "outputs": [],
      "source": [
        "group_b_visitors = orders.query('group == \"B\"')['visitor_id'].unique()"
      ]
    },
    {
      "cell_type": "code",
      "execution_count": null,
      "metadata": {
        "id": "wDEtgerSzcYA"
      },
      "outputs": [],
      "source": [
        "group_a_visitors = orders.query('group == \"A\"')['visitor_id'].unique()"
      ]
    },
    {
      "cell_type": "markdown",
      "metadata": {
        "id": "1VH1GuhJzcYA"
      },
      "source": [
        "Пользователи, которые попали в обе группы и их процентное отношение относительно общей выборки"
      ]
    },
    {
      "cell_type": "code",
      "execution_count": null,
      "metadata": {
        "id": "L0f1zICizcYA"
      },
      "outputs": [],
      "source": [
        "visitors_in_both_groups = orders.groupby('visitor_id').agg({'group': 'nunique'}).reset_index().query('group > 1')"
      ]
    },
    {
      "cell_type": "code",
      "execution_count": null,
      "metadata": {
        "scrolled": true,
        "id": "W9JlX9M7zcYA",
        "outputId": "09f29393-6d60-44c1-d7dd-bca24d987fa4"
      },
      "outputs": [
        {
          "data": {
            "text/plain": [
              "58"
            ]
          },
          "execution_count": 20,
          "metadata": {},
          "output_type": "execute_result"
        }
      ],
      "source": [
        "visitors_in_both_groups.visitor_id.count()"
      ]
    },
    {
      "cell_type": "code",
      "execution_count": null,
      "metadata": {
        "id": "FY_3Xr81zcYA",
        "outputId": "0f73cc47-1941-4357-90a2-fae0a23399d0"
      },
      "outputs": [
        {
          "data": {
            "text/plain": [
              "15.12"
            ]
          },
          "execution_count": 21,
          "metadata": {},
          "output_type": "execute_result"
        }
      ],
      "source": [
        "round(len(orders.query('visitor_id in @visitors_in_both_groups[\"visitor_id\"]')) / len(orders) * 100, 2)"
      ]
    },
    {
      "cell_type": "code",
      "execution_count": null,
      "metadata": {
        "id": "gBmYpaVNzcYA",
        "outputId": "8e170896-863e-42aa-9386-b9b069a32c4b"
      },
      "outputs": [
        {
          "data": {
            "text/plain": [
              "15.6"
            ]
          },
          "execution_count": 22,
          "metadata": {},
          "output_type": "execute_result"
        }
      ],
      "source": [
        "round(orders.query('visitor_id in @visitors_in_both_groups[\"visitor_id\"]').revenue.sum() / orders.revenue.sum() * 100, 2)"
      ]
    },
    {
      "cell_type": "markdown",
      "metadata": {
        "id": "5lvRaGTHzcYB"
      },
      "source": [
        "**ВЫВОД**\n",
        "\n",
        "- Изменили название колонок, привели к формату datetime данные о датах\n",
        "- В тестирование представленны две группы (А и В)\n",
        "- Динамика посещения по посетителям из каждой группы по дням, говорит о том, что в субботу(иногда в пятницу) видно сильные провалы по посещению\n",
        "- Есть посетители, которые попали в обе группы, они составляют 15,12% от общего количества посетителей, которые что-то приобрели и 15,6% от общего объема выручки, удалять такой большой объем информации не целесообразно. Также данных пользователей нельзя удалить, по причине того, что данные в датафрейме visitors уже агрегированы и удалить их оттуда невозможно."
      ]
    },
    {
      "cell_type": "markdown",
      "metadata": {
        "id": "QZxHc49QzcYB"
      },
      "source": [
        "## Приоритезация гипотез"
      ]
    },
    {
      "cell_type": "markdown",
      "metadata": {
        "id": "VP2Yt88GzcYB"
      },
      "source": [
        "Фреймворк `ICE` - это метод приоритизации идей или фич. Рассчитывается по формулу  (Impact * Confidence) / Efforts.\n",
        "\n",
        "Фреймворк `RICE` - это метод приоритизации идей или фич. Рассчитывается по формулу  (Reach * Impact * Confidence) / Efforts, отличается от `ICE` наличием параметра Reach.\n",
        "\n",
        "- Reach — охват\n",
        "- Impact — влияние\n",
        "- Confidence — уверенность в вашей оценке охвата, влияния и трудозатрат\n",
        "- Effort — трудозатраты"
      ]
    },
    {
      "cell_type": "markdown",
      "metadata": {
        "id": "3TMV4ynVzcYB"
      },
      "source": [
        "### Приоритезация гипотез методом `ICE`"
      ]
    },
    {
      "cell_type": "code",
      "execution_count": null,
      "metadata": {
        "id": "OprBabGOzcYB"
      },
      "outputs": [],
      "source": [
        "hypothesis['ice'] = round(hypothesis['impact'] * hypothesis['confidence'] / hypothesis['efforts'], 2)"
      ]
    },
    {
      "cell_type": "code",
      "execution_count": null,
      "metadata": {
        "id": "3fFJjDfDzcYB",
        "outputId": "731d0836-49fe-4b07-cd02-f264e7856227"
      },
      "outputs": [
        {
          "data": {
            "text/html": [
              "<div>\n",
              "<style scoped>\n",
              "    .dataframe tbody tr th:only-of-type {\n",
              "        vertical-align: middle;\n",
              "    }\n",
              "\n",
              "    .dataframe tbody tr th {\n",
              "        vertical-align: top;\n",
              "    }\n",
              "\n",
              "    .dataframe thead th {\n",
              "        text-align: right;\n",
              "    }\n",
              "</style>\n",
              "<table border=\"1\" class=\"dataframe\">\n",
              "  <thead>\n",
              "    <tr style=\"text-align: right;\">\n",
              "      <th></th>\n",
              "      <th>hypothesis</th>\n",
              "      <th>reach</th>\n",
              "      <th>impact</th>\n",
              "      <th>confidence</th>\n",
              "      <th>efforts</th>\n",
              "      <th>ice</th>\n",
              "    </tr>\n",
              "  </thead>\n",
              "  <tbody>\n",
              "    <tr>\n",
              "      <th>8</th>\n",
              "      <td>Запустить акцию, дающую скидку на товар в день рождения</td>\n",
              "      <td>1</td>\n",
              "      <td>9</td>\n",
              "      <td>9</td>\n",
              "      <td>5</td>\n",
              "      <td>16.20</td>\n",
              "    </tr>\n",
              "    <tr>\n",
              "      <th>0</th>\n",
              "      <td>Добавить два новых канала привлечения трафика, что позволит привлекать на 30% больше пользователей</td>\n",
              "      <td>3</td>\n",
              "      <td>10</td>\n",
              "      <td>8</td>\n",
              "      <td>6</td>\n",
              "      <td>13.33</td>\n",
              "    </tr>\n",
              "    <tr>\n",
              "      <th>7</th>\n",
              "      <td>Добавить форму подписки на все основные страницы, чтобы собрать базу клиентов для email-рассылок</td>\n",
              "      <td>10</td>\n",
              "      <td>7</td>\n",
              "      <td>8</td>\n",
              "      <td>5</td>\n",
              "      <td>11.20</td>\n",
              "    </tr>\n",
              "    <tr>\n",
              "      <th>6</th>\n",
              "      <td>Показать на главной странице баннеры с актуальными акциями и распродажами, чтобы увеличить конверсию</td>\n",
              "      <td>5</td>\n",
              "      <td>3</td>\n",
              "      <td>8</td>\n",
              "      <td>3</td>\n",
              "      <td>8.00</td>\n",
              "    </tr>\n",
              "    <tr>\n",
              "      <th>2</th>\n",
              "      <td>Добавить блоки рекомендаций товаров на сайт интернет магазина, чтобы повысить конверсию и средний чек заказа</td>\n",
              "      <td>8</td>\n",
              "      <td>3</td>\n",
              "      <td>7</td>\n",
              "      <td>3</td>\n",
              "      <td>7.00</td>\n",
              "    </tr>\n",
              "    <tr>\n",
              "      <th>1</th>\n",
              "      <td>Запустить собственную службу доставки, что сократит срок доставки заказов</td>\n",
              "      <td>2</td>\n",
              "      <td>5</td>\n",
              "      <td>4</td>\n",
              "      <td>10</td>\n",
              "      <td>2.00</td>\n",
              "    </tr>\n",
              "    <tr>\n",
              "      <th>5</th>\n",
              "      <td>Добавить страницу отзывов клиентов о магазине, что позволит увеличить количество заказов</td>\n",
              "      <td>3</td>\n",
              "      <td>2</td>\n",
              "      <td>2</td>\n",
              "      <td>3</td>\n",
              "      <td>1.33</td>\n",
              "    </tr>\n",
              "    <tr>\n",
              "      <th>3</th>\n",
              "      <td>Изменить структура категорий, что увеличит конверсию, т.к. пользователи быстрее найдут нужный товар</td>\n",
              "      <td>8</td>\n",
              "      <td>3</td>\n",
              "      <td>3</td>\n",
              "      <td>8</td>\n",
              "      <td>1.12</td>\n",
              "    </tr>\n",
              "    <tr>\n",
              "      <th>4</th>\n",
              "      <td>Изменить цвет фона главной страницы, чтобы увеличить вовлеченность пользователей</td>\n",
              "      <td>3</td>\n",
              "      <td>1</td>\n",
              "      <td>1</td>\n",
              "      <td>1</td>\n",
              "      <td>1.00</td>\n",
              "    </tr>\n",
              "  </tbody>\n",
              "</table>\n",
              "</div>"
            ],
            "text/plain": [
              "                                                                                                     hypothesis  \\\n",
              "8                                                       Запустить акцию, дающую скидку на товар в день рождения   \n",
              "0            Добавить два новых канала привлечения трафика, что позволит привлекать на 30% больше пользователей   \n",
              "7              Добавить форму подписки на все основные страницы, чтобы собрать базу клиентов для email-рассылок   \n",
              "6          Показать на главной странице баннеры с актуальными акциями и распродажами, чтобы увеличить конверсию   \n",
              "2  Добавить блоки рекомендаций товаров на сайт интернет магазина, чтобы повысить конверсию и средний чек заказа   \n",
              "1                                     Запустить собственную службу доставки, что сократит срок доставки заказов   \n",
              "5                      Добавить страницу отзывов клиентов о магазине, что позволит увеличить количество заказов   \n",
              "3           Изменить структура категорий, что увеличит конверсию, т.к. пользователи быстрее найдут нужный товар   \n",
              "4                              Изменить цвет фона главной страницы, чтобы увеличить вовлеченность пользователей   \n",
              "\n",
              "   reach  impact  confidence  efforts    ice  \n",
              "8      1       9           9        5  16.20  \n",
              "0      3      10           8        6  13.33  \n",
              "7     10       7           8        5  11.20  \n",
              "6      5       3           8        3   8.00  \n",
              "2      8       3           7        3   7.00  \n",
              "1      2       5           4       10   2.00  \n",
              "5      3       2           2        3   1.33  \n",
              "3      8       3           3        8   1.12  \n",
              "4      3       1           1        1   1.00  "
            ]
          },
          "execution_count": 24,
          "metadata": {},
          "output_type": "execute_result"
        }
      ],
      "source": [
        "hypothesis.sort_values(by='ice', ascending=False)"
      ]
    },
    {
      "cell_type": "markdown",
      "metadata": {
        "id": "85YSDOOhzcYC"
      },
      "source": [
        "### Приоритезация гипотез методом `RICE`"
      ]
    },
    {
      "cell_type": "code",
      "execution_count": null,
      "metadata": {
        "id": "yWGDujVjzcYC"
      },
      "outputs": [],
      "source": [
        "hypothesis['rice'] = round(hypothesis['reach'] * hypothesis['impact'] * hypothesis['confidence'] / hypothesis['efforts'], 2)"
      ]
    },
    {
      "cell_type": "code",
      "execution_count": null,
      "metadata": {
        "id": "TNXGQ0fgzcYC",
        "outputId": "6de7bbb0-e13e-4f66-9d88-9a895172bd36"
      },
      "outputs": [
        {
          "data": {
            "text/html": [
              "<div>\n",
              "<style scoped>\n",
              "    .dataframe tbody tr th:only-of-type {\n",
              "        vertical-align: middle;\n",
              "    }\n",
              "\n",
              "    .dataframe tbody tr th {\n",
              "        vertical-align: top;\n",
              "    }\n",
              "\n",
              "    .dataframe thead th {\n",
              "        text-align: right;\n",
              "    }\n",
              "</style>\n",
              "<table border=\"1\" class=\"dataframe\">\n",
              "  <thead>\n",
              "    <tr style=\"text-align: right;\">\n",
              "      <th></th>\n",
              "      <th>hypothesis</th>\n",
              "      <th>reach</th>\n",
              "      <th>impact</th>\n",
              "      <th>confidence</th>\n",
              "      <th>efforts</th>\n",
              "      <th>ice</th>\n",
              "      <th>rice</th>\n",
              "    </tr>\n",
              "  </thead>\n",
              "  <tbody>\n",
              "    <tr>\n",
              "      <th>7</th>\n",
              "      <td>Добавить форму подписки на все основные страницы, чтобы собрать базу клиентов для email-рассылок</td>\n",
              "      <td>10</td>\n",
              "      <td>7</td>\n",
              "      <td>8</td>\n",
              "      <td>5</td>\n",
              "      <td>11.20</td>\n",
              "      <td>112.0</td>\n",
              "    </tr>\n",
              "    <tr>\n",
              "      <th>2</th>\n",
              "      <td>Добавить блоки рекомендаций товаров на сайт интернет магазина, чтобы повысить конверсию и средний чек заказа</td>\n",
              "      <td>8</td>\n",
              "      <td>3</td>\n",
              "      <td>7</td>\n",
              "      <td>3</td>\n",
              "      <td>7.00</td>\n",
              "      <td>56.0</td>\n",
              "    </tr>\n",
              "    <tr>\n",
              "      <th>0</th>\n",
              "      <td>Добавить два новых канала привлечения трафика, что позволит привлекать на 30% больше пользователей</td>\n",
              "      <td>3</td>\n",
              "      <td>10</td>\n",
              "      <td>8</td>\n",
              "      <td>6</td>\n",
              "      <td>13.33</td>\n",
              "      <td>40.0</td>\n",
              "    </tr>\n",
              "    <tr>\n",
              "      <th>6</th>\n",
              "      <td>Показать на главной странице баннеры с актуальными акциями и распродажами, чтобы увеличить конверсию</td>\n",
              "      <td>5</td>\n",
              "      <td>3</td>\n",
              "      <td>8</td>\n",
              "      <td>3</td>\n",
              "      <td>8.00</td>\n",
              "      <td>40.0</td>\n",
              "    </tr>\n",
              "    <tr>\n",
              "      <th>8</th>\n",
              "      <td>Запустить акцию, дающую скидку на товар в день рождения</td>\n",
              "      <td>1</td>\n",
              "      <td>9</td>\n",
              "      <td>9</td>\n",
              "      <td>5</td>\n",
              "      <td>16.20</td>\n",
              "      <td>16.2</td>\n",
              "    </tr>\n",
              "    <tr>\n",
              "      <th>3</th>\n",
              "      <td>Изменить структура категорий, что увеличит конверсию, т.к. пользователи быстрее найдут нужный товар</td>\n",
              "      <td>8</td>\n",
              "      <td>3</td>\n",
              "      <td>3</td>\n",
              "      <td>8</td>\n",
              "      <td>1.12</td>\n",
              "      <td>9.0</td>\n",
              "    </tr>\n",
              "    <tr>\n",
              "      <th>1</th>\n",
              "      <td>Запустить собственную службу доставки, что сократит срок доставки заказов</td>\n",
              "      <td>2</td>\n",
              "      <td>5</td>\n",
              "      <td>4</td>\n",
              "      <td>10</td>\n",
              "      <td>2.00</td>\n",
              "      <td>4.0</td>\n",
              "    </tr>\n",
              "    <tr>\n",
              "      <th>5</th>\n",
              "      <td>Добавить страницу отзывов клиентов о магазине, что позволит увеличить количество заказов</td>\n",
              "      <td>3</td>\n",
              "      <td>2</td>\n",
              "      <td>2</td>\n",
              "      <td>3</td>\n",
              "      <td>1.33</td>\n",
              "      <td>4.0</td>\n",
              "    </tr>\n",
              "    <tr>\n",
              "      <th>4</th>\n",
              "      <td>Изменить цвет фона главной страницы, чтобы увеличить вовлеченность пользователей</td>\n",
              "      <td>3</td>\n",
              "      <td>1</td>\n",
              "      <td>1</td>\n",
              "      <td>1</td>\n",
              "      <td>1.00</td>\n",
              "      <td>3.0</td>\n",
              "    </tr>\n",
              "  </tbody>\n",
              "</table>\n",
              "</div>"
            ],
            "text/plain": [
              "                                                                                                     hypothesis  \\\n",
              "7              Добавить форму подписки на все основные страницы, чтобы собрать базу клиентов для email-рассылок   \n",
              "2  Добавить блоки рекомендаций товаров на сайт интернет магазина, чтобы повысить конверсию и средний чек заказа   \n",
              "0            Добавить два новых канала привлечения трафика, что позволит привлекать на 30% больше пользователей   \n",
              "6          Показать на главной странице баннеры с актуальными акциями и распродажами, чтобы увеличить конверсию   \n",
              "8                                                       Запустить акцию, дающую скидку на товар в день рождения   \n",
              "3           Изменить структура категорий, что увеличит конверсию, т.к. пользователи быстрее найдут нужный товар   \n",
              "1                                     Запустить собственную службу доставки, что сократит срок доставки заказов   \n",
              "5                      Добавить страницу отзывов клиентов о магазине, что позволит увеличить количество заказов   \n",
              "4                              Изменить цвет фона главной страницы, чтобы увеличить вовлеченность пользователей   \n",
              "\n",
              "   reach  impact  confidence  efforts    ice   rice  \n",
              "7     10       7           8        5  11.20  112.0  \n",
              "2      8       3           7        3   7.00   56.0  \n",
              "0      3      10           8        6  13.33   40.0  \n",
              "6      5       3           8        3   8.00   40.0  \n",
              "8      1       9           9        5  16.20   16.2  \n",
              "3      8       3           3        8   1.12    9.0  \n",
              "1      2       5           4       10   2.00    4.0  \n",
              "5      3       2           2        3   1.33    4.0  \n",
              "4      3       1           1        1   1.00    3.0  "
            ]
          },
          "execution_count": 26,
          "metadata": {},
          "output_type": "execute_result"
        }
      ],
      "source": [
        "hypothesis.sort_values(by='rice', ascending=False)"
      ]
    },
    {
      "cell_type": "markdown",
      "metadata": {
        "id": "Yqx5hm3TzcYC"
      },
      "source": [
        "### ВЫВОД\n"
      ]
    },
    {
      "cell_type": "markdown",
      "metadata": {
        "id": "aKXT2d_XzcYC"
      },
      "source": [
        "Укажите, как изменилась приоритизация гипотез при применении RICE вместо ICE. Объясните, почему так произошло."
      ]
    },
    {
      "cell_type": "markdown",
      "metadata": {
        "id": "OBLMo2oYzcYC"
      },
      "source": [
        "Топ 5 гипотез по методу `ICE`:\n",
        "- Номер 8 - \"Запустить акцию, дающую скидку на товар в день рождения\"\n",
        "- Номер 0 - \"Добавить два новых канала привлечения трафика, что позволит привлекать на 30% больше пользователей\"\n",
        "- Номер 7 - \"Добавить форму подписки на все основные страницы, чтобы собрать базу клиентов для email-рассылок\"\n",
        "- Номер 6 - \"Показать на главной странице баннеры с актуальными акциями и распродажами, чтобы увеличить конверсию\"\n",
        "- Номер 2 - \"Добавить блоки рекомендаций товаров на сайт интернет магазина, чтобы повысить конверсию и средний чек заказа\"\n",
        "\n",
        "Топ 5 гипотез по методу `RICE`:\n",
        "- Номер 7 - \"Добавить форму подписки на все основные страницы, чтобы собрать базу клиентов для email-рассылок\"\n",
        "- Номер 2 - \"Добавить блоки рекомендаций товаров на сайт интернет магазина, чтобы повысить конверсию и средний чек заказа\"\n",
        "- Номер 0 - \"Добавить два новых канала привлечения трафика, что позволит привлекать на 30% больше пользователей\"\n",
        "- Номер 6 - \"Показать на главной странице баннеры с актуальными акциями и распродажами, чтобы увеличить конверсию\"\n",
        "- Номер 8 - \"Запустить акцию, дающую скидку на товар в день рождения\"\n",
        "\n",
        "В топ 5 гипотез обоих методов, входят одинаковые гипотезы, меняется только их приоритетность. В отличие от метода `ICE`, метод `RICE` использует такой параметр, как `reach` - охват пользователей. Из-за это гипотеза номер 8 и перемещяется с первого места, на пятое, так как и распостроняется на всю аудиторию, но может быть использована только в день рождения. Гипотеза номер 7 перемещается с третьего, на первое место, по причине того, что это может сильно увеличить объем базы клиентов для email-рассылок, которые могут направляться каждый день."
      ]
    },
    {
      "cell_type": "markdown",
      "metadata": {
        "id": "WQIbZlH1zcYD"
      },
      "source": [
        "## Анализ A/B-теста"
      ]
    },
    {
      "cell_type": "markdown",
      "metadata": {
        "id": "nbaVkH_jzcYD"
      },
      "source": [
        "### График кумулятивной выручки по группам"
      ]
    },
    {
      "cell_type": "code",
      "execution_count": null,
      "metadata": {
        "id": "SpVtmVkSzcYD"
      },
      "outputs": [],
      "source": [
        "dates_groups = orders[['date', 'group']].drop_duplicates()"
      ]
    },
    {
      "cell_type": "code",
      "execution_count": null,
      "metadata": {
        "id": "b4Pcl4_GzcYD"
      },
      "outputs": [],
      "source": [
        "orders_aggregated = (\n",
        "    dates_groups\n",
        "    .apply(lambda x: orders[np.logical_and(orders['date'] <= x['date'], orders['group'] == x['group'])]\n",
        "    .agg({'date' : 'max', 'group' : 'max', 'transaction_id' : 'nunique', 'visitor_id' : 'nunique', 'revenue' : 'sum'}),\n",
        "           axis=1)\n",
        "    .sort_values(by=['date','group'])\n",
        ")"
      ]
    },
    {
      "cell_type": "code",
      "execution_count": null,
      "metadata": {
        "id": "NGnob-RjzcYD"
      },
      "outputs": [],
      "source": [
        "visitors_aggregated = (\n",
        "    dates_groups\n",
        "    .apply(lambda x: visitors[np.logical_and(visitors['date'] <= x['date'], visitors['group'] == x['group'])]\n",
        "           .agg({'date' : 'max', 'group' : 'max', 'visitors' : 'sum'}), axis=1)\n",
        "    .sort_values(by=['date','group'])\n",
        ")"
      ]
    },
    {
      "cell_type": "code",
      "execution_count": null,
      "metadata": {
        "id": "YlkTTR-szcYD"
      },
      "outputs": [],
      "source": [
        "cumulative_data = orders_aggregated.merge(visitors_aggregated, left_on=['date', 'group'], right_on=['date', 'group'])\n",
        "\n",
        "cumulative_data.columns = ['date', 'group', 'orders', 'buyers', 'revenue', 'visitors']"
      ]
    },
    {
      "cell_type": "code",
      "execution_count": null,
      "metadata": {
        "id": "6cK7Vy1azcYD"
      },
      "outputs": [],
      "source": [
        "cumulative_revenue_a = cumulative_data[cumulative_data['group']=='A'][['date','revenue', 'orders']]\n",
        "\n",
        "cumulative_revenue_b = cumulative_data[cumulative_data['group']=='B'][['date','revenue', 'orders']]"
      ]
    },
    {
      "cell_type": "code",
      "execution_count": null,
      "metadata": {
        "id": "rBblBbfjzcYD",
        "outputId": "5679ed30-a5df-4b8d-92c8-ce1d6dccadbb"
      },
      "outputs": [
        {
          "data": {
            "image/png": "[encoded data removed]",
            "text/plain": [
              "<Figure size 1296x432 with 1 Axes>"
            ]
          },
          "metadata": {
            "needs_background": "light"
          },
          "output_type": "display_data"
        }
      ],
      "source": [
        "plt.figure(figsize=(18, 6))\n",
        "\n",
        "plt.plot(cumulative_revenue_a['date'], cumulative_revenue_a['revenue'], label='A')\n",
        "plt.plot(cumulative_revenue_b['date'], cumulative_revenue_b['revenue'], label='B')\n",
        "\n",
        "plt.ylabel('Кумулятивная выручка, млн')\n",
        "plt.xlabel('Период')\n",
        "plt.title('График кумулятивной выручки по группам')\n",
        "plt.legend()\n",
        "plt.grid(True);\n"
      ]
    },
    {
      "cell_type": "markdown",
      "metadata": {
        "id": "EDh-zNV2zcYE"
      },
      "source": [
        "#### ВЫВОД"
      ]
    },
    {
      "cell_type": "markdown",
      "metadata": {
        "id": "OKRfUg_ezcYE"
      },
      "source": [
        "Выручка почти равномерно увеличивается в течение всего теста.\n",
        "Однако графики выручки группы В в одной точке резко растет. Это может сигнализировать о всплесках числа заказов, либо о появлении очень дорогих заказов в выборке."
      ]
    },
    {
      "cell_type": "markdown",
      "metadata": {
        "id": "5Jqia1n4zcYE"
      },
      "source": [
        "### График кумулятивного среднего чека по группам"
      ]
    },
    {
      "cell_type": "code",
      "execution_count": null,
      "metadata": {
        "id": "kyJ4WLmbzcYE",
        "outputId": "732056ce-62d9-4b64-c63a-599d1623c3f0"
      },
      "outputs": [
        {
          "data": {
            "image/png": "[encoded data removed]",
            "text/plain": [
              "<Figure size 1296x432 with 1 Axes>"
            ]
          },
          "metadata": {
            "needs_background": "light"
          },
          "output_type": "display_data"
        }
      ],
      "source": [
        "plt.figure(figsize=(18, 6))\n",
        "\n",
        "plt.plot(cumulative_revenue_a['date'], cumulative_revenue_a['revenue']/cumulative_revenue_a['orders'], label='A')\n",
        "plt.plot(cumulative_revenue_b['date'], cumulative_revenue_b['revenue']/cumulative_revenue_b['orders'], label='B')\n",
        "\n",
        "plt.ylabel('Кумулятивный средний чек')\n",
        "plt.xlabel('Период')\n",
        "plt.title('График кумулятивного среднего чека по группам')\n",
        "plt.legend()\n",
        "plt.grid(True);"
      ]
    },
    {
      "cell_type": "markdown",
      "metadata": {
        "id": "N9N991IQzcYE"
      },
      "source": [
        "#### ВЫВОД\n",
        "\n",
        "Средний чек тоже становится равномерным ближе к концу теста: установился для группы A и продолжает падать для группы B. Возможно, в группу B в середине теста попали крупные заказы (резкий всплеск на графике)."
      ]
    },
    {
      "cell_type": "markdown",
      "metadata": {
        "id": "wczFirEKzcYE"
      },
      "source": [
        "### График относительного изменения кумулятивного среднего чека группы B к группе A"
      ]
    },
    {
      "cell_type": "code",
      "execution_count": null,
      "metadata": {
        "id": "pmiL7CQyzcYE"
      },
      "outputs": [],
      "source": [
        "merged_cumulative_revenue = (\n",
        "    cumulative_revenue_a\n",
        "    .merge(cumulative_revenue_b, left_on='date', right_on='date', how='left', suffixes=['_a', '_b'])\n",
        ")"
      ]
    },
    {
      "cell_type": "code",
      "execution_count": null,
      "metadata": {
        "id": "pctEjEmKzcYF",
        "outputId": "a376a2fe-b531-4cb7-dee6-38eaa1895644"
      },
      "outputs": [
        {
          "data": {
            "image/png": "[encoded data removed]",
            "text/plain": [
              "<Figure size 1296x432 with 1 Axes>"
            ]
          },
          "metadata": {
            "needs_background": "light"
          },
          "output_type": "display_data"
        }
      ],
      "source": [
        "plt.figure(figsize=(18, 6))\n",
        "\n",
        "plt.plot(\n",
        "    merged_cumulative_revenue['date'],\n",
        "    (merged_cumulative_revenue['revenue_b']/merged_cumulative_revenue['orders_b'])\n",
        "    /(merged_cumulative_revenue['revenue_a']/merged_cumulative_revenue['orders_a'])-1)\n",
        "\n",
        "\n",
        "plt.ylabel('Коэффициент изменения')\n",
        "plt.xlabel('Период')\n",
        "plt.title('График относительного изменения кумулятивного среднего чека группы B к группе A')\n",
        "plt.grid(True)\n",
        "plt.axhline(y=0, color='black', linestyle='--');"
      ]
    },
    {
      "cell_type": "markdown",
      "metadata": {
        "id": "U-gU8BJFzcYF"
      },
      "source": [
        "#### ВЫВОД\n",
        "\n",
        "В нескольких точках график различия между сегментами резко «скачет». Где-то присутствуют крупные заказы и выбросы. Явные всплески происходили с 01.08.2019 по 04.08.2019 и с 18.08.2019 по 19.08.2019"
      ]
    },
    {
      "cell_type": "markdown",
      "metadata": {
        "id": "py85Dk6rzcYF"
      },
      "source": [
        "### График кумулятивного среднего количества заказов (конверсия) по группам"
      ]
    },
    {
      "cell_type": "code",
      "execution_count": null,
      "metadata": {
        "id": "Wv4o3bVczcYF",
        "outputId": "b3bfb4aa-cb7c-425e-a9ae-6dc329768b88"
      },
      "outputs": [
        {
          "data": {
            "image/png": "[encoded data removed]",
            "text/plain": [
              "<Figure size 1296x432 with 1 Axes>"
            ]
          },
          "metadata": {
            "needs_background": "light"
          },
          "output_type": "display_data"
        }
      ],
      "source": [
        "cumulative_data['conversion'] = cumulative_data['orders']/cumulative_data['visitors']\n",
        "\n",
        "cumulative_data_a = cumulative_data[cumulative_data['group']=='A']\n",
        "cumulative_data_b = cumulative_data[cumulative_data['group']=='B']\n",
        "\n",
        "plt.figure(figsize=(18, 6))\n",
        "plt.plot(cumulative_data_a['date'], cumulative_data_a['conversion'], label='A')\n",
        "plt.plot(cumulative_data_b['date'], cumulative_data_b['conversion'], label='B')\n",
        "plt.ylabel('Конверсия')\n",
        "plt.xlabel('Период')\n",
        "plt.title('График кумулятивного среднего количества заказов (конверсия) по группам')\n",
        "plt.legend()\n",
        "plt.grid(True)\n",
        "plt.axis([dt.datetime(2019, 8, 1), dt.datetime(2019, 8, 31), 0, 0.040]);"
      ]
    },
    {
      "cell_type": "markdown",
      "metadata": {
        "id": "jL6oyPeozcYF"
      },
      "source": [
        "#### ВЫВОД\n",
        "\n",
        "Группы колебались около одного значения, но затем конверсия группы В вырвалась вперёд и зафиксировалась, а конверсия группы А просела и также зафиксировалась."
      ]
    },
    {
      "cell_type": "markdown",
      "metadata": {
        "id": "tWwiMuw9zcYF"
      },
      "source": [
        "### График относительного изменения кумулятивного среднего количества заказов (конверсия) группы B к группе A"
      ]
    },
    {
      "cell_type": "code",
      "execution_count": null,
      "metadata": {
        "id": "pWXZaPsBzcYF",
        "outputId": "ff23eb3a-43ab-4386-df01-bab227fa2d8b"
      },
      "outputs": [
        {
          "data": {
            "image/png": "[encoded data removed]",
            "text/plain": [
              "<Figure size 1296x432 with 1 Axes>"
            ]
          },
          "metadata": {
            "needs_background": "light"
          },
          "output_type": "display_data"
        }
      ],
      "source": [
        "merged_сumulative_сonversions = (\n",
        "    cumulative_data_a[['date','conversion']]\n",
        "    .merge(cumulative_data_b[['date','conversion']],\n",
        "           left_on='date',\n",
        "           right_on='date',\n",
        "           how='left',\n",
        "           suffixes=['_a', '_b'])\n",
        ")\n",
        "plt.figure(figsize=(18, 6))\n",
        "\n",
        "plt.plot(merged_сumulative_сonversions['date'],\n",
        "         merged_сumulative_сonversions['conversion_b']/merged_сumulative_сonversions['conversion_a']-1)\n",
        "plt.ylabel('Коэффициент изменения')\n",
        "plt.xlabel('Период')\n",
        "plt.title('График относительного изменения кумулятивного среднего количества заказов группы B к группе A')\n",
        "plt.grid(True)\n",
        "plt.axhline(y=0, color='black', linestyle='--')\n",
        "plt.axhline(y=0.14, color='grey', linestyle='--')\n",
        "plt.axis([dt.datetime(2019, 8, 1), dt.datetime(2019, 8, 31), -0.25, 0.25]);"
      ]
    },
    {
      "cell_type": "markdown",
      "metadata": {
        "id": "v_XabSMdzcYG"
      },
      "source": [
        "#### ВЫВОД\n",
        "\n",
        "В начале теста группа B немного проигрывала группе A, затем вырвалась вперёд. Потом её конверсия снова падала, но теперь возможно постепенно растёт."
      ]
    },
    {
      "cell_type": "markdown",
      "metadata": {
        "id": "b0N61hQFzcYG"
      },
      "source": [
        "### Точечный график количества заказов по пользователям"
      ]
    },
    {
      "cell_type": "code",
      "execution_count": null,
      "metadata": {
        "id": "uUuwp-CuzcYG"
      },
      "outputs": [],
      "source": [
        "orders_by_users = (\n",
        "    orders.groupby('visitor_id', as_index=False)\n",
        "    .agg({'transaction_id': 'nunique'})\n",
        ")\n",
        "\n",
        "orders_by_users.columns = ['visitor_id', 'orders']"
      ]
    },
    {
      "cell_type": "code",
      "execution_count": null,
      "metadata": {
        "id": "pSgdMGOpzcYG"
      },
      "outputs": [],
      "source": [
        "x_values = pd.Series(range(0,len(orders_by_users)))"
      ]
    },
    {
      "cell_type": "code",
      "execution_count": null,
      "metadata": {
        "id": "QhFxiJt9zcYG",
        "outputId": "e7ebbce5-7b1f-4ea4-fb06-d27ce954978f"
      },
      "outputs": [
        {
          "data": {
            "image/png": "[encoded data removed]",
            "text/plain": [
              "<Figure size 1296x432 with 1 Axes>"
            ]
          },
          "metadata": {
            "needs_background": "light"
          },
          "output_type": "display_data"
        }
      ],
      "source": [
        "plt.figure(figsize=(18, 6))\n",
        "plt.scatter(x_values, orders_by_users['orders'])\n",
        "plt.ylabel('Количество заказов')\n",
        "plt.xlabel('Уникальный пользователь')\n",
        "plt.title('Точечный график количества заказов по пользователям')\n",
        "plt.grid(True);"
      ]
    },
    {
      "cell_type": "markdown",
      "metadata": {
        "id": "1qddZmchzcYG"
      },
      "source": [
        "#### ВЫВОД\n",
        "\n",
        "Большинство покупателей заказывали только один раз. Однако  пользователей с 2 заказами тоже явно выделяются. Их точная доля не ясна — непонятно, считать их аномалиями или нет."
      ]
    },
    {
      "cell_type": "markdown",
      "metadata": {
        "id": "QkL8ZfM2zcYG"
      },
      "source": [
        "### 95-й и 99-й перцентили количества заказов на пользователя"
      ]
    },
    {
      "cell_type": "code",
      "execution_count": null,
      "metadata": {
        "id": "hZLhapzXzcYG",
        "outputId": "7a9e520d-5964-4f9c-ac3f-59fe6758b5f9"
      },
      "outputs": [
        {
          "data": {
            "text/plain": [
              "array([2., 4.])"
            ]
          },
          "execution_count": 41,
          "metadata": {},
          "output_type": "execute_result"
        }
      ],
      "source": [
        "np.percentile(orders_by_users['orders'], [95, 99])"
      ]
    },
    {
      "cell_type": "markdown",
      "metadata": {
        "id": "oS2hYyT2zcYG"
      },
      "source": [
        "#### ВЫВОД\n",
        "\n",
        "Не более 5% пользователей оформляли больше чем 2 заказа. И 1% пользователей заказывали более 4 раз.\n",
        "Разумно выбрать 2 заказа на одного пользователя за верхнюю границу числа заказов, и отсеять аномальных пользователей по ней."
      ]
    },
    {
      "cell_type": "markdown",
      "metadata": {
        "id": "X4E9lVIFzcYG"
      },
      "source": [
        "### Точечный график стоимостей заказов"
      ]
    },
    {
      "cell_type": "code",
      "execution_count": null,
      "metadata": {
        "id": "qYkjQpawzcYG",
        "outputId": "5c45a927-273b-47f2-aa9e-a764e83a8770"
      },
      "outputs": [
        {
          "data": {
            "image/png": "[encoded data removed]",
            "text/plain": [
              "<Figure size 1296x576 with 2 Axes>"
            ]
          },
          "metadata": {
            "needs_background": "light"
          },
          "output_type": "display_data"
        }
      ],
      "source": [
        "x_values = pd.Series(range(0,len(orders['revenue'])))\n",
        "\n",
        "fig, (ax1, ax2) = plt.subplots(2)\n",
        "fig.set_figheight(8)\n",
        "fig.set_figwidth(18)\n",
        "\n",
        "\n",
        "ax1.scatter(x_values, orders['revenue'])\n",
        "ax1.set_ylabel('Стоимость заказа, млн')\n",
        "ax1.set_xlabel('Уникальный заказ')\n",
        "ax1.set_title('Точечный график стоимостей заказов')\n",
        "ax1.grid(True)\n",
        "\n",
        "ax2.scatter(x_values, orders['revenue'])\n",
        "ax2.set_ylim([0, 100000])\n",
        "plt.ylabel('Стоимость заказа')\n",
        "plt.xlabel('Уникальный заказ')\n",
        "plt.title('Точечный график стоимостей заказов')\n",
        "plt.axhline(y=20000, color='black', linestyle='--')\n",
        "plt.legend(['Заказы стоимостью 20 000'])\n",
        "plt.grid(True)\n",
        "fig.tight_layout();"
      ]
    },
    {
      "cell_type": "markdown",
      "metadata": {
        "id": "O5_x1ilFzcYH"
      },
      "source": [
        "#### ВЫВОД\n",
        "\n",
        "В данных явно большинство заказов всё-таки имеет выручку меньше 20000. Есть немного дорогих заказов."
      ]
    },
    {
      "cell_type": "markdown",
      "metadata": {
        "id": "OhZJflZfzcYH"
      },
      "source": [
        "### 95-й и 99-й перцентили стоимости заказов"
      ]
    },
    {
      "cell_type": "code",
      "execution_count": null,
      "metadata": {
        "id": "vReKRR7XzcYH",
        "outputId": "acb44474-8737-456a-b9e7-c925e546ca47"
      },
      "outputs": [
        {
          "data": {
            "text/plain": [
              "array([28000. , 58233.2])"
            ]
          },
          "execution_count": 43,
          "metadata": {},
          "output_type": "execute_result"
        }
      ],
      "source": [
        "np.percentile(orders['revenue'], [95, 99])"
      ]
    },
    {
      "cell_type": "markdown",
      "metadata": {
        "id": "0OevliDBzcYH"
      },
      "source": [
        "#### ВЫВОД\n",
        "\n",
        "Не более 5% заказов стоили более 28000. И 1% заказов стоил более 58234. По причине того, что будет просиходить фильтрация по двум параметрам, разумно выбрать стоимость заказа 58234 за верхнюю границу , и отсеять аномальные заказы."
      ]
    },
    {
      "cell_type": "markdown",
      "metadata": {
        "id": "bLL8LP5gzcYH"
      },
      "source": [
        "### Cтатистическая значимость различий в среднем количестве заказов между группами по «сырым» данным"
      ]
    },
    {
      "cell_type": "markdown",
      "metadata": {
        "id": "2edeqZ5KzcYH"
      },
      "source": [
        "#### Подготовка данных"
      ]
    },
    {
      "cell_type": "code",
      "execution_count": null,
      "metadata": {
        "id": "O7_5FxfazcYH"
      },
      "outputs": [],
      "source": [
        "visitors_a_daily = visitors[visitors['group'] == 'A'][['date', 'visitors']]\n",
        "visitors_a_daily.columns = ['date', 'visitors_per_date_a']\n",
        "\n",
        "visitors_a_cummulative = visitors_a_daily.apply(\n",
        "    lambda x: visitors_a_daily[visitors_a_daily['date'] <= x['date']].agg(\n",
        "        {'date': 'max', 'visitors_per_date_a': 'sum'}\n",
        "    ),\n",
        "    axis=1,\n",
        ")\n",
        "visitors_a_cummulative.columns = ['date', 'visitors_cummulative_a']"
      ]
    },
    {
      "cell_type": "code",
      "execution_count": null,
      "metadata": {
        "id": "USvkxLhezcYH"
      },
      "outputs": [],
      "source": [
        "visitors_b_daily = visitors[visitors['group'] == 'B'][['date', 'visitors']]\n",
        "visitors_b_daily.columns = ['date', 'visitors_per_date_b']\n",
        "\n",
        "visitors_b_cummulative = visitors_b_daily.apply(\n",
        "    lambda x: visitors_b_daily[visitors_b_daily['date'] <= x['date']].agg(\n",
        "        {'date': 'max', 'visitors_per_date_b': 'sum'}\n",
        "    ),\n",
        "    axis=1,\n",
        ")\n",
        "visitors_b_cummulative.columns = ['date', 'visitors_cummulative_b']"
      ]
    },
    {
      "cell_type": "code",
      "execution_count": null,
      "metadata": {
        "id": "nbO3B-oxzcYH"
      },
      "outputs": [],
      "source": [
        "orders_a_daily = (\n",
        "    orders[orders['group'] == 'A'][['date', 'transaction_id', 'visitor_id', 'revenue']]\n",
        "    .groupby('date', as_index=False)\n",
        "    .agg({'transaction_id': pd.Series.nunique, 'revenue': 'sum'})\n",
        ")\n",
        "orders_a_daily.columns = ['date', 'orders_per_date_a', 'revenue_per_date_a']\n",
        "\n",
        "orders_a_cummulative = orders_a_daily.apply(\n",
        "    lambda x: orders_a_daily[orders_a_daily['date'] <= x['date']].agg(\n",
        "        {'date': 'max', 'orders_per_date_a': 'sum', 'revenue_per_date_a': 'sum'}\n",
        "    ),\n",
        "    axis=1,\n",
        ").sort_values(by=['date'])\n",
        "\n",
        "orders_a_cummulative.columns = [\n",
        "    'date',\n",
        "    'orders_cummulative_a',\n",
        "    'revenue_cummulative_a',\n",
        "]"
      ]
    },
    {
      "cell_type": "code",
      "execution_count": null,
      "metadata": {
        "id": "ib5DrT2YzcYI"
      },
      "outputs": [],
      "source": [
        "orders_b_daily = (\n",
        "    orders[orders['group'] == 'B'][['date', 'transaction_id', 'visitor_id', 'revenue']]\n",
        "    .groupby('date', as_index=False)\n",
        "    .agg({'transaction_id': pd.Series.nunique, 'revenue': 'sum'})\n",
        ")\n",
        "orders_b_daily.columns = ['date', 'orders_per_date_b', 'revenue_per_date_b']\n",
        "\n",
        "orders_b_cummulative = orders_b_daily.apply(\n",
        "    lambda x: orders_b_daily[orders_b_daily['date'] <= x['date']].agg(\n",
        "        {'date': 'max', 'orders_per_date_b': 'sum', 'revenue_per_date_b': 'sum'}\n",
        "    ),\n",
        "    axis=1,\n",
        ").sort_values(by=['date'])\n",
        "orders_b_cummulative.columns = [\n",
        "    'date',\n",
        "    'orders_cummulative_b',\n",
        "    'revenue_cummulative_b',\n",
        "]"
      ]
    },
    {
      "cell_type": "code",
      "execution_count": null,
      "metadata": {
        "id": "bGqfP4NozcYI"
      },
      "outputs": [],
      "source": [
        "df = (\n",
        "    orders_a_daily.merge(\n",
        "        orders_b_daily, left_on='date', right_on='date', how='left'\n",
        "    )\n",
        "    .merge(orders_a_cummulative, left_on='date', right_on='date', how='left')\n",
        "    .merge(orders_b_cummulative, left_on='date', right_on='date', how='left')\n",
        "    .merge(visitors_a_daily, left_on='date', right_on='date', how='left')\n",
        "    .merge(visitors_b_daily, left_on='date', right_on='date', how='left')\n",
        "    .merge(visitors_a_cummulative, left_on='date', right_on='date', how='left')\n",
        "    .merge(visitors_b_cummulative, left_on='date', right_on='date', how='left')\n",
        ")"
      ]
    },
    {
      "cell_type": "code",
      "execution_count": null,
      "metadata": {
        "id": "suBJtyxtzcYI"
      },
      "outputs": [],
      "source": [
        "orders_by_users_a = (\n",
        "    orders[orders['group'] == 'A']\n",
        "    .groupby('visitor_id', as_index=False)\n",
        "    .agg({'transaction_id': pd.Series.nunique})\n",
        ")\n",
        "orders_by_users_a.columns = ['visitor_id', 'orders']\n",
        "\n",
        "orders_by_users_b = (\n",
        "    orders[orders['group'] == 'B']\n",
        "    .groupby('visitor_id', as_index=False)\n",
        "    .agg({'transaction_id': pd.Series.nunique})\n",
        ")\n",
        "orders_by_users_b.columns = ['visitor_id', 'orders'] "
      ]
    },
    {
      "cell_type": "code",
      "execution_count": null,
      "metadata": {
        "id": "NiyHf7fVzcYI"
      },
      "outputs": [],
      "source": [
        "sample_a = pd.concat([orders_by_users_a['orders'],pd.Series(\n",
        "    0, index=np.arange(df['visitors_per_date_a'].sum() - len(orders_by_users_a['orders'])), name='orders')],axis=0)\n",
        "\n",
        "sample_b = pd.concat([orders_by_users_b['orders'],pd.Series(\n",
        "    0, index=np.arange(df['visitors_per_date_b'].sum() - len(orders_by_users_b['orders'])), name='orders')],axis=0)"
      ]
    },
    {
      "cell_type": "markdown",
      "metadata": {
        "id": "_z7DAtLKzcYI"
      },
      "source": [
        "#### Расчет статистической разницы"
      ]
    },
    {
      "cell_type": "markdown",
      "metadata": {
        "id": "93EflaDozcYI"
      },
      "source": [
        "Гипотезы:\n",
        "- Нулевая гипотеза. Различий в среднем количестве заказов между группами нет. \n",
        "- Альтернативная гипотеза. Различия в среднем количестве заказов между группами есть.\n",
        "\n",
        "Уровень статистической значимости - 0.05"
      ]
    },
    {
      "cell_type": "code",
      "execution_count": null,
      "metadata": {
        "id": "babjzPGuzcYI",
        "outputId": "fcc40a61-faf5-4877-f934-816b54683746"
      },
      "outputs": [
        {
          "name": "stdout",
          "output_type": "stream",
          "text": [
            "P-value - 0.017\n",
            "Различие в средних - 0.138\n"
          ]
        }
      ],
      "source": [
        "print(\"P-value - {0:.3f}\".format(stats.mannwhitneyu(sample_a, sample_b)[1]))\n",
        "print(\"Различие в средних - {0:.3f}\".format(sample_b.mean() / sample_a.mean() - 1))"
      ]
    },
    {
      "cell_type": "code",
      "execution_count": null,
      "metadata": {
        "id": "tQByTWumzcYI",
        "outputId": "4c9e3d94-8033-4bbe-813a-2644acf550c3"
      },
      "outputs": [
        {
          "data": {
            "text/plain": [
              "(0.029728864218616567, 0.033833791499259885)"
            ]
          },
          "execution_count": 52,
          "metadata": {},
          "output_type": "execute_result"
        }
      ],
      "source": [
        "sample_a.mean(), sample_b.mean()"
      ]
    },
    {
      "cell_type": "markdown",
      "metadata": {
        "id": "9baaKI85zcYJ"
      },
      "source": [
        "#### ВЫВОД\n",
        "\n",
        "**По «сырым» данным различий в среднем числе заказов групп A и B есть.**\n",
        "\n",
        "P-value = 0.017 меньше 0.05. Значит, нулевую гипотезу о том, что статистически значимых различий в среднем числе заказов между группами нет, **отвергаем**. Относительный выигрыш группы B равен 13.8%"
      ]
    },
    {
      "cell_type": "markdown",
      "metadata": {
        "id": "q24vJ49fzcYJ"
      },
      "source": [
        "### Cтатистическая значимость различий в среднем чеке заказа между группами по «сырым» данным"
      ]
    },
    {
      "cell_type": "markdown",
      "metadata": {
        "id": "yO4ZFLn3zcYJ"
      },
      "source": [
        "Гипотезы:\n",
        "- Нулевая гипотеза. Различий в среднем чеке между группами нет. \n",
        "- Альтернативная гипотеза. Различия в среднем чеке между группами есть.\n",
        "\n",
        "Уровень статистической значимости - 0.05"
      ]
    },
    {
      "cell_type": "code",
      "execution_count": null,
      "metadata": {
        "id": "dqL1UGr_zcYJ",
        "outputId": "8f8763ad-ef61-49e0-ebad-c6dd76e4aa75"
      },
      "outputs": [
        {
          "name": "stdout",
          "output_type": "stream",
          "text": [
            "P-value - 0.729\n",
            "Различие средних - 0.259\n"
          ]
        }
      ],
      "source": [
        "print('P-value - {0:.3f}'.format(stats.mannwhitneyu(orders[orders['group']=='A']['revenue'], orders[orders['group']=='B']['revenue'])[1]))\n",
        "print('Различие средних - {0:.3f}'.format(orders[orders['group']=='B']['revenue'].mean()/orders[orders['group']=='A']['revenue'].mean()-1))"
      ]
    },
    {
      "cell_type": "markdown",
      "metadata": {
        "id": "dQSRWKp9zcYJ"
      },
      "source": [
        "#### ВЫВОД\n",
        "\n",
        "P-value значительно больше 0.05. Значит, причин отвергать нулевую гипотезу и считать, что в среднем чеке есть различия, нет. Однако относительный выигрыш группы B равен 25.9%, наблюдаемые различия не являются значимыми при таком уровне значимости, а следовательно были получены случайно."
      ]
    },
    {
      "cell_type": "markdown",
      "metadata": {
        "id": "i8oi8743zcYJ"
      },
      "source": [
        "### Cтатистическая значимость различий в среднем количестве заказов между группами по «очищенным» данным"
      ]
    },
    {
      "cell_type": "markdown",
      "metadata": {
        "id": "VpzYfu-_zcYJ"
      },
      "source": [
        "#### Подготовка данных\n",
        "\n",
        "Примем за аномальных пользователей тех, кто совершил больше 2 заказов или совершил заказ дороже 58234 рублей. Так мы уберём 5% пользователей с наибольшим числом заказов и 1% пользователей с дорогими заказами. Выведим аномальных пользователей и аномальные заказы в отдельную таблицу `abnormal_users`."
      ]
    },
    {
      "cell_type": "code",
      "execution_count": null,
      "metadata": {
        "id": "Wq2OWniJzcYJ",
        "outputId": "ff98f752-195f-4807-932c-7ac506f8bbe4"
      },
      "outputs": [
        {
          "name": "stdout",
          "output_type": "stream",
          "text": [
            "1099    148427295\n",
            "18      199603092\n",
            "23      237748145\n",
            "37      249864742\n",
            "68      457167155\n",
            "Name: visitor_id, dtype: int64\n",
            "31\n"
          ]
        }
      ],
      "source": [
        "users_with_many_orders = pd.concat(\n",
        "    [\n",
        "        orders_by_users_a[orders_by_users_a['orders'] > round(np.percentile(orders_by_users['orders'], [95, 99])[0], 2)]['visitor_id'],\n",
        "        orders_by_users_b[orders_by_users_b['orders'] > round(np.percentile(orders_by_users['orders'], [95, 99])[0], 2)]['visitor_id'],\n",
        "    ],\n",
        "    axis=0,\n",
        ")\n",
        "users_with_expensive_orders = orders[orders['revenue'] > round(np.percentile(orders['revenue'], [95, 99])[1], 2)]['visitor_id']\n",
        "\n",
        "abnormal_users = (\n",
        "    pd.concat([users_with_many_orders, users_with_expensive_orders], axis=0)\n",
        "    .drop_duplicates()\n",
        "    .sort_values()\n",
        ")\n",
        "print(abnormal_users.head())\n",
        "print(abnormal_users.shape[0])"
      ]
    },
    {
      "cell_type": "markdown",
      "metadata": {
        "id": "PoOmK8X6zcYK"
      },
      "source": [
        "**Итого - 31 аномальный пользователь**"
      ]
    },
    {
      "cell_type": "code",
      "execution_count": null,
      "metadata": {
        "id": "t-deSjy6zcYK"
      },
      "outputs": [],
      "source": [
        "sample_a_filtered = pd.concat(\n",
        "    [\n",
        "        orders_by_users_a[\n",
        "            np.logical_not(orders_by_users_a['visitor_id'].isin(abnormal_users))\n",
        "        ]['orders'],\n",
        "        pd.Series(\n",
        "            0,\n",
        "            index=np.arange(\n",
        "                df['visitors_per_date_a'].sum() - len(orders_by_users_a['orders'])\n",
        "            ),\n",
        "            name='orders',\n",
        "        ),\n",
        "    ],\n",
        "    axis=0,\n",
        ")"
      ]
    },
    {
      "cell_type": "code",
      "execution_count": null,
      "metadata": {
        "id": "k9aUBdS6zcYK"
      },
      "outputs": [],
      "source": [
        "sample_b_filtered = pd.concat(\n",
        "    [\n",
        "        orders_by_users_b[\n",
        "            np.logical_not(orders_by_users_b['visitor_id'].isin(abnormal_users))\n",
        "        ]['orders'],\n",
        "        pd.Series(\n",
        "            0,\n",
        "            index=np.arange(\n",
        "                df['visitors_per_date_b'].sum() - len(orders_by_users_b['orders'])\n",
        "            ),\n",
        "            name='orders',\n",
        "        ),\n",
        "    ],\n",
        "    axis=0,\n",
        ")"
      ]
    },
    {
      "cell_type": "markdown",
      "metadata": {
        "id": "SV6fPOSlzcYK"
      },
      "source": [
        "#### Расчет статистической разницы"
      ]
    },
    {
      "cell_type": "markdown",
      "metadata": {
        "id": "meIW8KWdzcYK"
      },
      "source": [
        "Гипотезы:\n",
        "- Нулевая гипотеза. Различий в среднем количестве заказов между группами нет.\n",
        "- Альтернативная гипотеза. Различия в среднем количестве заказов между группами есть.\n",
        "\n",
        "Уровень статистической значимости - 0.05"
      ]
    },
    {
      "cell_type": "code",
      "execution_count": null,
      "metadata": {
        "id": "eCzgMdatzcYK",
        "outputId": "fd71229a-dd8a-43a1-92ab-cf49ad40b693"
      },
      "outputs": [
        {
          "name": "stdout",
          "output_type": "stream",
          "text": [
            "P-value - 0.010\n",
            "Различие средних - 0.174\n"
          ]
        }
      ],
      "source": [
        "print('P-value - {0:.3f}'.format(stats.mannwhitneyu(sample_a_filtered, sample_b_filtered)[1]))\n",
        "print('Различие средних - {0:.3f}'.format(sample_b_filtered.mean()/sample_a_filtered.mean()-1))"
      ]
    },
    {
      "cell_type": "code",
      "execution_count": null,
      "metadata": {
        "id": "0uqkyVHAzcYK",
        "outputId": "fe007c7f-db7f-4fea-b5d4-8a8f707e0633"
      },
      "outputs": [
        {
          "data": {
            "text/plain": [
              "(0.026455026455026454, 0.031066419687748082)"
            ]
          },
          "execution_count": 58,
          "metadata": {},
          "output_type": "execute_result"
        }
      ],
      "source": [
        "sample_a_filtered.mean(), sample_b_filtered.mean()"
      ]
    },
    {
      "cell_type": "markdown",
      "metadata": {
        "id": "koxE85ZOzcYK"
      },
      "source": [
        "### ВЫВОД \n",
        "\n",
        "**По отфильтрованным данным, присутствуют различия в среднем числе заказов групп A и B .**\n",
        "\n",
        "Первое число — p-value = 0.010, что меньше 0.05. Значит, нулевую гипотезу о том, что статистически значимых различий в среднем числе заказов между группами нет, **отвергаем**. Относительный выигрыш группы B равен 17.4% \n",
        "\n",
        "Скорее всего это говорит о том, что в группе А было большее количество аномальных пользователей с большим количеством заказов, так как различие средних по сырым данным равнялось 13.8%"
      ]
    },
    {
      "cell_type": "markdown",
      "metadata": {
        "id": "6S09xRodzcYK"
      },
      "source": [
        "### Cтатистическая значимость различий в среднем чеке заказа между группами по «очищенным» данным."
      ]
    },
    {
      "cell_type": "markdown",
      "metadata": {
        "id": "j-CESHTOzcYK"
      },
      "source": [
        "Гипотезы:\n",
        "- Нулевая гипотеза. Различий в среднем чеке между группами нет.\n",
        "- Альтернативная гипотеза. Различия в среднем чеке между группами есть.\n",
        "\n",
        "Уровень статистической значимости - 0.05"
      ]
    },
    {
      "cell_type": "code",
      "execution_count": null,
      "metadata": {
        "id": "WgaaEBE9zcYK",
        "outputId": "92f43bc6-742c-4947-cf56-b72e4b99a6b0"
      },
      "outputs": [
        {
          "name": "stdout",
          "output_type": "stream",
          "text": [
            "P-value - 0.798\n",
            "Различие средних - -0.020\n"
          ]
        }
      ],
      "source": [
        "print(\n",
        "    'P-value - {0:.3f}'.format(\n",
        "        stats.mannwhitneyu(\n",
        "            orders[\n",
        "                np.logical_and(\n",
        "                    orders['group'] == 'A',\n",
        "                    np.logical_not(orders['visitor_id'].isin(abnormal_users)),\n",
        "                )\n",
        "            ]['revenue'],\n",
        "            orders[\n",
        "                np.logical_and(\n",
        "                    orders['group'] == 'B',\n",
        "                    np.logical_not(orders['visitor_id'].isin(abnormal_users)),\n",
        "                )\n",
        "            ]['revenue'],\n",
        "        )[1]\n",
        "    )\n",
        ")\n",
        "\n",
        "print(\n",
        "    \"Различие средних - {0:.3f}\".format(\n",
        "        orders[\n",
        "            np.logical_and(\n",
        "                orders['group'] == 'B',\n",
        "                np.logical_not(orders['visitor_id'].isin(abnormal_users)),\n",
        "            )\n",
        "        ]['revenue'].mean()\n",
        "        / orders[\n",
        "            np.logical_and(\n",
        "                orders['group'] == 'A',\n",
        "                np.logical_not(orders['visitor_id'].isin(abnormal_users)),\n",
        "            )\n",
        "        ]['revenue'].mean()\n",
        "        - 1\n",
        "    )\n",
        ")"
      ]
    },
    {
      "cell_type": "markdown",
      "metadata": {
        "id": "GA6ackBUzcYL"
      },
      "source": [
        "### ВЫВОД\n",
        "P-value немного увеличился, но и разница между сегментами сократилась с 26% до 2%. И если раньше средний чек группы B был значительно выше среднего чека группы A, то теперь средний чек группы В стал немного ниже среднего чека группы А.\n",
        "\n",
        "Это может характеризоваться тем, что в группе В было значительно больше аномально дорогих заказов, чем в группе А."
      ]
    },
    {
      "cell_type": "markdown",
      "metadata": {
        "id": "Q3MyQpEZzcYL"
      },
      "source": [
        "## Дополнительные расчеты\n"
      ]
    },
    {
      "cell_type": "markdown",
      "metadata": {
        "id": "8aozW8ojzcYL"
      },
      "source": [
        "### Подготовка данных"
      ]
    },
    {
      "cell_type": "code",
      "execution_count": null,
      "metadata": {
        "id": "a_jJ3zw1zcYL"
      },
      "outputs": [],
      "source": [
        "orders_clear = orders.query('visitor_id not in @abnormal_users')"
      ]
    },
    {
      "cell_type": "code",
      "execution_count": null,
      "metadata": {
        "id": "zhEoln47zcYL"
      },
      "outputs": [],
      "source": [
        "orders_aggregated_clear = (\n",
        "    dates_groups\n",
        "    .apply(lambda x: orders_clear[np.logical_and(orders_clear['date'] <= x['date'], orders_clear['group'] == x['group'])]\n",
        "    .agg({'date' : 'max', 'group' : 'max', 'transaction_id' : 'nunique', 'visitor_id' : 'nunique', 'revenue' : 'sum'}),\n",
        "           axis=1)\n",
        "    .sort_values(by=['date','group'])\n",
        ")"
      ]
    },
    {
      "cell_type": "code",
      "execution_count": null,
      "metadata": {
        "id": "kRgITwBKzcYL"
      },
      "outputs": [],
      "source": [
        "cumulative_data_clear = orders_aggregated_clear.merge(visitors_aggregated, left_on=['date', 'group'], right_on=['date', 'group'])\n",
        "\n",
        "cumulative_data_clear.columns = ['date', 'group', 'orders', 'buyers', 'revenue', 'visitors']"
      ]
    },
    {
      "cell_type": "code",
      "execution_count": null,
      "metadata": {
        "id": "ZhrbeCgszcYL"
      },
      "outputs": [],
      "source": [
        "cumulative_revenue_clear_a = cumulative_data_clear[cumulative_data_clear['group']=='A'][['date','revenue', 'orders']]\n",
        "\n",
        "cumulative_revenue_clear_b = cumulative_data_clear[cumulative_data_clear['group']=='B'][['date','revenue', 'orders']]"
      ]
    },
    {
      "cell_type": "code",
      "execution_count": null,
      "metadata": {
        "id": "G845bS9rzcYL"
      },
      "outputs": [],
      "source": [
        "merged_cumulative_revenue_clear = (\n",
        "    cumulative_revenue_clear_a\n",
        "    .merge(cumulative_revenue_clear_b, left_on='date', right_on='date', how='left', suffixes=['_a', '_b'])\n",
        ")"
      ]
    },
    {
      "cell_type": "markdown",
      "metadata": {
        "id": "dT7lb24EzcYL"
      },
      "source": [
        "### Сравнение \"сырых\" и \"очищенных\" данных"
      ]
    },
    {
      "cell_type": "code",
      "execution_count": null,
      "metadata": {
        "scrolled": false,
        "id": "HKvX6cipzcYL",
        "outputId": "553114db-6c46-4b64-f455-2ed034509a1c"
      },
      "outputs": [
        {
          "data": {
            "image/png": "[encoded data removed]",
            "text/plain": [
              "<Figure size 1296x576 with 2 Axes>"
            ]
          },
          "metadata": {
            "needs_background": "light"
          },
          "output_type": "display_data"
        }
      ],
      "source": [
        "cumulative_data_clear['conversion'] = cumulative_data_clear['orders']/cumulative_data_clear['visitors']\n",
        "\n",
        "cumulative_data_clear_a = cumulative_data_clear[cumulative_data_clear['group']=='A']\n",
        "cumulative_data_clear_b = cumulative_data_clear[cumulative_data_clear['group']=='B']\n",
        "\n",
        "fig, (ax1, ax2) = plt.subplots(2)\n",
        "fig.set_figheight(8)\n",
        "fig.set_figwidth(18)\n",
        "\n",
        "ax1.plot(cumulative_data_a['date'], cumulative_data_a['conversion'], label='A')\n",
        "ax1.plot(cumulative_data_b['date'], cumulative_data_b['conversion'], label='B')\n",
        "ax1.set_ylabel('Конверсия')\n",
        "ax1.set_xlabel('Период')\n",
        "ax1.set_title('График кумулятивного среднего количества заказов (конверсия) по группам')\n",
        "ax1.legend()\n",
        "ax1.grid(True)\n",
        "ax1.axis([dt.datetime(2019, 8, 1), dt.datetime(2019, 8, 31), 0, 0.040])\n",
        "\n",
        "ax2.plot(cumulative_data_clear_a['date'], cumulative_data_clear_a['conversion'], label='A')\n",
        "ax2.plot(cumulative_data_clear_b['date'], cumulative_data_clear_b['conversion'], label='B')\n",
        "ax2.set_ylabel('Конверсия')\n",
        "ax2.set_xlabel('Период')\n",
        "ax2.set_title('График кумулятивного среднего количества заказов (конверсия) по группам без аномальных пользователей')\n",
        "ax2.legend()\n",
        "ax2.grid(True)\n",
        "ax2.axis([dt.datetime(2019, 8, 1), dt.datetime(2019, 8, 31), 0, 0.040])\n",
        "fig.tight_layout();"
      ]
    },
    {
      "cell_type": "markdown",
      "metadata": {
        "id": "MSrOKvBVzcYL"
      },
      "source": [
        "График кумулятивного среднего количества заказаов(конверсия) по группам без аномальных данных стал более сглаженный и немного уменьшился в количественном выражение. **Кардинальные отличия отсутствуют**"
      ]
    },
    {
      "cell_type": "code",
      "execution_count": null,
      "metadata": {
        "id": "-wqrHKTizcYL",
        "outputId": "7300fd61-a6fe-41cd-a455-c769b37c6f74"
      },
      "outputs": [
        {
          "data": {
            "image/png": "[encoded data removed]",
            "text/plain": [
              "<Figure size 1296x432 with 1 Axes>"
            ]
          },
          "metadata": {
            "needs_background": "light"
          },
          "output_type": "display_data"
        }
      ],
      "source": [
        "merged_сumulative_сonversions_cleare = (\n",
        "    cumulative_data_clear_a[['date','conversion']]\n",
        "    .merge(cumulative_data_clear_b[['date','conversion']], left_on='date', right_on='date', how='left', suffixes=['_a', '_b'])\n",
        ")\n",
        "\n",
        "plt.figure(figsize=(18, 6))\n",
        "plt.plot(merged_сumulative_сonversions['date'],\n",
        "         merged_сumulative_сonversions_cleare['conversion_b']/merged_сumulative_сonversions_cleare['conversion_a']-1,\n",
        "         merged_сumulative_сonversions['date'],\n",
        "         merged_сumulative_сonversions['conversion_b']/merged_сumulative_сonversions['conversion_a']-1)\n",
        "plt.ylabel('Коэффициент изменения')\n",
        "plt.xlabel('Период')\n",
        "plt.title('График относительного изменения кумулятивного среднего количества заказов группы B к группе A')\n",
        "plt.legend(['Без аномальных пользователей', 'С аномальными пользователями'])\n",
        "plt.grid(True)\n",
        "plt.axhline(y=0, color='black', linestyle='--')\n",
        "plt.axhline(y=0.14, color='grey', linestyle='--')\n",
        "plt.axis([dt.datetime(2019, 8, 1), dt.datetime(2019, 8, 31), -0.25, 0.25]);"
      ]
    },
    {
      "cell_type": "markdown",
      "metadata": {
        "id": "puVZe13OzcYL"
      },
      "source": [
        "**Кардинальные отличия отсутствуют**"
      ]
    },
    {
      "cell_type": "code",
      "execution_count": null,
      "metadata": {
        "id": "wu5Kp8mnzcYM",
        "outputId": "bc94fbc0-f359-4413-afaf-4cbb35398976"
      },
      "outputs": [
        {
          "data": {
            "image/png": "[encoded data removed]",
            "text/plain": [
              "<Figure size 1296x432 with 1 Axes>"
            ]
          },
          "metadata": {
            "needs_background": "light"
          },
          "output_type": "display_data"
        }
      ],
      "source": [
        "plt.figure(figsize=(18, 6))\n",
        "\n",
        "plt.plot(\n",
        "    merged_cumulative_revenue_clear['date'],\n",
        "    (merged_cumulative_revenue_clear['revenue_b']/merged_cumulative_revenue_clear['orders_b'])\n",
        "    /(merged_cumulative_revenue_clear['revenue_a']/merged_cumulative_revenue_clear['orders_a'])-1,\n",
        "    merged_cumulative_revenue['date'],\n",
        "    (merged_cumulative_revenue['revenue_b']/merged_cumulative_revenue['orders_b'])\n",
        "    /(merged_cumulative_revenue['revenue_a']/merged_cumulative_revenue['orders_a'])-1)\n",
        "\n",
        "plt.ylabel('Коэффициент изменения')\n",
        "plt.xlabel('Период')\n",
        "plt.title('График относительного изменения кумулятивного среднего чека группы B к группе A')\n",
        "plt.legend(['Без аномальных пользователей', 'С аномальными пользователями'])\n",
        "plt.grid(True)\n",
        "plt.axhline(y=0, color='black', linestyle='--');"
      ]
    },
    {
      "cell_type": "markdown",
      "metadata": {
        "id": "xTLk_DvTzcYM"
      },
      "source": [
        "График различия среднего чека с аномальными данными говорит о том, что результаты группы B лучше, чем в группе А, но ухудшаются день ото дня. Но при рассмотрении данных без аномальных значений, видно, что группа В, становиться то немного хуже, то немного лучше. Явного и стабильного отличия между группами нет."
      ]
    },
    {
      "cell_type": "markdown",
      "metadata": {
        "id": "D7pvWj0OzcYM"
      },
      "source": [
        "## Вывод\n",
        "\n",
        "- Нет статистически значимого различия по среднему количеству заказов между группами по «сырым» данным;\n",
        "- Есть статистически значимое различие по среднему количеству заказов между группами по данным после фильтрации аномалий.  Относительный выигрыш группы B равен 17.3%;\n",
        "- Нет статистически значимого различия по среднему чеку между группами ни по «сырым», ни по данным после фильтрации аномалий. Но по данным после фильтрации сильно измениломь соотношение;\n",
        "- График различия конверсии между группами сообщает, что результаты группы B лучше группы A и нет значительной тенденции к изменению. Результат не меняется ни при \"сырых\", ни при \"очищенных\" данных;\n",
        "- График различия среднего чека с аномальными данными говорит о том, что результаты группы B лучше, чем в группе А, но ухудшаются день ото дня. Но при рассмотрении данных без аномальных значений, видно, что группа В, становиться то немного хуже, то немного лучше. Явное и стабильное отличие между группами отсутствует."
      ]
    },
    {
      "cell_type": "markdown",
      "metadata": {
        "id": "_ObtPy13zcYM"
      },
      "source": [
        "## Рекомендации"
      ]
    },
    {
      "cell_type": "markdown",
      "metadata": {
        "id": "f8u8uqsizcYM"
      },
      "source": [
        "**Исходя из обнаруженных фактов, следует остановить тест и зафиксировать победу группы В**"
      ]
    }
  ],
  "metadata": {
    "ExecuteTimeLog": [
      {
        "duration": 1313,
        "start_time": "2022-11-07T08:21:43.706Z"
      },
      {
        "duration": 70,
        "start_time": "2022-11-07T08:22:12.329Z"
      },
      {
        "duration": 25,
        "start_time": "2022-11-07T08:22:19.155Z"
      },
      {
        "duration": 215,
        "start_time": "2022-11-07T08:23:18.907Z"
      },
      {
        "duration": 11,
        "start_time": "2022-11-07T08:23:25.919Z"
      },
      {
        "duration": 13,
        "start_time": "2022-11-07T08:28:53.478Z"
      },
      {
        "duration": 9,
        "start_time": "2022-11-07T08:29:00.313Z"
      },
      {
        "duration": 4,
        "start_time": "2022-11-07T08:34:19.454Z"
      },
      {
        "duration": 3,
        "start_time": "2022-11-07T08:34:38.543Z"
      },
      {
        "duration": 5,
        "start_time": "2022-11-07T08:35:30.151Z"
      },
      {
        "duration": 9,
        "start_time": "2022-11-07T08:35:36.273Z"
      },
      {
        "duration": 4,
        "start_time": "2022-11-07T08:36:10.283Z"
      },
      {
        "duration": 11,
        "start_time": "2022-11-07T08:36:13.699Z"
      },
      {
        "duration": 13,
        "start_time": "2022-11-07T08:36:21.257Z"
      },
      {
        "duration": 1090,
        "start_time": "2022-11-07T08:38:08.236Z"
      },
      {
        "duration": 72,
        "start_time": "2022-11-07T08:38:09.328Z"
      },
      {
        "duration": 13,
        "start_time": "2022-11-07T08:38:09.401Z"
      },
      {
        "duration": 3,
        "start_time": "2022-11-07T08:38:09.416Z"
      },
      {
        "duration": 13,
        "start_time": "2022-11-07T08:38:09.421Z"
      },
      {
        "duration": 10,
        "start_time": "2022-11-07T08:38:09.436Z"
      },
      {
        "duration": 6,
        "start_time": "2022-11-07T08:38:09.448Z"
      },
      {
        "duration": 10,
        "start_time": "2022-11-07T08:38:09.455Z"
      },
      {
        "duration": 7,
        "start_time": "2022-11-07T08:39:22.789Z"
      },
      {
        "duration": 11,
        "start_time": "2022-11-07T08:39:34.710Z"
      },
      {
        "duration": 5,
        "start_time": "2022-11-07T08:57:25.071Z"
      },
      {
        "duration": 5,
        "start_time": "2022-11-07T08:57:34.331Z"
      },
      {
        "duration": 109,
        "start_time": "2022-11-07T09:00:29.107Z"
      },
      {
        "duration": 3,
        "start_time": "2022-11-07T09:00:46.183Z"
      },
      {
        "duration": 9,
        "start_time": "2022-11-07T09:00:52.123Z"
      },
      {
        "duration": 2,
        "start_time": "2022-11-07T09:00:58.565Z"
      },
      {
        "duration": 9,
        "start_time": "2022-11-07T09:00:58.985Z"
      },
      {
        "duration": 3,
        "start_time": "2022-11-07T09:01:03.269Z"
      },
      {
        "duration": 9,
        "start_time": "2022-11-07T09:01:04.145Z"
      },
      {
        "duration": 3,
        "start_time": "2022-11-07T09:01:07.504Z"
      },
      {
        "duration": 10,
        "start_time": "2022-11-07T09:01:07.887Z"
      },
      {
        "duration": 2,
        "start_time": "2022-11-07T09:01:12.889Z"
      },
      {
        "duration": 9,
        "start_time": "2022-11-07T09:01:13.607Z"
      },
      {
        "duration": 1155,
        "start_time": "2022-11-07T09:01:30.882Z"
      },
      {
        "duration": 73,
        "start_time": "2022-11-07T09:01:32.039Z"
      },
      {
        "duration": 12,
        "start_time": "2022-11-07T09:01:32.113Z"
      },
      {
        "duration": 10,
        "start_time": "2022-11-07T09:01:32.126Z"
      },
      {
        "duration": 13,
        "start_time": "2022-11-07T09:01:32.138Z"
      },
      {
        "duration": 12,
        "start_time": "2022-11-07T09:01:32.152Z"
      },
      {
        "duration": 18,
        "start_time": "2022-11-07T09:01:32.166Z"
      },
      {
        "duration": 17,
        "start_time": "2022-11-07T09:01:32.186Z"
      },
      {
        "duration": 19,
        "start_time": "2022-11-07T09:01:32.205Z"
      },
      {
        "duration": 9,
        "start_time": "2022-11-07T09:01:32.226Z"
      },
      {
        "duration": 20,
        "start_time": "2022-11-07T09:01:32.236Z"
      },
      {
        "duration": 5,
        "start_time": "2022-11-07T09:14:54.362Z"
      },
      {
        "duration": 5,
        "start_time": "2022-11-07T09:15:18.419Z"
      },
      {
        "duration": 434,
        "start_time": "2022-11-07T09:18:15.509Z"
      },
      {
        "duration": 198,
        "start_time": "2022-11-07T09:18:17.900Z"
      },
      {
        "duration": 226,
        "start_time": "2022-11-07T09:18:27.417Z"
      },
      {
        "duration": 3,
        "start_time": "2022-11-07T09:18:33.042Z"
      },
      {
        "duration": 3,
        "start_time": "2022-11-07T09:18:47.072Z"
      },
      {
        "duration": 4,
        "start_time": "2022-11-07T09:18:57.857Z"
      },
      {
        "duration": 5,
        "start_time": "2022-11-07T09:19:11.293Z"
      },
      {
        "duration": 1196,
        "start_time": "2022-11-07T09:19:29.713Z"
      },
      {
        "duration": 74,
        "start_time": "2022-11-07T09:19:30.911Z"
      },
      {
        "duration": 11,
        "start_time": "2022-11-07T09:19:30.987Z"
      },
      {
        "duration": 42,
        "start_time": "2022-11-07T09:19:31.000Z"
      },
      {
        "duration": 32,
        "start_time": "2022-11-07T09:19:31.044Z"
      },
      {
        "duration": 53,
        "start_time": "2022-11-07T09:19:31.077Z"
      },
      {
        "duration": 20,
        "start_time": "2022-11-07T09:19:31.131Z"
      },
      {
        "duration": 21,
        "start_time": "2022-11-07T09:19:31.153Z"
      },
      {
        "duration": 20,
        "start_time": "2022-11-07T09:19:31.176Z"
      },
      {
        "duration": 28,
        "start_time": "2022-11-07T09:19:31.197Z"
      },
      {
        "duration": 12,
        "start_time": "2022-11-07T09:19:31.226Z"
      },
      {
        "duration": 31,
        "start_time": "2022-11-07T09:19:31.239Z"
      },
      {
        "duration": 11,
        "start_time": "2022-11-07T09:21:26.022Z"
      },
      {
        "duration": 10,
        "start_time": "2022-11-07T09:21:33.369Z"
      },
      {
        "duration": 9,
        "start_time": "2022-11-07T09:21:52.540Z"
      },
      {
        "duration": 10,
        "start_time": "2022-11-07T09:22:57.785Z"
      },
      {
        "duration": 13,
        "start_time": "2022-11-07T09:23:03.249Z"
      },
      {
        "duration": 10,
        "start_time": "2022-11-07T09:23:12.560Z"
      },
      {
        "duration": 53,
        "start_time": "2022-11-07T09:24:47.453Z"
      },
      {
        "duration": 45,
        "start_time": "2022-11-07T09:25:22.843Z"
      },
      {
        "duration": 111,
        "start_time": "2022-11-07T09:25:27.034Z"
      },
      {
        "duration": 5,
        "start_time": "2022-11-07T09:26:33.394Z"
      },
      {
        "duration": 8,
        "start_time": "2022-11-07T09:26:39.718Z"
      },
      {
        "duration": 13,
        "start_time": "2022-11-07T09:26:55.645Z"
      },
      {
        "duration": 6,
        "start_time": "2022-11-07T09:27:26.566Z"
      },
      {
        "duration": 17,
        "start_time": "2022-11-07T09:27:43.366Z"
      },
      {
        "duration": 6,
        "start_time": "2022-11-07T09:29:55.325Z"
      },
      {
        "duration": 5,
        "start_time": "2022-11-07T09:30:21.564Z"
      },
      {
        "duration": 13,
        "start_time": "2022-11-07T09:30:27.204Z"
      },
      {
        "duration": 16,
        "start_time": "2022-11-07T09:30:35.280Z"
      },
      {
        "duration": 28,
        "start_time": "2022-11-07T09:33:36.468Z"
      },
      {
        "duration": 23,
        "start_time": "2022-11-07T09:33:47.146Z"
      },
      {
        "duration": 165,
        "start_time": "2022-11-07T09:34:33.821Z"
      },
      {
        "duration": 12,
        "start_time": "2022-11-07T09:34:43.430Z"
      },
      {
        "duration": 161,
        "start_time": "2022-11-07T09:35:37.407Z"
      },
      {
        "duration": 11,
        "start_time": "2022-11-07T09:35:43.432Z"
      },
      {
        "duration": 109,
        "start_time": "2022-11-07T09:36:50.232Z"
      },
      {
        "duration": 7,
        "start_time": "2022-11-07T09:37:24.991Z"
      },
      {
        "duration": 9,
        "start_time": "2022-11-07T09:37:50.843Z"
      },
      {
        "duration": 6,
        "start_time": "2022-11-07T09:37:55.937Z"
      },
      {
        "duration": 6,
        "start_time": "2022-11-07T09:38:09.468Z"
      },
      {
        "duration": 6,
        "start_time": "2022-11-07T09:45:05.406Z"
      },
      {
        "duration": 8,
        "start_time": "2022-11-07T09:45:05.879Z"
      },
      {
        "duration": 8,
        "start_time": "2022-11-07T09:45:31.764Z"
      },
      {
        "duration": 6,
        "start_time": "2022-11-07T09:45:33.523Z"
      },
      {
        "duration": 8,
        "start_time": "2022-11-07T09:45:34.073Z"
      },
      {
        "duration": 6,
        "start_time": "2022-11-07T09:45:45.227Z"
      },
      {
        "duration": 243,
        "start_time": "2022-11-07T09:45:55.758Z"
      },
      {
        "duration": 161,
        "start_time": "2022-11-07T09:46:22.433Z"
      },
      {
        "duration": 148,
        "start_time": "2022-11-07T09:46:42.954Z"
      },
      {
        "duration": 142,
        "start_time": "2022-11-07T09:46:50.019Z"
      },
      {
        "duration": 143,
        "start_time": "2022-11-07T09:46:52.481Z"
      },
      {
        "duration": 160,
        "start_time": "2022-11-07T09:47:42.572Z"
      },
      {
        "duration": 322,
        "start_time": "2022-11-07T09:48:50.893Z"
      },
      {
        "duration": 266,
        "start_time": "2022-11-07T09:49:02.789Z"
      },
      {
        "duration": 244,
        "start_time": "2022-11-07T09:49:07.978Z"
      },
      {
        "duration": 10,
        "start_time": "2022-11-07T09:53:07.926Z"
      },
      {
        "duration": 253,
        "start_time": "2022-11-07T09:55:32.762Z"
      },
      {
        "duration": 317,
        "start_time": "2022-11-07T09:55:40.696Z"
      },
      {
        "duration": 331,
        "start_time": "2022-11-07T09:55:48.761Z"
      },
      {
        "duration": 259,
        "start_time": "2022-11-07T09:56:12.069Z"
      },
      {
        "duration": 9,
        "start_time": "2022-11-07T09:58:51.922Z"
      },
      {
        "duration": 259,
        "start_time": "2022-11-07T09:59:31.686Z"
      },
      {
        "duration": 269,
        "start_time": "2022-11-07T09:59:51.825Z"
      },
      {
        "duration": 163,
        "start_time": "2022-11-07T10:00:09.883Z"
      },
      {
        "duration": 110,
        "start_time": "2022-11-07T10:00:16.557Z"
      },
      {
        "duration": 44,
        "start_time": "2022-11-07T10:00:26.849Z"
      },
      {
        "duration": 276,
        "start_time": "2022-11-07T10:00:30.786Z"
      },
      {
        "duration": 10,
        "start_time": "2022-11-07T10:05:13.184Z"
      },
      {
        "duration": 266,
        "start_time": "2022-11-07T10:05:34.088Z"
      },
      {
        "duration": 270,
        "start_time": "2022-11-07T10:06:26.239Z"
      },
      {
        "duration": 270,
        "start_time": "2022-11-07T10:06:32.003Z"
      },
      {
        "duration": 259,
        "start_time": "2022-11-07T10:11:36.790Z"
      },
      {
        "duration": 218,
        "start_time": "2022-11-07T10:12:08.328Z"
      },
      {
        "duration": 231,
        "start_time": "2022-11-07T10:12:21.286Z"
      },
      {
        "duration": 250,
        "start_time": "2022-11-07T10:12:42.031Z"
      },
      {
        "duration": 244,
        "start_time": "2022-11-07T10:12:48.836Z"
      },
      {
        "duration": 381,
        "start_time": "2022-11-07T10:12:56.351Z"
      },
      {
        "duration": 258,
        "start_time": "2022-11-07T10:13:05.676Z"
      },
      {
        "duration": 340,
        "start_time": "2022-11-07T10:13:12.710Z"
      },
      {
        "duration": 257,
        "start_time": "2022-11-07T10:13:28.108Z"
      },
      {
        "duration": 239,
        "start_time": "2022-11-07T10:13:42.925Z"
      },
      {
        "duration": 252,
        "start_time": "2022-11-07T10:14:15.513Z"
      },
      {
        "duration": 6,
        "start_time": "2022-11-07T10:16:08.384Z"
      },
      {
        "duration": 354,
        "start_time": "2022-11-07T10:17:10.874Z"
      },
      {
        "duration": 339,
        "start_time": "2022-11-07T10:17:21.451Z"
      },
      {
        "duration": 348,
        "start_time": "2022-11-07T10:17:30.107Z"
      },
      {
        "duration": 257,
        "start_time": "2022-11-07T10:17:37.201Z"
      },
      {
        "duration": 255,
        "start_time": "2022-11-07T10:17:42.825Z"
      },
      {
        "duration": 345,
        "start_time": "2022-11-07T10:19:43.082Z"
      },
      {
        "duration": 12,
        "start_time": "2022-11-07T10:22:00.171Z"
      },
      {
        "duration": 7,
        "start_time": "2022-11-07T10:22:05.951Z"
      },
      {
        "duration": 10,
        "start_time": "2022-11-07T10:22:06.597Z"
      },
      {
        "duration": 6,
        "start_time": "2022-11-07T10:22:14.357Z"
      },
      {
        "duration": 10,
        "start_time": "2022-11-07T10:22:16.427Z"
      },
      {
        "duration": 370,
        "start_time": "2022-11-07T10:22:32.493Z"
      },
      {
        "duration": 6,
        "start_time": "2022-11-07T10:26:20.189Z"
      },
      {
        "duration": 452,
        "start_time": "2022-11-07T10:26:20.684Z"
      },
      {
        "duration": 234,
        "start_time": "2022-11-07T10:27:15.742Z"
      },
      {
        "duration": 9,
        "start_time": "2022-11-07T10:27:24.881Z"
      },
      {
        "duration": 7,
        "start_time": "2022-11-07T10:27:34.351Z"
      },
      {
        "duration": 47,
        "start_time": "2022-11-07T11:42:40.698Z"
      },
      {
        "duration": 1335,
        "start_time": "2022-11-07T11:42:48.043Z"
      },
      {
        "duration": 303,
        "start_time": "2022-11-07T11:42:49.380Z"
      },
      {
        "duration": 13,
        "start_time": "2022-11-07T11:42:49.684Z"
      },
      {
        "duration": 35,
        "start_time": "2022-11-07T11:42:49.699Z"
      },
      {
        "duration": 30,
        "start_time": "2022-11-07T11:42:49.737Z"
      },
      {
        "duration": 31,
        "start_time": "2022-11-07T11:42:49.768Z"
      },
      {
        "duration": 32,
        "start_time": "2022-11-07T11:42:49.800Z"
      },
      {
        "duration": 43,
        "start_time": "2022-11-07T11:42:49.835Z"
      },
      {
        "duration": 31,
        "start_time": "2022-11-07T11:42:49.880Z"
      },
      {
        "duration": 37,
        "start_time": "2022-11-07T11:42:49.913Z"
      },
      {
        "duration": 48,
        "start_time": "2022-11-07T11:42:49.952Z"
      },
      {
        "duration": 50,
        "start_time": "2022-11-07T11:42:50.002Z"
      },
      {
        "duration": 53,
        "start_time": "2022-11-07T11:42:50.054Z"
      },
      {
        "duration": 6,
        "start_time": "2022-11-07T11:42:50.110Z"
      },
      {
        "duration": 49,
        "start_time": "2022-11-07T11:42:50.117Z"
      },
      {
        "duration": 38,
        "start_time": "2022-11-07T11:42:50.168Z"
      },
      {
        "duration": 31,
        "start_time": "2022-11-07T11:42:50.208Z"
      },
      {
        "duration": 53,
        "start_time": "2022-11-07T11:42:50.241Z"
      },
      {
        "duration": 176,
        "start_time": "2022-11-07T11:42:50.295Z"
      },
      {
        "duration": 124,
        "start_time": "2022-11-07T11:42:50.473Z"
      },
      {
        "duration": 7,
        "start_time": "2022-11-07T11:42:50.598Z"
      },
      {
        "duration": 7,
        "start_time": "2022-11-07T11:42:50.621Z"
      },
      {
        "duration": 329,
        "start_time": "2022-11-07T11:42:50.630Z"
      },
      {
        "duration": 224,
        "start_time": "2022-11-07T11:42:50.960Z"
      },
      {
        "duration": 7,
        "start_time": "2022-11-07T11:42:51.186Z"
      },
      {
        "duration": 397,
        "start_time": "2022-11-07T11:42:51.195Z"
      },
      {
        "duration": 7,
        "start_time": "2022-11-07T11:42:51.594Z"
      },
      {
        "duration": 246,
        "start_time": "2022-11-07T11:42:51.603Z"
      },
      {
        "duration": 107,
        "start_time": "2022-11-07T11:43:03.411Z"
      },
      {
        "duration": 235,
        "start_time": "2022-11-07T11:43:11.089Z"
      },
      {
        "duration": 286,
        "start_time": "2022-11-07T11:44:40.270Z"
      },
      {
        "duration": 1263,
        "start_time": "2022-11-08T06:48:01.717Z"
      },
      {
        "duration": 183,
        "start_time": "2022-11-08T06:48:02.982Z"
      },
      {
        "duration": 11,
        "start_time": "2022-11-08T06:48:03.167Z"
      },
      {
        "duration": 14,
        "start_time": "2022-11-08T06:48:03.180Z"
      },
      {
        "duration": 19,
        "start_time": "2022-11-08T06:48:03.195Z"
      },
      {
        "duration": 14,
        "start_time": "2022-11-08T06:48:03.215Z"
      },
      {
        "duration": 7,
        "start_time": "2022-11-08T06:48:03.230Z"
      },
      {
        "duration": 10,
        "start_time": "2022-11-08T06:48:03.239Z"
      },
      {
        "duration": 11,
        "start_time": "2022-11-08T06:48:03.250Z"
      },
      {
        "duration": 9,
        "start_time": "2022-11-08T06:48:03.264Z"
      },
      {
        "duration": 5,
        "start_time": "2022-11-08T06:48:03.274Z"
      },
      {
        "duration": 19,
        "start_time": "2022-11-08T06:48:03.280Z"
      },
      {
        "duration": 16,
        "start_time": "2022-11-08T06:48:03.300Z"
      },
      {
        "duration": 4,
        "start_time": "2022-11-08T06:48:03.317Z"
      },
      {
        "duration": 11,
        "start_time": "2022-11-08T06:48:03.323Z"
      },
      {
        "duration": 5,
        "start_time": "2022-11-08T06:48:03.335Z"
      },
      {
        "duration": 13,
        "start_time": "2022-11-08T06:48:03.342Z"
      },
      {
        "duration": 9,
        "start_time": "2022-11-08T06:48:03.356Z"
      },
      {
        "duration": 176,
        "start_time": "2022-11-08T06:48:03.366Z"
      },
      {
        "duration": 116,
        "start_time": "2022-11-08T06:48:03.544Z"
      },
      {
        "duration": 7,
        "start_time": "2022-11-08T06:48:03.661Z"
      },
      {
        "duration": 27,
        "start_time": "2022-11-08T06:48:03.669Z"
      },
      {
        "duration": 321,
        "start_time": "2022-11-08T06:48:03.698Z"
      },
      {
        "duration": 215,
        "start_time": "2022-11-08T06:48:04.020Z"
      },
      {
        "duration": 5,
        "start_time": "2022-11-08T06:48:04.237Z"
      },
      {
        "duration": 368,
        "start_time": "2022-11-08T06:48:04.243Z"
      },
      {
        "duration": 93,
        "start_time": "2022-11-08T06:48:04.612Z"
      },
      {
        "duration": 195,
        "start_time": "2022-11-08T06:48:33.185Z"
      },
      {
        "duration": 303,
        "start_time": "2022-11-08T06:49:32.668Z"
      },
      {
        "duration": 296,
        "start_time": "2022-11-08T06:50:06.735Z"
      },
      {
        "duration": 331,
        "start_time": "2022-11-08T06:50:24.453Z"
      },
      {
        "duration": 373,
        "start_time": "2022-11-08T06:51:02.226Z"
      },
      {
        "duration": 6,
        "start_time": "2022-11-08T06:51:42.011Z"
      },
      {
        "duration": 3,
        "start_time": "2022-11-08T06:51:49.557Z"
      },
      {
        "duration": 141,
        "start_time": "2022-11-08T06:51:59.348Z"
      },
      {
        "duration": 4,
        "start_time": "2022-11-08T06:52:55.783Z"
      },
      {
        "duration": 253,
        "start_time": "2022-11-08T06:53:41.348Z"
      },
      {
        "duration": 270,
        "start_time": "2022-11-08T06:54:14.060Z"
      },
      {
        "duration": 286,
        "start_time": "2022-11-08T06:54:50.232Z"
      },
      {
        "duration": 314,
        "start_time": "2022-11-08T06:55:01.474Z"
      },
      {
        "duration": 5,
        "start_time": "2022-11-08T06:55:44.217Z"
      },
      {
        "duration": 2,
        "start_time": "2022-11-08T06:56:48.933Z"
      },
      {
        "duration": 41,
        "start_time": "2022-11-08T06:56:59.791Z"
      },
      {
        "duration": 60,
        "start_time": "2022-11-08T06:57:06.556Z"
      },
      {
        "duration": 55,
        "start_time": "2022-11-08T06:57:55.920Z"
      },
      {
        "duration": 51,
        "start_time": "2022-11-08T06:57:58.873Z"
      },
      {
        "duration": 19,
        "start_time": "2022-11-08T06:58:07.034Z"
      },
      {
        "duration": 130,
        "start_time": "2022-11-08T06:58:14.981Z"
      },
      {
        "duration": 6,
        "start_time": "2022-11-08T06:58:24.684Z"
      },
      {
        "duration": 74,
        "start_time": "2022-11-08T06:58:45.592Z"
      },
      {
        "duration": 22,
        "start_time": "2022-11-08T06:58:58.190Z"
      },
      {
        "duration": 4,
        "start_time": "2022-11-08T06:59:08.397Z"
      },
      {
        "duration": 78,
        "start_time": "2022-11-08T06:59:45.160Z"
      },
      {
        "duration": 9,
        "start_time": "2022-11-08T07:00:02.130Z"
      },
      {
        "duration": 9,
        "start_time": "2022-11-08T07:01:56.333Z"
      },
      {
        "duration": 6,
        "start_time": "2022-11-08T07:02:29.873Z"
      },
      {
        "duration": 6,
        "start_time": "2022-11-08T07:02:40.492Z"
      },
      {
        "duration": 18,
        "start_time": "2022-11-08T07:03:17.567Z"
      },
      {
        "duration": 4,
        "start_time": "2022-11-08T07:03:29.346Z"
      },
      {
        "duration": 16,
        "start_time": "2022-11-08T07:05:05.583Z"
      },
      {
        "duration": 12,
        "start_time": "2022-11-08T07:05:20.153Z"
      },
      {
        "duration": 5,
        "start_time": "2022-11-08T07:06:34.964Z"
      },
      {
        "duration": 151,
        "start_time": "2022-11-08T07:06:44.091Z"
      },
      {
        "duration": 5,
        "start_time": "2022-11-08T07:06:50.554Z"
      },
      {
        "duration": 528,
        "start_time": "2022-11-08T07:06:58.721Z"
      },
      {
        "duration": 535,
        "start_time": "2022-11-08T07:07:13.102Z"
      },
      {
        "duration": 70,
        "start_time": "2022-11-08T07:07:46.177Z"
      },
      {
        "duration": 356,
        "start_time": "2022-11-08T07:09:01.590Z"
      },
      {
        "duration": 9,
        "start_time": "2022-11-08T07:09:46.097Z"
      },
      {
        "duration": 8,
        "start_time": "2022-11-08T07:10:04.111Z"
      },
      {
        "duration": 6,
        "start_time": "2022-11-08T07:10:04.800Z"
      },
      {
        "duration": 441,
        "start_time": "2022-11-08T07:10:19.620Z"
      },
      {
        "duration": 975,
        "start_time": "2022-11-08T07:29:32.239Z"
      },
      {
        "duration": 64,
        "start_time": "2022-11-08T07:29:33.216Z"
      },
      {
        "duration": 12,
        "start_time": "2022-11-08T07:29:33.282Z"
      },
      {
        "duration": 12,
        "start_time": "2022-11-08T07:29:33.295Z"
      },
      {
        "duration": 8,
        "start_time": "2022-11-08T07:29:33.309Z"
      },
      {
        "duration": 11,
        "start_time": "2022-11-08T07:29:33.318Z"
      },
      {
        "duration": 4,
        "start_time": "2022-11-08T07:29:33.330Z"
      },
      {
        "duration": 12,
        "start_time": "2022-11-08T07:29:33.335Z"
      },
      {
        "duration": 11,
        "start_time": "2022-11-08T07:29:33.348Z"
      },
      {
        "duration": 12,
        "start_time": "2022-11-08T07:29:33.361Z"
      },
      {
        "duration": 4,
        "start_time": "2022-11-08T07:29:33.375Z"
      },
      {
        "duration": 23,
        "start_time": "2022-11-08T07:29:33.380Z"
      },
      {
        "duration": 16,
        "start_time": "2022-11-08T07:29:33.404Z"
      },
      {
        "duration": 5,
        "start_time": "2022-11-08T07:29:33.422Z"
      },
      {
        "duration": 9,
        "start_time": "2022-11-08T07:29:33.428Z"
      },
      {
        "duration": 6,
        "start_time": "2022-11-08T07:29:33.439Z"
      },
      {
        "duration": 15,
        "start_time": "2022-11-08T07:29:33.446Z"
      },
      {
        "duration": 7,
        "start_time": "2022-11-08T07:29:33.462Z"
      },
      {
        "duration": 171,
        "start_time": "2022-11-08T07:29:33.470Z"
      },
      {
        "duration": 120,
        "start_time": "2022-11-08T07:29:33.642Z"
      },
      {
        "duration": 5,
        "start_time": "2022-11-08T07:29:33.764Z"
      },
      {
        "duration": 8,
        "start_time": "2022-11-08T07:29:33.771Z"
      },
      {
        "duration": 342,
        "start_time": "2022-11-08T07:29:33.781Z"
      },
      {
        "duration": 214,
        "start_time": "2022-11-08T07:29:34.125Z"
      },
      {
        "duration": 6,
        "start_time": "2022-11-08T07:29:34.340Z"
      },
      {
        "duration": 296,
        "start_time": "2022-11-08T07:29:34.347Z"
      },
      {
        "duration": 221,
        "start_time": "2022-11-08T07:29:34.644Z"
      },
      {
        "duration": 332,
        "start_time": "2022-11-08T07:29:34.869Z"
      },
      {
        "duration": 6,
        "start_time": "2022-11-08T07:29:35.202Z"
      },
      {
        "duration": 15,
        "start_time": "2022-11-08T07:29:35.209Z"
      },
      {
        "duration": 150,
        "start_time": "2022-11-08T07:29:35.226Z"
      },
      {
        "duration": 4,
        "start_time": "2022-11-08T07:29:35.378Z"
      },
      {
        "duration": 351,
        "start_time": "2022-11-08T07:29:35.383Z"
      },
      {
        "duration": 5,
        "start_time": "2022-11-08T07:29:35.735Z"
      },
      {
        "duration": 58,
        "start_time": "2022-11-08T07:29:35.742Z"
      },
      {
        "duration": 49,
        "start_time": "2022-11-08T07:29:35.801Z"
      },
      {
        "duration": 57,
        "start_time": "2022-11-08T07:29:35.852Z"
      },
      {
        "duration": 52,
        "start_time": "2022-11-08T07:29:35.910Z"
      },
      {
        "duration": 17,
        "start_time": "2022-11-08T07:29:35.963Z"
      },
      {
        "duration": 140,
        "start_time": "2022-11-08T07:29:35.981Z"
      },
      {
        "duration": 5,
        "start_time": "2022-11-08T07:29:36.123Z"
      },
      {
        "duration": 27,
        "start_time": "2022-11-08T07:29:36.130Z"
      },
      {
        "duration": 4,
        "start_time": "2022-11-08T07:29:36.158Z"
      },
      {
        "duration": 16,
        "start_time": "2022-11-08T07:29:36.164Z"
      },
      {
        "duration": 21,
        "start_time": "2022-11-08T07:29:36.182Z"
      },
      {
        "duration": 9,
        "start_time": "2022-11-08T07:29:36.205Z"
      },
      {
        "duration": 6,
        "start_time": "2022-11-08T07:29:36.216Z"
      },
      {
        "duration": 20,
        "start_time": "2022-11-08T07:29:36.224Z"
      },
      {
        "duration": 4,
        "start_time": "2022-11-08T07:29:36.246Z"
      },
      {
        "duration": 13,
        "start_time": "2022-11-08T07:29:36.252Z"
      },
      {
        "duration": 34,
        "start_time": "2022-11-08T07:29:36.266Z"
      },
      {
        "duration": 153,
        "start_time": "2022-11-08T07:29:36.302Z"
      },
      {
        "duration": 6,
        "start_time": "2022-11-08T07:29:36.457Z"
      },
      {
        "duration": 14,
        "start_time": "2022-11-08T07:29:36.465Z"
      },
      {
        "duration": 19,
        "start_time": "2022-11-08T07:29:36.481Z"
      },
      {
        "duration": 644,
        "start_time": "2022-11-08T07:29:36.501Z"
      },
      {
        "duration": 304,
        "start_time": "2022-11-08T07:29:37.147Z"
      },
      {
        "duration": 327,
        "start_time": "2022-11-08T07:29:37.452Z"
      },
      {
        "duration": 1075,
        "start_time": "2022-11-08T07:30:45.651Z"
      },
      {
        "duration": 64,
        "start_time": "2022-11-08T07:30:46.728Z"
      },
      {
        "duration": 12,
        "start_time": "2022-11-08T07:30:46.794Z"
      },
      {
        "duration": 16,
        "start_time": "2022-11-08T07:30:46.808Z"
      },
      {
        "duration": 8,
        "start_time": "2022-11-08T07:30:46.825Z"
      },
      {
        "duration": 11,
        "start_time": "2022-11-08T07:30:46.835Z"
      },
      {
        "duration": 7,
        "start_time": "2022-11-08T07:30:46.848Z"
      },
      {
        "duration": 14,
        "start_time": "2022-11-08T07:30:46.856Z"
      },
      {
        "duration": 27,
        "start_time": "2022-11-08T07:30:46.872Z"
      },
      {
        "duration": 9,
        "start_time": "2022-11-08T07:30:46.902Z"
      },
      {
        "duration": 7,
        "start_time": "2022-11-08T07:30:46.913Z"
      },
      {
        "duration": 10,
        "start_time": "2022-11-08T07:30:46.921Z"
      },
      {
        "duration": 18,
        "start_time": "2022-11-08T07:30:46.932Z"
      },
      {
        "duration": 5,
        "start_time": "2022-11-08T07:30:46.951Z"
      },
      {
        "duration": 13,
        "start_time": "2022-11-08T07:30:46.958Z"
      },
      {
        "duration": 29,
        "start_time": "2022-11-08T07:30:46.973Z"
      },
      {
        "duration": 17,
        "start_time": "2022-11-08T07:30:47.004Z"
      },
      {
        "duration": 9,
        "start_time": "2022-11-08T07:30:47.023Z"
      },
      {
        "duration": 189,
        "start_time": "2022-11-08T07:30:47.034Z"
      },
      {
        "duration": 137,
        "start_time": "2022-11-08T07:30:47.225Z"
      },
      {
        "duration": 6,
        "start_time": "2022-11-08T07:30:47.364Z"
      },
      {
        "duration": 12,
        "start_time": "2022-11-08T07:30:47.372Z"
      },
      {
        "duration": 316,
        "start_time": "2022-11-08T07:30:47.399Z"
      },
      {
        "duration": 251,
        "start_time": "2022-11-08T07:30:47.716Z"
      },
      {
        "duration": 6,
        "start_time": "2022-11-08T07:30:47.969Z"
      },
      {
        "duration": 346,
        "start_time": "2022-11-08T07:30:47.976Z"
      },
      {
        "duration": 205,
        "start_time": "2022-11-08T07:30:48.324Z"
      },
      {
        "duration": 299,
        "start_time": "2022-11-08T07:30:48.532Z"
      },
      {
        "duration": 6,
        "start_time": "2022-11-08T07:30:48.832Z"
      },
      {
        "duration": 3,
        "start_time": "2022-11-08T07:30:48.840Z"
      },
      {
        "duration": 176,
        "start_time": "2022-11-08T07:30:48.844Z"
      },
      {
        "duration": 4,
        "start_time": "2022-11-08T07:30:49.022Z"
      },
      {
        "duration": 296,
        "start_time": "2022-11-08T07:30:49.027Z"
      },
      {
        "duration": 5,
        "start_time": "2022-11-08T07:30:49.324Z"
      },
      {
        "duration": 45,
        "start_time": "2022-11-08T07:30:49.330Z"
      },
      {
        "duration": 54,
        "start_time": "2022-11-08T07:30:49.376Z"
      },
      {
        "duration": 60,
        "start_time": "2022-11-08T07:30:49.432Z"
      },
      {
        "duration": 57,
        "start_time": "2022-11-08T07:30:49.493Z"
      },
      {
        "duration": 17,
        "start_time": "2022-11-08T07:30:49.552Z"
      },
      {
        "duration": 144,
        "start_time": "2022-11-08T07:30:49.570Z"
      },
      {
        "duration": 5,
        "start_time": "2022-11-08T07:30:49.716Z"
      },
      {
        "duration": 21,
        "start_time": "2022-11-08T07:30:49.722Z"
      },
      {
        "duration": 3,
        "start_time": "2022-11-08T07:30:49.745Z"
      },
      {
        "duration": 12,
        "start_time": "2022-11-08T07:30:49.749Z"
      },
      {
        "duration": 7,
        "start_time": "2022-11-08T07:30:49.763Z"
      },
      {
        "duration": 27,
        "start_time": "2022-11-08T07:30:49.772Z"
      },
      {
        "duration": 8,
        "start_time": "2022-11-08T07:30:49.800Z"
      },
      {
        "duration": 19,
        "start_time": "2022-11-08T07:30:49.809Z"
      },
      {
        "duration": 4,
        "start_time": "2022-11-08T07:30:49.829Z"
      },
      {
        "duration": 13,
        "start_time": "2022-11-08T07:30:49.834Z"
      },
      {
        "duration": 4,
        "start_time": "2022-11-08T07:30:49.849Z"
      },
      {
        "duration": 174,
        "start_time": "2022-11-08T07:30:49.855Z"
      },
      {
        "duration": 6,
        "start_time": "2022-11-08T07:30:50.030Z"
      },
      {
        "duration": 13,
        "start_time": "2022-11-08T07:30:50.037Z"
      },
      {
        "duration": 10,
        "start_time": "2022-11-08T07:30:50.051Z"
      },
      {
        "duration": 614,
        "start_time": "2022-11-08T07:30:50.063Z"
      },
      {
        "duration": 335,
        "start_time": "2022-11-08T07:30:50.679Z"
      },
      {
        "duration": 334,
        "start_time": "2022-11-08T07:30:51.015Z"
      },
      {
        "duration": 1277,
        "start_time": "2022-11-08T18:52:13.797Z"
      },
      {
        "duration": 303,
        "start_time": "2022-11-08T18:52:15.077Z"
      },
      {
        "duration": 14,
        "start_time": "2022-11-08T18:52:15.381Z"
      },
      {
        "duration": 31,
        "start_time": "2022-11-08T18:52:15.397Z"
      },
      {
        "duration": 10,
        "start_time": "2022-11-08T18:52:15.430Z"
      },
      {
        "duration": 13,
        "start_time": "2022-11-08T18:52:15.442Z"
      },
      {
        "duration": 7,
        "start_time": "2022-11-08T18:52:15.456Z"
      },
      {
        "duration": 15,
        "start_time": "2022-11-08T18:52:15.465Z"
      },
      {
        "duration": 12,
        "start_time": "2022-11-08T18:52:15.482Z"
      },
      {
        "duration": 12,
        "start_time": "2022-11-08T18:52:15.497Z"
      },
      {
        "duration": 12,
        "start_time": "2022-11-08T18:52:15.511Z"
      },
      {
        "duration": 10,
        "start_time": "2022-11-08T18:52:15.525Z"
      },
      {
        "duration": 38,
        "start_time": "2022-11-08T18:52:15.536Z"
      },
      {
        "duration": 5,
        "start_time": "2022-11-08T18:52:15.577Z"
      },
      {
        "duration": 11,
        "start_time": "2022-11-08T18:52:15.584Z"
      },
      {
        "duration": 7,
        "start_time": "2022-11-08T18:52:15.597Z"
      },
      {
        "duration": 17,
        "start_time": "2022-11-08T18:52:15.606Z"
      },
      {
        "duration": 7,
        "start_time": "2022-11-08T18:52:15.625Z"
      },
      {
        "duration": 205,
        "start_time": "2022-11-08T18:52:15.634Z"
      },
      {
        "duration": 118,
        "start_time": "2022-11-08T18:52:15.841Z"
      },
      {
        "duration": 11,
        "start_time": "2022-11-08T18:52:15.960Z"
      },
      {
        "duration": 11,
        "start_time": "2022-11-08T18:52:15.973Z"
      },
      {
        "duration": 414,
        "start_time": "2022-11-08T18:52:15.986Z"
      },
      {
        "duration": 247,
        "start_time": "2022-11-08T18:52:16.402Z"
      },
      {
        "duration": 6,
        "start_time": "2022-11-08T18:52:16.651Z"
      },
      {
        "duration": 368,
        "start_time": "2022-11-08T18:52:16.668Z"
      },
      {
        "duration": 225,
        "start_time": "2022-11-08T18:52:17.038Z"
      },
      {
        "duration": 312,
        "start_time": "2022-11-08T18:52:17.269Z"
      },
      {
        "duration": 7,
        "start_time": "2022-11-08T18:52:17.583Z"
      },
      {
        "duration": 7,
        "start_time": "2022-11-08T18:52:17.592Z"
      },
      {
        "duration": 178,
        "start_time": "2022-11-08T18:52:17.600Z"
      },
      {
        "duration": 5,
        "start_time": "2022-11-08T18:52:17.780Z"
      },
      {
        "duration": 316,
        "start_time": "2022-11-08T18:52:17.787Z"
      },
      {
        "duration": 5,
        "start_time": "2022-11-08T18:52:18.105Z"
      },
      {
        "duration": 45,
        "start_time": "2022-11-08T18:52:18.112Z"
      },
      {
        "duration": 65,
        "start_time": "2022-11-08T18:52:18.168Z"
      },
      {
        "duration": 58,
        "start_time": "2022-11-08T18:52:18.235Z"
      },
      {
        "duration": 57,
        "start_time": "2022-11-08T18:52:18.295Z"
      },
      {
        "duration": 34,
        "start_time": "2022-11-08T18:52:18.354Z"
      },
      {
        "duration": 159,
        "start_time": "2022-11-08T18:52:18.390Z"
      },
      {
        "duration": 18,
        "start_time": "2022-11-08T18:52:18.551Z"
      },
      {
        "duration": 20,
        "start_time": "2022-11-08T18:52:18.571Z"
      },
      {
        "duration": 4,
        "start_time": "2022-11-08T18:52:18.593Z"
      },
      {
        "duration": 18,
        "start_time": "2022-11-08T18:52:18.598Z"
      },
      {
        "duration": 11,
        "start_time": "2022-11-08T18:52:18.617Z"
      },
      {
        "duration": 8,
        "start_time": "2022-11-08T18:52:18.629Z"
      },
      {
        "duration": 34,
        "start_time": "2022-11-08T18:52:18.638Z"
      },
      {
        "duration": 31,
        "start_time": "2022-11-08T18:52:18.674Z"
      },
      {
        "duration": 5,
        "start_time": "2022-11-08T18:52:18.706Z"
      },
      {
        "duration": 13,
        "start_time": "2022-11-08T18:52:18.712Z"
      },
      {
        "duration": 5,
        "start_time": "2022-11-08T18:52:18.727Z"
      },
      {
        "duration": 187,
        "start_time": "2022-11-08T18:52:18.733Z"
      },
      {
        "duration": 6,
        "start_time": "2022-11-08T18:52:18.921Z"
      },
      {
        "duration": 9,
        "start_time": "2022-11-08T18:52:18.929Z"
      },
      {
        "duration": 7,
        "start_time": "2022-11-08T18:52:18.940Z"
      },
      {
        "duration": 633,
        "start_time": "2022-11-08T18:52:18.948Z"
      },
      {
        "duration": 334,
        "start_time": "2022-11-08T18:52:19.583Z"
      },
      {
        "duration": 335,
        "start_time": "2022-11-08T18:52:19.919Z"
      },
      {
        "duration": 6,
        "start_time": "2022-11-08T19:18:14.281Z"
      },
      {
        "duration": 20,
        "start_time": "2022-11-08T19:18:22.630Z"
      },
      {
        "duration": 77,
        "start_time": "2022-11-09T11:13:16.507Z"
      },
      {
        "duration": 1204,
        "start_time": "2022-11-09T11:13:22.193Z"
      },
      {
        "duration": 181,
        "start_time": "2022-11-09T11:13:23.399Z"
      },
      {
        "duration": 13,
        "start_time": "2022-11-09T11:13:23.582Z"
      },
      {
        "duration": 16,
        "start_time": "2022-11-09T11:13:23.597Z"
      },
      {
        "duration": 9,
        "start_time": "2022-11-09T11:13:23.615Z"
      },
      {
        "duration": 12,
        "start_time": "2022-11-09T11:13:23.625Z"
      },
      {
        "duration": 5,
        "start_time": "2022-11-09T11:13:23.639Z"
      },
      {
        "duration": 11,
        "start_time": "2022-11-09T11:13:23.646Z"
      },
      {
        "duration": 12,
        "start_time": "2022-11-09T11:13:23.659Z"
      },
      {
        "duration": 21,
        "start_time": "2022-11-09T11:13:23.673Z"
      },
      {
        "duration": 6,
        "start_time": "2022-11-09T11:13:23.695Z"
      },
      {
        "duration": 13,
        "start_time": "2022-11-09T11:13:23.703Z"
      },
      {
        "duration": 29,
        "start_time": "2022-11-09T11:13:23.718Z"
      },
      {
        "duration": 68,
        "start_time": "2022-11-09T11:13:23.750Z"
      },
      {
        "duration": 0,
        "start_time": "2022-11-09T11:13:23.820Z"
      },
      {
        "duration": 0,
        "start_time": "2022-11-09T11:13:23.822Z"
      },
      {
        "duration": 0,
        "start_time": "2022-11-09T11:13:23.823Z"
      },
      {
        "duration": 0,
        "start_time": "2022-11-09T11:13:23.824Z"
      },
      {
        "duration": 0,
        "start_time": "2022-11-09T11:13:23.825Z"
      },
      {
        "duration": 0,
        "start_time": "2022-11-09T11:13:23.827Z"
      },
      {
        "duration": 0,
        "start_time": "2022-11-09T11:13:23.828Z"
      },
      {
        "duration": 0,
        "start_time": "2022-11-09T11:13:23.830Z"
      },
      {
        "duration": 0,
        "start_time": "2022-11-09T11:13:23.831Z"
      },
      {
        "duration": 0,
        "start_time": "2022-11-09T11:13:23.832Z"
      },
      {
        "duration": 0,
        "start_time": "2022-11-09T11:13:23.834Z"
      },
      {
        "duration": 0,
        "start_time": "2022-11-09T11:13:23.835Z"
      },
      {
        "duration": 0,
        "start_time": "2022-11-09T11:13:23.836Z"
      },
      {
        "duration": 0,
        "start_time": "2022-11-09T11:13:23.838Z"
      },
      {
        "duration": 0,
        "start_time": "2022-11-09T11:13:23.840Z"
      },
      {
        "duration": 0,
        "start_time": "2022-11-09T11:13:23.841Z"
      },
      {
        "duration": 0,
        "start_time": "2022-11-09T11:13:23.843Z"
      },
      {
        "duration": 0,
        "start_time": "2022-11-09T11:13:23.844Z"
      },
      {
        "duration": 0,
        "start_time": "2022-11-09T11:13:23.845Z"
      },
      {
        "duration": 0,
        "start_time": "2022-11-09T11:13:23.846Z"
      },
      {
        "duration": 0,
        "start_time": "2022-11-09T11:13:23.848Z"
      },
      {
        "duration": 0,
        "start_time": "2022-11-09T11:13:23.849Z"
      },
      {
        "duration": 0,
        "start_time": "2022-11-09T11:13:23.850Z"
      },
      {
        "duration": 0,
        "start_time": "2022-11-09T11:13:23.850Z"
      },
      {
        "duration": 0,
        "start_time": "2022-11-09T11:13:23.851Z"
      },
      {
        "duration": 0,
        "start_time": "2022-11-09T11:13:23.853Z"
      },
      {
        "duration": 0,
        "start_time": "2022-11-09T11:13:23.854Z"
      },
      {
        "duration": 0,
        "start_time": "2022-11-09T11:13:23.855Z"
      },
      {
        "duration": 0,
        "start_time": "2022-11-09T11:13:23.856Z"
      },
      {
        "duration": 0,
        "start_time": "2022-11-09T11:13:23.857Z"
      },
      {
        "duration": 0,
        "start_time": "2022-11-09T11:13:23.858Z"
      },
      {
        "duration": 0,
        "start_time": "2022-11-09T11:13:23.859Z"
      },
      {
        "duration": 0,
        "start_time": "2022-11-09T11:13:23.860Z"
      },
      {
        "duration": 0,
        "start_time": "2022-11-09T11:13:23.861Z"
      },
      {
        "duration": 0,
        "start_time": "2022-11-09T11:13:23.862Z"
      },
      {
        "duration": 0,
        "start_time": "2022-11-09T11:13:23.863Z"
      },
      {
        "duration": 0,
        "start_time": "2022-11-09T11:13:23.864Z"
      },
      {
        "duration": 0,
        "start_time": "2022-11-09T11:13:23.865Z"
      },
      {
        "duration": 0,
        "start_time": "2022-11-09T11:13:23.866Z"
      },
      {
        "duration": 0,
        "start_time": "2022-11-09T11:13:23.868Z"
      },
      {
        "duration": 0,
        "start_time": "2022-11-09T11:13:23.868Z"
      },
      {
        "duration": 0,
        "start_time": "2022-11-09T11:13:23.931Z"
      },
      {
        "duration": 0,
        "start_time": "2022-11-09T11:13:23.932Z"
      },
      {
        "duration": 0,
        "start_time": "2022-11-09T11:13:23.934Z"
      },
      {
        "duration": 0,
        "start_time": "2022-11-09T11:13:23.935Z"
      },
      {
        "duration": 1033,
        "start_time": "2022-11-09T11:14:07.344Z"
      },
      {
        "duration": 55,
        "start_time": "2022-11-09T11:14:08.379Z"
      },
      {
        "duration": 12,
        "start_time": "2022-11-09T11:14:08.436Z"
      },
      {
        "duration": 14,
        "start_time": "2022-11-09T11:14:08.450Z"
      },
      {
        "duration": 8,
        "start_time": "2022-11-09T11:14:08.467Z"
      },
      {
        "duration": 17,
        "start_time": "2022-11-09T11:14:08.476Z"
      },
      {
        "duration": 7,
        "start_time": "2022-11-09T11:14:08.495Z"
      },
      {
        "duration": 28,
        "start_time": "2022-11-09T11:14:08.503Z"
      },
      {
        "duration": 13,
        "start_time": "2022-11-09T11:14:08.532Z"
      },
      {
        "duration": 10,
        "start_time": "2022-11-09T11:14:08.547Z"
      },
      {
        "duration": 6,
        "start_time": "2022-11-09T11:14:08.559Z"
      },
      {
        "duration": 9,
        "start_time": "2022-11-09T11:14:08.567Z"
      },
      {
        "duration": 25,
        "start_time": "2022-11-09T11:14:08.578Z"
      },
      {
        "duration": 5,
        "start_time": "2022-11-09T11:14:08.606Z"
      },
      {
        "duration": 12,
        "start_time": "2022-11-09T11:14:08.631Z"
      },
      {
        "duration": 7,
        "start_time": "2022-11-09T11:14:08.645Z"
      },
      {
        "duration": 17,
        "start_time": "2022-11-09T11:14:08.654Z"
      },
      {
        "duration": 9,
        "start_time": "2022-11-09T11:14:08.672Z"
      },
      {
        "duration": 182,
        "start_time": "2022-11-09T11:14:08.683Z"
      },
      {
        "duration": 128,
        "start_time": "2022-11-09T11:14:08.867Z"
      },
      {
        "duration": 6,
        "start_time": "2022-11-09T11:14:08.997Z"
      },
      {
        "duration": 12,
        "start_time": "2022-11-09T11:14:09.004Z"
      },
      {
        "duration": 338,
        "start_time": "2022-11-09T11:14:09.017Z"
      },
      {
        "duration": 234,
        "start_time": "2022-11-09T11:14:09.357Z"
      },
      {
        "duration": 6,
        "start_time": "2022-11-09T11:14:09.593Z"
      },
      {
        "duration": 376,
        "start_time": "2022-11-09T11:14:09.601Z"
      },
      {
        "duration": 247,
        "start_time": "2022-11-09T11:14:09.979Z"
      },
      {
        "duration": 324,
        "start_time": "2022-11-09T11:14:10.230Z"
      },
      {
        "duration": 8,
        "start_time": "2022-11-09T11:14:10.555Z"
      },
      {
        "duration": 4,
        "start_time": "2022-11-09T11:14:10.565Z"
      },
      {
        "duration": 188,
        "start_time": "2022-11-09T11:14:10.571Z"
      },
      {
        "duration": 5,
        "start_time": "2022-11-09T11:14:10.760Z"
      },
      {
        "duration": 467,
        "start_time": "2022-11-09T11:14:10.767Z"
      },
      {
        "duration": 4,
        "start_time": "2022-11-09T11:14:11.236Z"
      },
      {
        "duration": 101,
        "start_time": "2022-11-09T11:14:11.241Z"
      },
      {
        "duration": 113,
        "start_time": "2022-11-09T11:14:11.344Z"
      },
      {
        "duration": 189,
        "start_time": "2022-11-09T11:14:11.459Z"
      },
      {
        "duration": 111,
        "start_time": "2022-11-09T11:14:11.649Z"
      },
      {
        "duration": 75,
        "start_time": "2022-11-09T11:14:11.761Z"
      },
      {
        "duration": 293,
        "start_time": "2022-11-09T11:14:11.838Z"
      },
      {
        "duration": 6,
        "start_time": "2022-11-09T11:14:12.135Z"
      },
      {
        "duration": 25,
        "start_time": "2022-11-09T11:14:12.142Z"
      },
      {
        "duration": 4,
        "start_time": "2022-11-09T11:14:12.169Z"
      },
      {
        "duration": 11,
        "start_time": "2022-11-09T11:14:12.231Z"
      },
      {
        "duration": 9,
        "start_time": "2022-11-09T11:14:12.243Z"
      },
      {
        "duration": 9,
        "start_time": "2022-11-09T11:14:12.254Z"
      },
      {
        "duration": 6,
        "start_time": "2022-11-09T11:14:12.265Z"
      },
      {
        "duration": 75,
        "start_time": "2022-11-09T11:14:12.273Z"
      },
      {
        "duration": 5,
        "start_time": "2022-11-09T11:14:12.349Z"
      },
      {
        "duration": 18,
        "start_time": "2022-11-09T11:14:12.355Z"
      },
      {
        "duration": 59,
        "start_time": "2022-11-09T11:14:12.375Z"
      },
      {
        "duration": 316,
        "start_time": "2022-11-09T11:14:12.436Z"
      },
      {
        "duration": 6,
        "start_time": "2022-11-09T11:14:12.754Z"
      },
      {
        "duration": 11,
        "start_time": "2022-11-09T11:14:12.762Z"
      },
      {
        "duration": 59,
        "start_time": "2022-11-09T11:14:12.774Z"
      },
      {
        "duration": 720,
        "start_time": "2022-11-09T11:14:12.834Z"
      },
      {
        "duration": 331,
        "start_time": "2022-11-09T11:14:13.556Z"
      },
      {
        "duration": 398,
        "start_time": "2022-11-09T11:14:13.889Z"
      },
      {
        "duration": 7,
        "start_time": "2022-11-09T11:15:18.943Z"
      },
      {
        "duration": 6,
        "start_time": "2022-11-09T11:15:25.973Z"
      },
      {
        "duration": 7,
        "start_time": "2022-11-09T11:15:38.933Z"
      },
      {
        "duration": 18,
        "start_time": "2022-11-09T11:16:04.968Z"
      },
      {
        "duration": 7,
        "start_time": "2022-11-09T11:16:20.931Z"
      },
      {
        "duration": 1047,
        "start_time": "2022-11-09T11:22:37.930Z"
      },
      {
        "duration": 55,
        "start_time": "2022-11-09T11:22:38.978Z"
      },
      {
        "duration": 11,
        "start_time": "2022-11-09T11:22:39.034Z"
      },
      {
        "duration": 13,
        "start_time": "2022-11-09T11:22:39.047Z"
      },
      {
        "duration": 9,
        "start_time": "2022-11-09T11:22:39.061Z"
      },
      {
        "duration": 12,
        "start_time": "2022-11-09T11:22:39.072Z"
      },
      {
        "duration": 7,
        "start_time": "2022-11-09T11:22:39.085Z"
      },
      {
        "duration": 12,
        "start_time": "2022-11-09T11:22:39.093Z"
      },
      {
        "duration": 30,
        "start_time": "2022-11-09T11:22:39.106Z"
      },
      {
        "duration": 13,
        "start_time": "2022-11-09T11:22:39.138Z"
      },
      {
        "duration": 7,
        "start_time": "2022-11-09T11:22:39.152Z"
      },
      {
        "duration": 10,
        "start_time": "2022-11-09T11:22:39.160Z"
      },
      {
        "duration": 20,
        "start_time": "2022-11-09T11:22:39.171Z"
      },
      {
        "duration": 9,
        "start_time": "2022-11-09T11:22:39.193Z"
      },
      {
        "duration": 28,
        "start_time": "2022-11-09T11:22:39.203Z"
      },
      {
        "duration": 5,
        "start_time": "2022-11-09T11:22:39.233Z"
      },
      {
        "duration": 14,
        "start_time": "2022-11-09T11:22:39.239Z"
      },
      {
        "duration": 8,
        "start_time": "2022-11-09T11:22:39.254Z"
      },
      {
        "duration": 17,
        "start_time": "2022-11-09T11:22:39.263Z"
      },
      {
        "duration": 10,
        "start_time": "2022-11-09T11:22:39.281Z"
      },
      {
        "duration": 175,
        "start_time": "2022-11-09T11:22:39.293Z"
      },
      {
        "duration": 122,
        "start_time": "2022-11-09T11:22:39.470Z"
      },
      {
        "duration": 6,
        "start_time": "2022-11-09T11:22:39.595Z"
      },
      {
        "duration": 12,
        "start_time": "2022-11-09T11:22:39.602Z"
      },
      {
        "duration": 301,
        "start_time": "2022-11-09T11:22:39.616Z"
      },
      {
        "duration": 224,
        "start_time": "2022-11-09T11:22:39.919Z"
      },
      {
        "duration": 6,
        "start_time": "2022-11-09T11:22:40.145Z"
      },
      {
        "duration": 333,
        "start_time": "2022-11-09T11:22:40.155Z"
      },
      {
        "duration": 226,
        "start_time": "2022-11-09T11:22:40.490Z"
      },
      {
        "duration": 338,
        "start_time": "2022-11-09T11:22:40.717Z"
      },
      {
        "duration": 8,
        "start_time": "2022-11-09T11:22:41.057Z"
      },
      {
        "duration": 11,
        "start_time": "2022-11-09T11:22:41.066Z"
      },
      {
        "duration": 159,
        "start_time": "2022-11-09T11:22:41.079Z"
      },
      {
        "duration": 5,
        "start_time": "2022-11-09T11:22:41.240Z"
      },
      {
        "duration": 317,
        "start_time": "2022-11-09T11:22:41.247Z"
      },
      {
        "duration": 6,
        "start_time": "2022-11-09T11:22:41.566Z"
      },
      {
        "duration": 58,
        "start_time": "2022-11-09T11:22:41.573Z"
      },
      {
        "duration": 48,
        "start_time": "2022-11-09T11:22:41.633Z"
      },
      {
        "duration": 63,
        "start_time": "2022-11-09T11:22:41.683Z"
      },
      {
        "duration": 58,
        "start_time": "2022-11-09T11:22:41.748Z"
      },
      {
        "duration": 38,
        "start_time": "2022-11-09T11:22:41.808Z"
      },
      {
        "duration": 136,
        "start_time": "2022-11-09T11:22:41.848Z"
      },
      {
        "duration": 7,
        "start_time": "2022-11-09T11:22:41.985Z"
      },
      {
        "duration": 39,
        "start_time": "2022-11-09T11:22:41.994Z"
      },
      {
        "duration": 5,
        "start_time": "2022-11-09T11:22:42.034Z"
      },
      {
        "duration": 13,
        "start_time": "2022-11-09T11:22:42.041Z"
      },
      {
        "duration": 10,
        "start_time": "2022-11-09T11:22:42.056Z"
      },
      {
        "duration": 11,
        "start_time": "2022-11-09T11:22:42.068Z"
      },
      {
        "duration": 5,
        "start_time": "2022-11-09T11:22:42.081Z"
      },
      {
        "duration": 45,
        "start_time": "2022-11-09T11:22:42.088Z"
      },
      {
        "duration": 4,
        "start_time": "2022-11-09T11:22:42.135Z"
      },
      {
        "duration": 17,
        "start_time": "2022-11-09T11:22:42.140Z"
      },
      {
        "duration": 5,
        "start_time": "2022-11-09T11:22:42.159Z"
      },
      {
        "duration": 171,
        "start_time": "2022-11-09T11:22:42.165Z"
      },
      {
        "duration": 6,
        "start_time": "2022-11-09T11:22:42.337Z"
      },
      {
        "duration": 11,
        "start_time": "2022-11-09T11:22:42.344Z"
      },
      {
        "duration": 12,
        "start_time": "2022-11-09T11:22:42.356Z"
      },
      {
        "duration": 672,
        "start_time": "2022-11-09T11:22:42.370Z"
      },
      {
        "duration": 321,
        "start_time": "2022-11-09T11:22:43.044Z"
      },
      {
        "duration": 340,
        "start_time": "2022-11-09T11:22:43.367Z"
      },
      {
        "duration": 7,
        "start_time": "2022-11-09T11:27:24.739Z"
      },
      {
        "duration": 8,
        "start_time": "2022-11-09T11:27:30.927Z"
      },
      {
        "duration": 9,
        "start_time": "2022-11-09T11:27:35.042Z"
      },
      {
        "duration": 9,
        "start_time": "2022-11-09T11:28:25.218Z"
      },
      {
        "duration": 9,
        "start_time": "2022-11-09T11:29:10.795Z"
      },
      {
        "duration": 114,
        "start_time": "2022-11-09T11:30:11.664Z"
      },
      {
        "duration": 15,
        "start_time": "2022-11-09T11:30:17.905Z"
      },
      {
        "duration": 9,
        "start_time": "2022-11-09T11:30:28.355Z"
      },
      {
        "duration": 6,
        "start_time": "2022-11-09T11:34:24.337Z"
      },
      {
        "duration": 6,
        "start_time": "2022-11-09T11:34:29.843Z"
      },
      {
        "duration": 6,
        "start_time": "2022-11-09T11:34:47.279Z"
      },
      {
        "duration": 5,
        "start_time": "2022-11-09T11:34:48.732Z"
      },
      {
        "duration": 5,
        "start_time": "2022-11-09T11:35:25.253Z"
      },
      {
        "duration": 4,
        "start_time": "2022-11-09T11:35:26.978Z"
      },
      {
        "duration": 11,
        "start_time": "2022-11-09T11:35:51.130Z"
      },
      {
        "duration": 8,
        "start_time": "2022-11-09T11:36:05.135Z"
      },
      {
        "duration": 4,
        "start_time": "2022-11-09T11:36:07.405Z"
      },
      {
        "duration": 5,
        "start_time": "2022-11-09T11:36:41.233Z"
      },
      {
        "duration": 5,
        "start_time": "2022-11-09T11:36:41.805Z"
      },
      {
        "duration": 8,
        "start_time": "2022-11-09T11:36:50.746Z"
      },
      {
        "duration": 9,
        "start_time": "2022-11-09T11:36:57.617Z"
      },
      {
        "duration": 9,
        "start_time": "2022-11-09T11:37:00.533Z"
      },
      {
        "duration": 4,
        "start_time": "2022-11-09T11:37:11.023Z"
      },
      {
        "duration": 6,
        "start_time": "2022-11-09T11:37:43.176Z"
      },
      {
        "duration": 6,
        "start_time": "2022-11-09T11:37:43.481Z"
      },
      {
        "duration": 4,
        "start_time": "2022-11-09T11:37:43.901Z"
      },
      {
        "duration": 1164,
        "start_time": "2022-11-09T11:39:06.112Z"
      },
      {
        "duration": 55,
        "start_time": "2022-11-09T11:39:07.278Z"
      },
      {
        "duration": 14,
        "start_time": "2022-11-09T11:39:07.334Z"
      },
      {
        "duration": 14,
        "start_time": "2022-11-09T11:39:07.349Z"
      },
      {
        "duration": 6,
        "start_time": "2022-11-09T11:39:07.365Z"
      },
      {
        "duration": 12,
        "start_time": "2022-11-09T11:39:07.372Z"
      },
      {
        "duration": 10,
        "start_time": "2022-11-09T11:39:07.386Z"
      },
      {
        "duration": 35,
        "start_time": "2022-11-09T11:39:07.398Z"
      },
      {
        "duration": 8,
        "start_time": "2022-11-09T11:39:07.434Z"
      },
      {
        "duration": 11,
        "start_time": "2022-11-09T11:39:07.444Z"
      },
      {
        "duration": 12,
        "start_time": "2022-11-09T11:39:07.456Z"
      },
      {
        "duration": 10,
        "start_time": "2022-11-09T11:39:07.469Z"
      },
      {
        "duration": 21,
        "start_time": "2022-11-09T11:39:07.480Z"
      },
      {
        "duration": 29,
        "start_time": "2022-11-09T11:39:07.506Z"
      },
      {
        "duration": 10,
        "start_time": "2022-11-09T11:39:07.537Z"
      },
      {
        "duration": 12,
        "start_time": "2022-11-09T11:39:07.549Z"
      },
      {
        "duration": 17,
        "start_time": "2022-11-09T11:39:07.562Z"
      },
      {
        "duration": 13,
        "start_time": "2022-11-09T11:39:07.581Z"
      },
      {
        "duration": 16,
        "start_time": "2022-11-09T11:39:07.595Z"
      },
      {
        "duration": 7,
        "start_time": "2022-11-09T11:39:07.631Z"
      },
      {
        "duration": 9,
        "start_time": "2022-11-09T11:39:07.640Z"
      },
      {
        "duration": 6,
        "start_time": "2022-11-09T11:39:07.650Z"
      },
      {
        "duration": 14,
        "start_time": "2022-11-09T11:39:07.658Z"
      },
      {
        "duration": 7,
        "start_time": "2022-11-09T11:39:07.674Z"
      },
      {
        "duration": 15,
        "start_time": "2022-11-09T11:39:07.682Z"
      },
      {
        "duration": 32,
        "start_time": "2022-11-09T11:39:07.699Z"
      },
      {
        "duration": 168,
        "start_time": "2022-11-09T11:39:07.732Z"
      },
      {
        "duration": 134,
        "start_time": "2022-11-09T11:39:07.902Z"
      },
      {
        "duration": 8,
        "start_time": "2022-11-09T11:39:08.038Z"
      },
      {
        "duration": 13,
        "start_time": "2022-11-09T11:39:08.048Z"
      },
      {
        "duration": 325,
        "start_time": "2022-11-09T11:39:08.063Z"
      },
      {
        "duration": 259,
        "start_time": "2022-11-09T11:39:08.390Z"
      },
      {
        "duration": 7,
        "start_time": "2022-11-09T11:39:08.651Z"
      },
      {
        "duration": 329,
        "start_time": "2022-11-09T11:39:08.659Z"
      },
      {
        "duration": 253,
        "start_time": "2022-11-09T11:39:08.990Z"
      },
      {
        "duration": 319,
        "start_time": "2022-11-09T11:39:09.245Z"
      },
      {
        "duration": 7,
        "start_time": "2022-11-09T11:39:09.567Z"
      },
      {
        "duration": 10,
        "start_time": "2022-11-09T11:39:09.576Z"
      },
      {
        "duration": 184,
        "start_time": "2022-11-09T11:39:09.588Z"
      },
      {
        "duration": 4,
        "start_time": "2022-11-09T11:39:09.774Z"
      },
      {
        "duration": 336,
        "start_time": "2022-11-09T11:39:09.783Z"
      },
      {
        "duration": 13,
        "start_time": "2022-11-09T11:39:10.121Z"
      },
      {
        "duration": 54,
        "start_time": "2022-11-09T11:39:10.135Z"
      },
      {
        "duration": 53,
        "start_time": "2022-11-09T11:39:10.191Z"
      },
      {
        "duration": 58,
        "start_time": "2022-11-09T11:39:10.245Z"
      },
      {
        "duration": 74,
        "start_time": "2022-11-09T11:39:10.304Z"
      },
      {
        "duration": 20,
        "start_time": "2022-11-09T11:39:10.380Z"
      },
      {
        "duration": 138,
        "start_time": "2022-11-09T11:39:10.402Z"
      },
      {
        "duration": 6,
        "start_time": "2022-11-09T11:39:10.542Z"
      },
      {
        "duration": 25,
        "start_time": "2022-11-09T11:39:10.550Z"
      },
      {
        "duration": 4,
        "start_time": "2022-11-09T11:39:10.577Z"
      },
      {
        "duration": 12,
        "start_time": "2022-11-09T11:39:10.583Z"
      },
      {
        "duration": 38,
        "start_time": "2022-11-09T11:39:10.596Z"
      },
      {
        "duration": 6,
        "start_time": "2022-11-09T11:39:10.636Z"
      },
      {
        "duration": 10,
        "start_time": "2022-11-09T11:39:10.644Z"
      },
      {
        "duration": 32,
        "start_time": "2022-11-09T11:39:10.656Z"
      },
      {
        "duration": 4,
        "start_time": "2022-11-09T11:39:10.689Z"
      },
      {
        "duration": 14,
        "start_time": "2022-11-09T11:39:10.694Z"
      },
      {
        "duration": 22,
        "start_time": "2022-11-09T11:39:10.710Z"
      },
      {
        "duration": 160,
        "start_time": "2022-11-09T11:39:10.733Z"
      },
      {
        "duration": 6,
        "start_time": "2022-11-09T11:39:10.894Z"
      },
      {
        "duration": 9,
        "start_time": "2022-11-09T11:39:10.902Z"
      },
      {
        "duration": 18,
        "start_time": "2022-11-09T11:39:10.913Z"
      },
      {
        "duration": 670,
        "start_time": "2022-11-09T11:39:10.932Z"
      },
      {
        "duration": 361,
        "start_time": "2022-11-09T11:39:11.604Z"
      },
      {
        "duration": 345,
        "start_time": "2022-11-09T11:39:11.966Z"
      },
      {
        "duration": 8,
        "start_time": "2022-11-09T11:40:23.968Z"
      },
      {
        "duration": 8,
        "start_time": "2022-11-09T11:40:25.522Z"
      },
      {
        "duration": 6,
        "start_time": "2022-11-09T11:40:40.185Z"
      },
      {
        "duration": 14,
        "start_time": "2022-11-09T11:40:57.566Z"
      },
      {
        "duration": 15,
        "start_time": "2022-11-09T11:41:03.255Z"
      },
      {
        "duration": 8,
        "start_time": "2022-11-09T11:41:42.435Z"
      },
      {
        "duration": 9,
        "start_time": "2022-11-09T11:41:45.820Z"
      },
      {
        "duration": 4,
        "start_time": "2022-11-09T11:42:04.504Z"
      },
      {
        "duration": 285,
        "start_time": "2022-11-09T11:45:51.273Z"
      },
      {
        "duration": 150,
        "start_time": "2022-11-09T11:45:58.638Z"
      },
      {
        "duration": 10,
        "start_time": "2022-11-09T11:49:35.530Z"
      },
      {
        "duration": 266,
        "start_time": "2022-11-09T11:50:02.163Z"
      },
      {
        "duration": 265,
        "start_time": "2022-11-09T11:51:07.734Z"
      },
      {
        "duration": 292,
        "start_time": "2022-11-09T11:51:11.281Z"
      },
      {
        "duration": 2062,
        "start_time": "2022-11-09T11:51:23.004Z"
      },
      {
        "duration": 252,
        "start_time": "2022-11-09T11:51:36.743Z"
      },
      {
        "duration": 136,
        "start_time": "2022-11-09T11:52:14.056Z"
      },
      {
        "duration": 71,
        "start_time": "2022-11-09T11:53:04.075Z"
      },
      {
        "duration": 5,
        "start_time": "2022-11-09T11:53:17.513Z"
      },
      {
        "duration": 251,
        "start_time": "2022-11-09T11:54:45.802Z"
      },
      {
        "duration": 374,
        "start_time": "2022-11-09T11:55:02.401Z"
      },
      {
        "duration": 227,
        "start_time": "2022-11-09T11:55:58.681Z"
      },
      {
        "duration": 236,
        "start_time": "2022-11-09T11:56:18.561Z"
      },
      {
        "duration": 15,
        "start_time": "2022-11-09T12:01:01.382Z"
      },
      {
        "duration": 8,
        "start_time": "2022-11-09T12:02:15.777Z"
      },
      {
        "duration": 1165,
        "start_time": "2022-11-09T12:48:45.899Z"
      },
      {
        "duration": 55,
        "start_time": "2022-11-09T12:48:47.065Z"
      },
      {
        "duration": 12,
        "start_time": "2022-11-09T12:48:47.122Z"
      },
      {
        "duration": 12,
        "start_time": "2022-11-09T12:48:47.136Z"
      },
      {
        "duration": 7,
        "start_time": "2022-11-09T12:48:47.150Z"
      },
      {
        "duration": 15,
        "start_time": "2022-11-09T12:48:47.159Z"
      },
      {
        "duration": 7,
        "start_time": "2022-11-09T12:48:47.176Z"
      },
      {
        "duration": 11,
        "start_time": "2022-11-09T12:48:47.184Z"
      },
      {
        "duration": 8,
        "start_time": "2022-11-09T12:48:47.197Z"
      },
      {
        "duration": 8,
        "start_time": "2022-11-09T12:48:47.232Z"
      },
      {
        "duration": 6,
        "start_time": "2022-11-09T12:48:47.242Z"
      },
      {
        "duration": 8,
        "start_time": "2022-11-09T12:48:47.249Z"
      },
      {
        "duration": 22,
        "start_time": "2022-11-09T12:48:47.259Z"
      },
      {
        "duration": 9,
        "start_time": "2022-11-09T12:48:47.283Z"
      },
      {
        "duration": 377,
        "start_time": "2022-11-09T12:48:47.293Z"
      },
      {
        "duration": 11,
        "start_time": "2022-11-09T12:48:47.672Z"
      },
      {
        "duration": 7,
        "start_time": "2022-11-09T12:48:47.685Z"
      },
      {
        "duration": 8,
        "start_time": "2022-11-09T12:48:47.693Z"
      },
      {
        "duration": 10,
        "start_time": "2022-11-09T12:48:47.702Z"
      },
      {
        "duration": 4,
        "start_time": "2022-11-09T12:48:47.714Z"
      },
      {
        "duration": 12,
        "start_time": "2022-11-09T12:48:47.719Z"
      },
      {
        "duration": 11,
        "start_time": "2022-11-09T12:48:47.732Z"
      },
      {
        "duration": 12,
        "start_time": "2022-11-09T12:48:47.745Z"
      },
      {
        "duration": 16,
        "start_time": "2022-11-09T12:48:47.759Z"
      },
      {
        "duration": 17,
        "start_time": "2022-11-09T12:48:47.778Z"
      },
      {
        "duration": 188,
        "start_time": "2022-11-09T12:48:47.796Z"
      },
      {
        "duration": 122,
        "start_time": "2022-11-09T12:48:47.986Z"
      },
      {
        "duration": 20,
        "start_time": "2022-11-09T12:48:48.111Z"
      },
      {
        "duration": 8,
        "start_time": "2022-11-09T12:48:48.133Z"
      },
      {
        "duration": 224,
        "start_time": "2022-11-09T12:48:48.142Z"
      },
      {
        "duration": 239,
        "start_time": "2022-11-09T12:48:48.368Z"
      },
      {
        "duration": 6,
        "start_time": "2022-11-09T12:48:48.608Z"
      },
      {
        "duration": 341,
        "start_time": "2022-11-09T12:48:48.615Z"
      },
      {
        "duration": 231,
        "start_time": "2022-11-09T12:48:48.958Z"
      },
      {
        "duration": 370,
        "start_time": "2022-11-09T12:48:49.191Z"
      },
      {
        "duration": 9,
        "start_time": "2022-11-09T12:48:49.563Z"
      },
      {
        "duration": 57,
        "start_time": "2022-11-09T12:48:49.574Z"
      },
      {
        "duration": 318,
        "start_time": "2022-11-09T12:48:49.632Z"
      },
      {
        "duration": 5,
        "start_time": "2022-11-09T12:48:49.951Z"
      },
      {
        "duration": 582,
        "start_time": "2022-11-09T12:48:49.957Z"
      },
      {
        "duration": 6,
        "start_time": "2022-11-09T12:48:50.540Z"
      },
      {
        "duration": 284,
        "start_time": "2022-11-09T12:48:50.547Z"
      },
      {
        "duration": 112,
        "start_time": "2022-11-09T12:48:50.833Z"
      },
      {
        "duration": 117,
        "start_time": "2022-11-09T12:48:50.947Z"
      },
      {
        "duration": 168,
        "start_time": "2022-11-09T12:48:51.066Z"
      },
      {
        "duration": 23,
        "start_time": "2022-11-09T12:48:51.236Z"
      },
      {
        "duration": 290,
        "start_time": "2022-11-09T12:48:51.261Z"
      },
      {
        "duration": 7,
        "start_time": "2022-11-09T12:48:51.552Z"
      },
      {
        "duration": 33,
        "start_time": "2022-11-09T12:48:51.560Z"
      },
      {
        "duration": 5,
        "start_time": "2022-11-09T12:48:51.595Z"
      },
      {
        "duration": 33,
        "start_time": "2022-11-09T12:48:51.602Z"
      },
      {
        "duration": 8,
        "start_time": "2022-11-09T12:48:51.637Z"
      },
      {
        "duration": 7,
        "start_time": "2022-11-09T12:48:51.647Z"
      },
      {
        "duration": 5,
        "start_time": "2022-11-09T12:48:51.655Z"
      },
      {
        "duration": 27,
        "start_time": "2022-11-09T12:48:51.662Z"
      },
      {
        "duration": 5,
        "start_time": "2022-11-09T12:48:51.690Z"
      },
      {
        "duration": 40,
        "start_time": "2022-11-09T12:48:51.696Z"
      },
      {
        "duration": 5,
        "start_time": "2022-11-09T12:48:51.738Z"
      },
      {
        "duration": 168,
        "start_time": "2022-11-09T12:48:51.744Z"
      },
      {
        "duration": 6,
        "start_time": "2022-11-09T12:48:51.914Z"
      },
      {
        "duration": 13,
        "start_time": "2022-11-09T12:48:51.921Z"
      },
      {
        "duration": 8,
        "start_time": "2022-11-09T12:48:51.935Z"
      },
      {
        "duration": 604,
        "start_time": "2022-11-09T12:48:51.944Z"
      },
      {
        "duration": 343,
        "start_time": "2022-11-09T12:48:52.550Z"
      },
      {
        "duration": 351,
        "start_time": "2022-11-09T12:48:52.894Z"
      },
      {
        "duration": 5,
        "start_time": "2022-11-09T12:49:24.547Z"
      },
      {
        "duration": 7,
        "start_time": "2022-11-09T12:50:10.739Z"
      },
      {
        "duration": 6,
        "start_time": "2022-11-09T12:50:24.736Z"
      },
      {
        "duration": 74,
        "start_time": "2022-11-09T12:50:39.708Z"
      },
      {
        "duration": 112,
        "start_time": "2022-11-09T12:50:49.491Z"
      },
      {
        "duration": 9,
        "start_time": "2022-11-09T12:50:59.071Z"
      },
      {
        "duration": 27,
        "start_time": "2022-11-09T12:51:11.575Z"
      },
      {
        "duration": 16,
        "start_time": "2022-11-09T12:51:23.202Z"
      },
      {
        "duration": 71,
        "start_time": "2022-11-09T12:51:46.187Z"
      },
      {
        "duration": 16,
        "start_time": "2022-11-09T12:51:49.332Z"
      },
      {
        "duration": 14,
        "start_time": "2022-11-09T12:52:01.625Z"
      },
      {
        "duration": 11,
        "start_time": "2022-11-09T12:52:18.967Z"
      },
      {
        "duration": 13,
        "start_time": "2022-11-09T12:52:22.323Z"
      },
      {
        "duration": 5,
        "start_time": "2022-11-09T12:52:33.287Z"
      },
      {
        "duration": 16,
        "start_time": "2022-11-09T12:52:53.603Z"
      },
      {
        "duration": 15,
        "start_time": "2022-11-09T12:53:07.008Z"
      },
      {
        "duration": 240,
        "start_time": "2022-11-09T12:58:56.095Z"
      },
      {
        "duration": 1165,
        "start_time": "2022-11-09T13:03:45.428Z"
      },
      {
        "duration": 56,
        "start_time": "2022-11-09T13:03:46.595Z"
      },
      {
        "duration": 12,
        "start_time": "2022-11-09T13:03:46.653Z"
      },
      {
        "duration": 17,
        "start_time": "2022-11-09T13:03:46.667Z"
      },
      {
        "duration": 38,
        "start_time": "2022-11-09T13:03:46.685Z"
      },
      {
        "duration": 22,
        "start_time": "2022-11-09T13:03:46.725Z"
      },
      {
        "duration": 31,
        "start_time": "2022-11-09T13:03:46.749Z"
      },
      {
        "duration": 22,
        "start_time": "2022-11-09T13:03:46.782Z"
      },
      {
        "duration": 34,
        "start_time": "2022-11-09T13:03:46.805Z"
      },
      {
        "duration": 20,
        "start_time": "2022-11-09T13:03:46.843Z"
      },
      {
        "duration": 20,
        "start_time": "2022-11-09T13:03:46.865Z"
      },
      {
        "duration": 16,
        "start_time": "2022-11-09T13:03:46.887Z"
      },
      {
        "duration": 29,
        "start_time": "2022-11-09T13:03:46.905Z"
      },
      {
        "duration": 20,
        "start_time": "2022-11-09T13:03:46.935Z"
      },
      {
        "duration": 357,
        "start_time": "2022-11-09T13:03:46.957Z"
      },
      {
        "duration": 9,
        "start_time": "2022-11-09T13:03:47.316Z"
      },
      {
        "duration": 22,
        "start_time": "2022-11-09T13:03:47.326Z"
      },
      {
        "duration": 21,
        "start_time": "2022-11-09T13:03:47.349Z"
      },
      {
        "duration": 19,
        "start_time": "2022-11-09T13:03:47.371Z"
      },
      {
        "duration": 21,
        "start_time": "2022-11-09T13:03:47.391Z"
      },
      {
        "duration": 122,
        "start_time": "2022-11-09T13:03:47.414Z"
      },
      {
        "duration": 15,
        "start_time": "2022-11-09T13:03:47.538Z"
      },
      {
        "duration": 4,
        "start_time": "2022-11-09T13:03:47.555Z"
      },
      {
        "duration": 18,
        "start_time": "2022-11-09T13:03:47.560Z"
      },
      {
        "duration": 8,
        "start_time": "2022-11-09T13:03:47.579Z"
      },
      {
        "duration": 23,
        "start_time": "2022-11-09T13:03:47.589Z"
      },
      {
        "duration": 21,
        "start_time": "2022-11-09T13:03:47.614Z"
      },
      {
        "duration": 196,
        "start_time": "2022-11-09T13:03:47.639Z"
      },
      {
        "duration": 136,
        "start_time": "2022-11-09T13:03:47.837Z"
      },
      {
        "duration": 6,
        "start_time": "2022-11-09T13:03:47.974Z"
      },
      {
        "duration": 7,
        "start_time": "2022-11-09T13:03:47.982Z"
      },
      {
        "duration": 243,
        "start_time": "2022-11-09T13:03:47.991Z"
      },
      {
        "duration": 240,
        "start_time": "2022-11-09T13:03:48.235Z"
      },
      {
        "duration": 6,
        "start_time": "2022-11-09T13:03:48.477Z"
      },
      {
        "duration": 339,
        "start_time": "2022-11-09T13:03:48.484Z"
      },
      {
        "duration": 240,
        "start_time": "2022-11-09T13:03:48.831Z"
      },
      {
        "duration": 565,
        "start_time": "2022-11-09T13:03:49.073Z"
      },
      {
        "duration": 7,
        "start_time": "2022-11-09T13:03:49.639Z"
      },
      {
        "duration": 22,
        "start_time": "2022-11-09T13:03:49.647Z"
      },
      {
        "duration": 375,
        "start_time": "2022-11-09T13:03:49.670Z"
      },
      {
        "duration": 5,
        "start_time": "2022-11-09T13:03:50.047Z"
      },
      {
        "duration": 580,
        "start_time": "2022-11-09T13:03:50.053Z"
      },
      {
        "duration": 5,
        "start_time": "2022-11-09T13:03:50.635Z"
      },
      {
        "duration": 290,
        "start_time": "2022-11-09T13:03:50.641Z"
      },
      {
        "duration": 100,
        "start_time": "2022-11-09T13:03:50.933Z"
      },
      {
        "duration": 99,
        "start_time": "2022-11-09T13:03:51.034Z"
      },
      {
        "duration": 87,
        "start_time": "2022-11-09T13:03:51.135Z"
      },
      {
        "duration": 23,
        "start_time": "2022-11-09T13:03:51.223Z"
      },
      {
        "duration": 183,
        "start_time": "2022-11-09T13:03:51.248Z"
      },
      {
        "duration": 7,
        "start_time": "2022-11-09T13:03:51.433Z"
      },
      {
        "duration": 42,
        "start_time": "2022-11-09T13:03:51.441Z"
      },
      {
        "duration": 10,
        "start_time": "2022-11-09T13:03:51.485Z"
      },
      {
        "duration": 25,
        "start_time": "2022-11-09T13:03:51.496Z"
      },
      {
        "duration": 27,
        "start_time": "2022-11-09T13:03:51.522Z"
      },
      {
        "duration": 16,
        "start_time": "2022-11-09T13:03:51.551Z"
      },
      {
        "duration": 31,
        "start_time": "2022-11-09T13:03:51.568Z"
      },
      {
        "duration": 53,
        "start_time": "2022-11-09T13:03:51.601Z"
      },
      {
        "duration": 4,
        "start_time": "2022-11-09T13:03:51.656Z"
      },
      {
        "duration": 35,
        "start_time": "2022-11-09T13:03:51.661Z"
      },
      {
        "duration": 15,
        "start_time": "2022-11-09T13:03:51.698Z"
      },
      {
        "duration": 168,
        "start_time": "2022-11-09T13:03:51.715Z"
      },
      {
        "duration": 7,
        "start_time": "2022-11-09T13:03:51.884Z"
      },
      {
        "duration": 10,
        "start_time": "2022-11-09T13:03:51.893Z"
      },
      {
        "duration": 26,
        "start_time": "2022-11-09T13:03:51.904Z"
      },
      {
        "duration": 607,
        "start_time": "2022-11-09T13:03:51.932Z"
      },
      {
        "duration": 339,
        "start_time": "2022-11-09T13:03:52.540Z"
      },
      {
        "duration": 353,
        "start_time": "2022-11-09T13:03:52.881Z"
      },
      {
        "duration": 4,
        "start_time": "2022-11-09T13:06:03.316Z"
      },
      {
        "duration": 14,
        "start_time": "2022-11-09T13:06:04.096Z"
      },
      {
        "duration": 5,
        "start_time": "2022-11-09T13:06:11.287Z"
      },
      {
        "duration": 12,
        "start_time": "2022-11-09T13:06:11.858Z"
      },
      {
        "duration": 5,
        "start_time": "2022-11-09T13:06:18.509Z"
      },
      {
        "duration": 14,
        "start_time": "2022-11-09T13:06:19.111Z"
      },
      {
        "duration": 5,
        "start_time": "2022-11-09T13:06:22.419Z"
      },
      {
        "duration": 14,
        "start_time": "2022-11-09T13:06:22.910Z"
      },
      {
        "duration": 5,
        "start_time": "2022-11-09T13:06:42.923Z"
      },
      {
        "duration": 11,
        "start_time": "2022-11-09T13:06:43.545Z"
      },
      {
        "duration": 5,
        "start_time": "2022-11-09T13:06:54.329Z"
      },
      {
        "duration": 11,
        "start_time": "2022-11-09T13:06:54.813Z"
      },
      {
        "duration": 5,
        "start_time": "2022-11-09T13:07:04.546Z"
      },
      {
        "duration": 12,
        "start_time": "2022-11-09T13:07:05.927Z"
      },
      {
        "duration": 434,
        "start_time": "2022-11-09T13:20:34.333Z"
      },
      {
        "duration": 383,
        "start_time": "2022-11-09T13:20:50.259Z"
      },
      {
        "duration": 428,
        "start_time": "2022-11-09T13:21:17.090Z"
      },
      {
        "duration": 257,
        "start_time": "2022-11-09T13:21:42.398Z"
      },
      {
        "duration": 421,
        "start_time": "2022-11-09T13:21:56.172Z"
      },
      {
        "duration": 468,
        "start_time": "2022-11-09T13:22:10.974Z"
      },
      {
        "duration": 452,
        "start_time": "2022-11-09T13:22:17.543Z"
      },
      {
        "duration": 505,
        "start_time": "2022-11-09T13:26:32.689Z"
      },
      {
        "duration": 521,
        "start_time": "2022-11-09T13:27:04.257Z"
      },
      {
        "duration": 532,
        "start_time": "2022-11-09T13:27:21.066Z"
      },
      {
        "duration": 98,
        "start_time": "2022-11-09T13:31:28.437Z"
      },
      {
        "duration": 8,
        "start_time": "2022-11-09T13:32:24.116Z"
      },
      {
        "duration": 23,
        "start_time": "2022-11-09T13:32:29.931Z"
      },
      {
        "duration": 6,
        "start_time": "2022-11-09T13:32:31.323Z"
      },
      {
        "duration": 29,
        "start_time": "2022-11-09T13:33:33.991Z"
      },
      {
        "duration": 25,
        "start_time": "2022-11-09T13:33:47.366Z"
      },
      {
        "duration": 28,
        "start_time": "2022-11-09T13:33:55.587Z"
      },
      {
        "duration": 10,
        "start_time": "2022-11-09T13:37:03.709Z"
      },
      {
        "duration": 11,
        "start_time": "2022-11-09T13:37:24.564Z"
      },
      {
        "duration": 77,
        "start_time": "2022-11-09T13:38:27.475Z"
      },
      {
        "duration": 22,
        "start_time": "2022-11-09T13:38:56.446Z"
      },
      {
        "duration": 5,
        "start_time": "2022-11-09T13:39:23.083Z"
      },
      {
        "duration": 5,
        "start_time": "2022-11-09T13:39:30.496Z"
      },
      {
        "duration": 5,
        "start_time": "2022-11-09T13:39:39.574Z"
      },
      {
        "duration": 5,
        "start_time": "2022-11-09T13:40:29.930Z"
      },
      {
        "duration": 109,
        "start_time": "2022-11-09T13:40:45.661Z"
      },
      {
        "duration": 5,
        "start_time": "2022-11-09T13:40:48.823Z"
      },
      {
        "duration": 5,
        "start_time": "2022-11-09T13:41:06.564Z"
      },
      {
        "duration": 10,
        "start_time": "2022-11-09T13:41:15.940Z"
      },
      {
        "duration": 11,
        "start_time": "2022-11-09T13:42:36.273Z"
      },
      {
        "duration": 7,
        "start_time": "2022-11-09T13:42:40.287Z"
      },
      {
        "duration": 6,
        "start_time": "2022-11-09T13:42:41.102Z"
      },
      {
        "duration": 24,
        "start_time": "2022-11-09T13:42:44.840Z"
      },
      {
        "duration": 22,
        "start_time": "2022-11-09T13:43:19.237Z"
      },
      {
        "duration": 4,
        "start_time": "2022-11-09T13:43:25.140Z"
      },
      {
        "duration": 13,
        "start_time": "2022-11-09T13:46:39.289Z"
      },
      {
        "duration": 15,
        "start_time": "2022-11-09T13:47:25.565Z"
      },
      {
        "duration": 6,
        "start_time": "2022-11-09T13:49:01.860Z"
      },
      {
        "duration": 158,
        "start_time": "2022-11-09T13:49:01.890Z"
      },
      {
        "duration": 7,
        "start_time": "2022-11-09T13:49:02.888Z"
      },
      {
        "duration": 1180,
        "start_time": "2022-11-09T13:49:10.359Z"
      },
      {
        "duration": 58,
        "start_time": "2022-11-09T13:49:11.542Z"
      },
      {
        "duration": 14,
        "start_time": "2022-11-09T13:49:11.602Z"
      },
      {
        "duration": 37,
        "start_time": "2022-11-09T13:49:11.618Z"
      },
      {
        "duration": 23,
        "start_time": "2022-11-09T13:49:11.657Z"
      },
      {
        "duration": 50,
        "start_time": "2022-11-09T13:49:11.682Z"
      },
      {
        "duration": 21,
        "start_time": "2022-11-09T13:49:11.734Z"
      },
      {
        "duration": 50,
        "start_time": "2022-11-09T13:49:11.756Z"
      },
      {
        "duration": 38,
        "start_time": "2022-11-09T13:49:11.808Z"
      },
      {
        "duration": 31,
        "start_time": "2022-11-09T13:49:11.848Z"
      },
      {
        "duration": 28,
        "start_time": "2022-11-09T13:49:11.881Z"
      },
      {
        "duration": 29,
        "start_time": "2022-11-09T13:49:11.911Z"
      },
      {
        "duration": 35,
        "start_time": "2022-11-09T13:49:11.942Z"
      },
      {
        "duration": 41,
        "start_time": "2022-11-09T13:49:11.982Z"
      },
      {
        "duration": 350,
        "start_time": "2022-11-09T13:49:12.024Z"
      },
      {
        "duration": 10,
        "start_time": "2022-11-09T13:49:12.376Z"
      },
      {
        "duration": 20,
        "start_time": "2022-11-09T13:49:12.388Z"
      },
      {
        "duration": 15,
        "start_time": "2022-11-09T13:49:12.410Z"
      },
      {
        "duration": 16,
        "start_time": "2022-11-09T13:49:12.426Z"
      },
      {
        "duration": 11,
        "start_time": "2022-11-09T13:49:12.444Z"
      },
      {
        "duration": 125,
        "start_time": "2022-11-09T13:49:12.456Z"
      },
      {
        "duration": 15,
        "start_time": "2022-11-09T13:49:12.583Z"
      },
      {
        "duration": 4,
        "start_time": "2022-11-09T13:49:12.600Z"
      },
      {
        "duration": 26,
        "start_time": "2022-11-09T13:49:12.606Z"
      },
      {
        "duration": 6,
        "start_time": "2022-11-09T13:49:12.633Z"
      },
      {
        "duration": 14,
        "start_time": "2022-11-09T13:49:12.641Z"
      },
      {
        "duration": 9,
        "start_time": "2022-11-09T13:49:12.656Z"
      },
      {
        "duration": 191,
        "start_time": "2022-11-09T13:49:12.667Z"
      },
      {
        "duration": 132,
        "start_time": "2022-11-09T13:49:12.860Z"
      },
      {
        "duration": 7,
        "start_time": "2022-11-09T13:49:12.993Z"
      },
      {
        "duration": 16,
        "start_time": "2022-11-09T13:49:13.002Z"
      },
      {
        "duration": 255,
        "start_time": "2022-11-09T13:49:13.032Z"
      },
      {
        "duration": 253,
        "start_time": "2022-11-09T13:49:13.288Z"
      },
      {
        "duration": 6,
        "start_time": "2022-11-09T13:49:13.543Z"
      },
      {
        "duration": 343,
        "start_time": "2022-11-09T13:49:13.550Z"
      },
      {
        "duration": 312,
        "start_time": "2022-11-09T13:49:13.895Z"
      },
      {
        "duration": 379,
        "start_time": "2022-11-09T13:49:14.209Z"
      },
      {
        "duration": 8,
        "start_time": "2022-11-09T13:49:14.590Z"
      },
      {
        "duration": 17,
        "start_time": "2022-11-09T13:49:14.600Z"
      },
      {
        "duration": 203,
        "start_time": "2022-11-09T13:49:14.619Z"
      },
      {
        "duration": 5,
        "start_time": "2022-11-09T13:49:14.830Z"
      },
      {
        "duration": 638,
        "start_time": "2022-11-09T13:49:14.837Z"
      },
      {
        "duration": 5,
        "start_time": "2022-11-09T13:49:15.477Z"
      },
      {
        "duration": 149,
        "start_time": "2022-11-09T13:49:15.484Z"
      },
      {
        "duration": 56,
        "start_time": "2022-11-09T13:49:15.635Z"
      },
      {
        "duration": 74,
        "start_time": "2022-11-09T13:49:15.693Z"
      },
      {
        "duration": 71,
        "start_time": "2022-11-09T13:49:15.769Z"
      },
      {
        "duration": 20,
        "start_time": "2022-11-09T13:49:15.842Z"
      },
      {
        "duration": 143,
        "start_time": "2022-11-09T13:49:15.864Z"
      },
      {
        "duration": 7,
        "start_time": "2022-11-09T13:49:16.009Z"
      },
      {
        "duration": 38,
        "start_time": "2022-11-09T13:49:16.018Z"
      },
      {
        "duration": 6,
        "start_time": "2022-11-09T13:49:16.058Z"
      },
      {
        "duration": 15,
        "start_time": "2022-11-09T13:49:16.066Z"
      },
      {
        "duration": 22,
        "start_time": "2022-11-09T13:49:16.083Z"
      },
      {
        "duration": 30,
        "start_time": "2022-11-09T13:49:16.107Z"
      },
      {
        "duration": 12,
        "start_time": "2022-11-09T13:49:16.139Z"
      },
      {
        "duration": 34,
        "start_time": "2022-11-09T13:49:16.152Z"
      },
      {
        "duration": 30,
        "start_time": "2022-11-09T13:49:16.188Z"
      },
      {
        "duration": 22,
        "start_time": "2022-11-09T13:49:16.220Z"
      },
      {
        "duration": 4,
        "start_time": "2022-11-09T13:49:16.244Z"
      },
      {
        "duration": 174,
        "start_time": "2022-11-09T13:49:16.250Z"
      },
      {
        "duration": 9,
        "start_time": "2022-11-09T13:49:16.425Z"
      },
      {
        "duration": 25,
        "start_time": "2022-11-09T13:49:16.435Z"
      },
      {
        "duration": 25,
        "start_time": "2022-11-09T13:49:16.462Z"
      },
      {
        "duration": 552,
        "start_time": "2022-11-09T13:49:16.489Z"
      },
      {
        "duration": 354,
        "start_time": "2022-11-09T13:49:17.043Z"
      },
      {
        "duration": 382,
        "start_time": "2022-11-09T13:49:17.399Z"
      },
      {
        "duration": 78,
        "start_time": "2022-11-09T13:50:13.256Z"
      },
      {
        "duration": 1194,
        "start_time": "2022-11-09T13:50:26.613Z"
      },
      {
        "duration": 58,
        "start_time": "2022-11-09T13:50:27.809Z"
      },
      {
        "duration": 13,
        "start_time": "2022-11-09T13:50:27.869Z"
      },
      {
        "duration": 13,
        "start_time": "2022-11-09T13:50:27.884Z"
      },
      {
        "duration": 23,
        "start_time": "2022-11-09T13:50:27.899Z"
      },
      {
        "duration": 15,
        "start_time": "2022-11-09T13:50:27.924Z"
      },
      {
        "duration": 14,
        "start_time": "2022-11-09T13:50:27.941Z"
      },
      {
        "duration": 15,
        "start_time": "2022-11-09T13:50:27.957Z"
      },
      {
        "duration": 12,
        "start_time": "2022-11-09T13:50:27.974Z"
      },
      {
        "duration": 24,
        "start_time": "2022-11-09T13:50:27.988Z"
      },
      {
        "duration": 15,
        "start_time": "2022-11-09T13:50:28.014Z"
      },
      {
        "duration": 18,
        "start_time": "2022-11-09T13:50:28.030Z"
      },
      {
        "duration": 35,
        "start_time": "2022-11-09T13:50:28.050Z"
      },
      {
        "duration": 10,
        "start_time": "2022-11-09T13:50:28.088Z"
      },
      {
        "duration": 355,
        "start_time": "2022-11-09T13:50:28.099Z"
      },
      {
        "duration": 9,
        "start_time": "2022-11-09T13:50:28.456Z"
      },
      {
        "duration": 15,
        "start_time": "2022-11-09T13:50:28.467Z"
      },
      {
        "duration": 17,
        "start_time": "2022-11-09T13:50:28.484Z"
      },
      {
        "duration": 14,
        "start_time": "2022-11-09T13:50:28.503Z"
      },
      {
        "duration": 9,
        "start_time": "2022-11-09T13:50:28.519Z"
      },
      {
        "duration": 116,
        "start_time": "2022-11-09T13:50:28.530Z"
      },
      {
        "duration": 16,
        "start_time": "2022-11-09T13:50:28.647Z"
      },
      {
        "duration": 7,
        "start_time": "2022-11-09T13:50:28.664Z"
      },
      {
        "duration": 19,
        "start_time": "2022-11-09T13:50:28.672Z"
      },
      {
        "duration": 16,
        "start_time": "2022-11-09T13:50:28.693Z"
      },
      {
        "duration": 16,
        "start_time": "2022-11-09T13:50:28.710Z"
      },
      {
        "duration": 6,
        "start_time": "2022-11-09T13:50:28.731Z"
      },
      {
        "duration": 183,
        "start_time": "2022-11-09T13:50:28.738Z"
      },
      {
        "duration": 135,
        "start_time": "2022-11-09T13:50:28.922Z"
      },
      {
        "duration": 6,
        "start_time": "2022-11-09T13:50:29.059Z"
      },
      {
        "duration": 19,
        "start_time": "2022-11-09T13:50:29.066Z"
      },
      {
        "duration": 244,
        "start_time": "2022-11-09T13:50:29.087Z"
      },
      {
        "duration": 257,
        "start_time": "2022-11-09T13:50:29.333Z"
      },
      {
        "duration": 7,
        "start_time": "2022-11-09T13:50:29.592Z"
      },
      {
        "duration": 413,
        "start_time": "2022-11-09T13:50:29.601Z"
      },
      {
        "duration": 261,
        "start_time": "2022-11-09T13:50:30.015Z"
      },
      {
        "duration": 313,
        "start_time": "2022-11-09T13:50:30.278Z"
      },
      {
        "duration": 7,
        "start_time": "2022-11-09T13:50:30.593Z"
      },
      {
        "duration": 20,
        "start_time": "2022-11-09T13:50:30.602Z"
      },
      {
        "duration": 202,
        "start_time": "2022-11-09T13:50:30.623Z"
      },
      {
        "duration": 7,
        "start_time": "2022-11-09T13:50:30.830Z"
      },
      {
        "duration": 598,
        "start_time": "2022-11-09T13:50:30.838Z"
      },
      {
        "duration": 6,
        "start_time": "2022-11-09T13:50:31.438Z"
      },
      {
        "duration": 145,
        "start_time": "2022-11-09T13:50:31.446Z"
      },
      {
        "duration": 66,
        "start_time": "2022-11-09T13:50:31.593Z"
      },
      {
        "duration": 94,
        "start_time": "2022-11-09T13:50:31.661Z"
      },
      {
        "duration": 67,
        "start_time": "2022-11-09T13:50:31.757Z"
      },
      {
        "duration": 23,
        "start_time": "2022-11-09T13:50:31.826Z"
      },
      {
        "duration": 156,
        "start_time": "2022-11-09T13:50:31.851Z"
      },
      {
        "duration": 7,
        "start_time": "2022-11-09T13:50:32.008Z"
      },
      {
        "duration": 24,
        "start_time": "2022-11-09T13:50:32.030Z"
      },
      {
        "duration": 5,
        "start_time": "2022-11-09T13:50:32.056Z"
      },
      {
        "duration": 20,
        "start_time": "2022-11-09T13:50:32.062Z"
      },
      {
        "duration": 12,
        "start_time": "2022-11-09T13:50:32.084Z"
      },
      {
        "duration": 10,
        "start_time": "2022-11-09T13:50:32.098Z"
      },
      {
        "duration": 26,
        "start_time": "2022-11-09T13:50:32.110Z"
      },
      {
        "duration": 28,
        "start_time": "2022-11-09T13:50:32.138Z"
      },
      {
        "duration": 4,
        "start_time": "2022-11-09T13:50:32.168Z"
      },
      {
        "duration": 14,
        "start_time": "2022-11-09T13:50:32.173Z"
      },
      {
        "duration": 4,
        "start_time": "2022-11-09T13:50:32.189Z"
      },
      {
        "duration": 195,
        "start_time": "2022-11-09T13:50:32.195Z"
      },
      {
        "duration": 7,
        "start_time": "2022-11-09T13:50:32.392Z"
      },
      {
        "duration": 9,
        "start_time": "2022-11-09T13:50:32.401Z"
      },
      {
        "duration": 28,
        "start_time": "2022-11-09T13:50:32.412Z"
      },
      {
        "duration": 616,
        "start_time": "2022-11-09T13:50:32.442Z"
      },
      {
        "duration": 352,
        "start_time": "2022-11-09T13:50:33.060Z"
      },
      {
        "duration": 401,
        "start_time": "2022-11-09T13:50:33.414Z"
      },
      {
        "duration": 7,
        "start_time": "2022-11-09T13:52:41.451Z"
      },
      {
        "duration": 29,
        "start_time": "2022-11-09T13:53:38.405Z"
      },
      {
        "duration": 9,
        "start_time": "2022-11-09T13:53:52.220Z"
      },
      {
        "duration": 6,
        "start_time": "2022-11-09T13:54:05.653Z"
      },
      {
        "duration": 4,
        "start_time": "2022-11-09T13:54:21.785Z"
      },
      {
        "duration": 1095,
        "start_time": "2022-11-09T13:58:18.403Z"
      },
      {
        "duration": 63,
        "start_time": "2022-11-09T13:58:19.500Z"
      },
      {
        "duration": 17,
        "start_time": "2022-11-09T13:58:19.565Z"
      },
      {
        "duration": 20,
        "start_time": "2022-11-09T13:58:19.584Z"
      },
      {
        "duration": 10,
        "start_time": "2022-11-09T13:58:19.607Z"
      },
      {
        "duration": 15,
        "start_time": "2022-11-09T13:58:19.618Z"
      },
      {
        "duration": 5,
        "start_time": "2022-11-09T13:58:19.634Z"
      },
      {
        "duration": 11,
        "start_time": "2022-11-09T13:58:19.641Z"
      },
      {
        "duration": 7,
        "start_time": "2022-11-09T13:58:19.653Z"
      },
      {
        "duration": 9,
        "start_time": "2022-11-09T13:58:19.662Z"
      },
      {
        "duration": 9,
        "start_time": "2022-11-09T13:58:19.672Z"
      },
      {
        "duration": 15,
        "start_time": "2022-11-09T13:58:19.683Z"
      },
      {
        "duration": 30,
        "start_time": "2022-11-09T13:58:19.700Z"
      },
      {
        "duration": 8,
        "start_time": "2022-11-09T13:58:19.734Z"
      },
      {
        "duration": 343,
        "start_time": "2022-11-09T13:58:19.743Z"
      },
      {
        "duration": 9,
        "start_time": "2022-11-09T13:58:20.088Z"
      },
      {
        "duration": 7,
        "start_time": "2022-11-09T13:58:20.100Z"
      },
      {
        "duration": 12,
        "start_time": "2022-11-09T13:58:20.109Z"
      },
      {
        "duration": 10,
        "start_time": "2022-11-09T13:58:20.123Z"
      },
      {
        "duration": 6,
        "start_time": "2022-11-09T13:58:20.134Z"
      },
      {
        "duration": 111,
        "start_time": "2022-11-09T13:58:20.141Z"
      },
      {
        "duration": 15,
        "start_time": "2022-11-09T13:58:20.253Z"
      },
      {
        "duration": 4,
        "start_time": "2022-11-09T13:58:20.270Z"
      },
      {
        "duration": 12,
        "start_time": "2022-11-09T13:58:20.276Z"
      },
      {
        "duration": 7,
        "start_time": "2022-11-09T13:58:20.290Z"
      },
      {
        "duration": 33,
        "start_time": "2022-11-09T13:58:20.299Z"
      },
      {
        "duration": 6,
        "start_time": "2022-11-09T13:58:20.333Z"
      },
      {
        "duration": 171,
        "start_time": "2022-11-09T13:58:20.341Z"
      },
      {
        "duration": 128,
        "start_time": "2022-11-09T13:58:20.514Z"
      },
      {
        "duration": 6,
        "start_time": "2022-11-09T13:58:20.644Z"
      },
      {
        "duration": 8,
        "start_time": "2022-11-09T13:58:20.651Z"
      },
      {
        "duration": 236,
        "start_time": "2022-11-09T13:58:20.661Z"
      },
      {
        "duration": 231,
        "start_time": "2022-11-09T13:58:20.899Z"
      },
      {
        "duration": 6,
        "start_time": "2022-11-09T13:58:21.132Z"
      },
      {
        "duration": 345,
        "start_time": "2022-11-09T13:58:21.139Z"
      },
      {
        "duration": 251,
        "start_time": "2022-11-09T13:58:21.486Z"
      },
      {
        "duration": 314,
        "start_time": "2022-11-09T13:58:21.738Z"
      },
      {
        "duration": 7,
        "start_time": "2022-11-09T13:58:22.054Z"
      },
      {
        "duration": 8,
        "start_time": "2022-11-09T13:58:22.062Z"
      },
      {
        "duration": 171,
        "start_time": "2022-11-09T13:58:22.072Z"
      },
      {
        "duration": 5,
        "start_time": "2022-11-09T13:58:22.247Z"
      },
      {
        "duration": 566,
        "start_time": "2022-11-09T13:58:22.254Z"
      },
      {
        "duration": 12,
        "start_time": "2022-11-09T13:58:22.822Z"
      },
      {
        "duration": 123,
        "start_time": "2022-11-09T13:58:22.835Z"
      },
      {
        "duration": 48,
        "start_time": "2022-11-09T13:58:22.960Z"
      },
      {
        "duration": 72,
        "start_time": "2022-11-09T13:58:23.009Z"
      },
      {
        "duration": 68,
        "start_time": "2022-11-09T13:58:23.083Z"
      },
      {
        "duration": 20,
        "start_time": "2022-11-09T13:58:23.153Z"
      },
      {
        "duration": 143,
        "start_time": "2022-11-09T13:58:23.175Z"
      },
      {
        "duration": 12,
        "start_time": "2022-11-09T13:58:23.320Z"
      },
      {
        "duration": 23,
        "start_time": "2022-11-09T13:58:23.333Z"
      },
      {
        "duration": 4,
        "start_time": "2022-11-09T13:58:23.358Z"
      },
      {
        "duration": 12,
        "start_time": "2022-11-09T13:58:23.363Z"
      },
      {
        "duration": 11,
        "start_time": "2022-11-09T13:58:23.376Z"
      },
      {
        "duration": 6,
        "start_time": "2022-11-09T13:58:23.388Z"
      },
      {
        "duration": 37,
        "start_time": "2022-11-09T13:58:23.395Z"
      },
      {
        "duration": 27,
        "start_time": "2022-11-09T13:58:23.434Z"
      },
      {
        "duration": 4,
        "start_time": "2022-11-09T13:58:23.463Z"
      },
      {
        "duration": 17,
        "start_time": "2022-11-09T13:58:23.469Z"
      },
      {
        "duration": 5,
        "start_time": "2022-11-09T13:58:23.487Z"
      },
      {
        "duration": 179,
        "start_time": "2022-11-09T13:58:23.493Z"
      },
      {
        "duration": 8,
        "start_time": "2022-11-09T13:58:23.674Z"
      },
      {
        "duration": 13,
        "start_time": "2022-11-09T13:58:23.684Z"
      },
      {
        "duration": 8,
        "start_time": "2022-11-09T13:58:23.698Z"
      },
      {
        "duration": 628,
        "start_time": "2022-11-09T13:58:23.707Z"
      },
      {
        "duration": 348,
        "start_time": "2022-11-09T13:58:24.337Z"
      },
      {
        "duration": 330,
        "start_time": "2022-11-09T13:58:24.686Z"
      }
    ],
    "kernelspec": {
      "display_name": "Python 3 (ipykernel)",
      "language": "python",
      "name": "python3"
    },
    "language_info": {
      "codemirror_mode": {
        "name": "ipython",
        "version": 3
      },
      "file_extension": ".py",
      "mimetype": "text/x-python",
      "name": "python",
      "nbconvert_exporter": "python",
      "pygments_lexer": "ipython3",
      "version": "3.9.5"
    },
    "toc": {
      "base_numbering": 1,
      "nav_menu": {},
      "number_sections": true,
      "sideBar": true,
      "skip_h1_title": true,
      "title_cell": "Table of Contents",
      "title_sidebar": "Contents",
      "toc_cell": false,
      "toc_position": {},
      "toc_section_display": true,
      "toc_window_display": true
    },
    "colab": {
      "provenance": [],
      "collapsed_sections": [
        "l8QvaGftzcX8",
        "N9N991IQzcYE",
        "jL6oyPeozcYF",
        "1qddZmchzcYG",
        "oS2hYyT2zcYG"
      ]
    }
  },
  "nbformat": 4,
  "nbformat_minor": 0
}